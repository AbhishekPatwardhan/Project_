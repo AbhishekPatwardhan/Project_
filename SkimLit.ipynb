{
  "nbformat": 4,
  "nbformat_minor": 0,
  "metadata": {
    "colab": {
      "provenance": [],
      "gpuType": "T4",
      "authorship_tag": "ABX9TyNa22rBx6rQyvTCtC0R2USI",
      "include_colab_link": true
    },
    "kernelspec": {
      "name": "python3",
      "display_name": "Python 3"
    },
    "language_info": {
      "name": "python"
    },
    "accelerator": "GPU"
  },
  "cells": [
    {
      "cell_type": "markdown",
      "metadata": {
        "id": "view-in-github",
        "colab_type": "text"
      },
      "source": [
        "<a href=\"https://colab.research.google.com/github/AbhishekPatwardhan/Project_/blob/main/SkimLit.ipynb\" target=\"_parent\"><img src=\"https://colab.research.google.com/assets/colab-badge.svg\" alt=\"Open In Colab\"/></a>"
      ]
    },
    {
      "cell_type": "markdown",
      "source": [
        "Dataset we are using is from the PubMed 200k RCT: a Dataset for Sequential Sentence Classification in Medical Abstracts.\n",
        "\n",
        "The dataset consists of approximately 200,000 abstracts of randomized controlled trials, totaling 2.3 million sentences. Each sentence of each abstract is labeled with their role in the abstract using one of the following classes: background, objective, method, result, or conclusion.\n",
        "\n",
        "Automatically classifying each sentence in an abstract would help researchers read abstracts more efficiently, especially in fields where abstracts may be long, such as the medical field.\n",
        "\n",
        "the authors of the paper have made the data they used for their research availably publically and for free in the form of .txt files on GitHub.\n",
        "\n",
        "We can copy them to our local directory using git clone https://github.com/Franck-Dernoncourt/pubmed-rct."
      ],
      "metadata": {
        "id": "QC_4kScLyPbW"
      }
    },
    {
      "cell_type": "code",
      "source": [
        "! git clone https://github.com/Franck-Dernoncourt/pubmed-rct.git\n",
        "! ls pubmed-rct"
      ],
      "metadata": {
        "colab": {
          "base_uri": "https://localhost:8080/"
        },
        "id": "YP3T_VyXy1zu",
        "outputId": "e77be1f7-34a5-4a66-bd37-913f9976c282"
      },
      "execution_count": null,
      "outputs": [
        {
          "output_type": "stream",
          "name": "stdout",
          "text": [
            "Cloning into 'pubmed-rct'...\n",
            "remote: Enumerating objects: 33, done.\u001b[K\n",
            "remote: Counting objects: 100% (8/8), done.\u001b[K\n",
            "remote: Compressing objects: 100% (3/3), done.\u001b[K\n",
            "remote: Total 33 (delta 5), reused 5 (delta 5), pack-reused 25\u001b[K\n",
            "Receiving objects: 100% (33/33), 177.08 MiB | 10.52 MiB/s, done.\n",
            "Resolving deltas: 100% (12/12), done.\n",
            "PubMed_200k_RCT\n",
            "PubMed_200k_RCT_numbers_replaced_with_at_sign\n",
            "PubMed_20k_RCT\n",
            "PubMed_20k_RCT_numbers_replaced_with_at_sign\n",
            "README.md\n"
          ]
        }
      ]
    },
    {
      "cell_type": "markdown",
      "source": [
        "As a machine laerning practioner we should always try to train the the model on 10% of the data so as the model will learn the feature more accurately.\n",
        "\n",
        "Here the authors of the paper also done that by splitting the complete \"PubMed_200k_RCT\" to \"PubMed_20k_RCT\""
      ],
      "metadata": {
        "id": "4UrzMWVlzCG-"
      }
    },
    {
      "cell_type": "code",
      "source": [
        "# Let's check the file contents.\n",
        "\n",
        "! ls pubmed-rct/PubMed_20k_RCT_numbers_replaced_with_at_sign"
      ],
      "metadata": {
        "colab": {
          "base_uri": "https://localhost:8080/"
        },
        "id": "sxM1wOgJ0NMT",
        "outputId": "3b47183e-05d1-418a-f344-f81c39592ef2"
      },
      "execution_count": null,
      "outputs": [
        {
          "output_type": "stream",
          "name": "stdout",
          "text": [
            "dev.txt  test.txt  train.txt\n"
          ]
        }
      ]
    },
    {
      "cell_type": "markdown",
      "source": [
        "PubMed_20k_RCT_numbers_replaced_with_at_sign consist up of dev.txt which is the validationdataset ,train.text as traindataset , test.txt as the test dataset"
      ],
      "metadata": {
        "id": "VwFCWzE-0mHH"
      }
    },
    {
      "cell_type": "code",
      "source": [
        "data_dir = \"pubmed-rct/PubMed_20k_RCT_numbers_replaced_with_at_sign/\""
      ],
      "metadata": {
        "id": "SfqMpCWL8_84"
      },
      "execution_count": null,
      "outputs": []
    },
    {
      "cell_type": "code",
      "source": [
        "# Create function to read the lines of a document\n",
        "\n",
        "def get_lines(filename):\n",
        "  file=open(filename,\"r\")\n",
        "  return file.readlines()"
      ],
      "metadata": {
        "id": "jvOMxEzj71dh"
      },
      "execution_count": null,
      "outputs": []
    },
    {
      "cell_type": "markdown",
      "source": [
        "file.readlines() is a inbuilt function in python which will covnvert each sentence from the text file as the element of list.\n"
      ],
      "metadata": {
        "id": "HJ_cYL3V-K9N"
      }
    },
    {
      "cell_type": "code",
      "source": [
        "train_lines=get_lines(data_dir+'train.txt')\n",
        "train_lines[:10]"
      ],
      "metadata": {
        "colab": {
          "base_uri": "https://localhost:8080/"
        },
        "id": "n2JqDyBk8g4s",
        "outputId": "00956bc5-6ae2-460a-b77c-ac1e6cee29f7"
      },
      "execution_count": null,
      "outputs": [
        {
          "output_type": "execute_result",
          "data": {
            "text/plain": [
              "['###24293578\\n',\n",
              " 'OBJECTIVE\\tTo investigate the efficacy of @ weeks of daily low-dose oral prednisolone in improving pain , mobility , and systemic low-grade inflammation in the short term and whether the effect would be sustained at @ weeks in older adults with moderate to severe knee osteoarthritis ( OA ) .\\n',\n",
              " 'METHODS\\tA total of @ patients with primary knee OA were randomized @:@ ; @ received @ mg/day of prednisolone and @ received placebo for @ weeks .\\n',\n",
              " 'METHODS\\tOutcome measures included pain reduction and improvement in function scores and systemic inflammation markers .\\n',\n",
              " 'METHODS\\tPain was assessed using the visual analog pain scale ( @-@ mm ) .\\n',\n",
              " 'METHODS\\tSecondary outcome measures included the Western Ontario and McMaster Universities Osteoarthritis Index scores , patient global assessment ( PGA ) of the severity of knee OA , and @-min walk distance ( @MWD ) .\\n',\n",
              " 'METHODS\\tSerum levels of interleukin @ ( IL-@ ) , IL-@ , tumor necrosis factor ( TNF ) - , and high-sensitivity C-reactive protein ( hsCRP ) were measured .\\n',\n",
              " 'RESULTS\\tThere was a clinically relevant reduction in the intervention group compared to the placebo group for knee pain , physical function , PGA , and @MWD at @ weeks .\\n',\n",
              " 'RESULTS\\tThe mean difference between treatment arms ( @ % CI ) was @ ( @-@ @ ) , p < @ ; @ ( @-@ @ ) , p < @ ; @ ( @-@ @ ) , p < @ ; and @ ( @-@ @ ) , p < @ , respectively .\\n',\n",
              " 'RESULTS\\tFurther , there was a clinically relevant reduction in the serum levels of IL-@ , IL-@ , TNF - , and hsCRP at @ weeks in the intervention group when compared to the placebo group .\\n']"
            ]
          },
          "metadata": {},
          "execution_count": 5
        }
      ]
    },
    {
      "cell_type": "markdown",
      "source": [
        "Data Preprocessing"
      ],
      "metadata": {
        "id": "hMZVoxCa8s6J"
      }
    },
    {
      "cell_type": "code",
      "source": [
        "def preprocess_text_with_line_numbers(filename):\n",
        "  \"\"\"Returns a list of dictionaries of abstract line data.\n",
        "\n",
        "  Takes in filename, reads its contents and sorts through each line,\n",
        "  extracting things like the target label, the text of the sentence,\n",
        "  how many sentences are in the current abstract and what sentence number\n",
        "  the target line is.\n",
        "\n",
        "  Args:\n",
        "      filename: a string of the target text file to read and extract line data\n",
        "      from.\n",
        "\n",
        "  Returns:\n",
        "      A list of dictionaries each containing a line from an abstract,\n",
        "      the lines label, the lines position in the abstract and the total number\n",
        "      of lines in the abstract where the line is from. For example:\n",
        "\n",
        "      [{\"target\": 'CONCLUSION',\n",
        "        \"text\": The study couldn't have gone better, turns out people are kinder than you think\",\n",
        "        \"line_number\": 8,\n",
        "        \"total_lines\": 8}]\n",
        "  \"\"\"\n",
        "  input_lines=get_lines(filename) # get all lines from the abstract as the elements of the list\n",
        "  abstract_lines=\"\"\n",
        "  abstract_list=[] # we have to return the list of dictonaries\n",
        "  # Travesre through the input_lines to get a abstract\n",
        "  for lines in input_lines:\n",
        "    if lines.startswith('###'): # Clearly stated by the authors that the abstract will satrt with the '###' end with '\\n'\n",
        "        abstract_lines=''\n",
        "    elif lines.isspace():\n",
        "      abstract_lines_split=abstract_lines.splitlines() #splits a string into a list. The splitting is done at line breaks.\n",
        "       # Traverse through single abstract\n",
        "      for abstract_line_no,sentence in enumerate(abstract_lines_split):\n",
        "             line_data={}\n",
        "            # here the label and the sentence is seperated using the '\\t'\n",
        "             sentence_split=sentence.split('\\t')\n",
        "             line_data['target']=sentence_split[0]\n",
        "             line_data['text'] =sentence_split[1].lower()\n",
        "             line_data['line_number']=abstract_line_no\n",
        "             line_data['total_lines']=len(abstract_lines_split)-1\n",
        "             abstract_list.append(line_data)\n",
        "    else: # if the above conditions aren't fulfilled, the line contains a labelled sentence\n",
        "      abstract_lines += lines\n",
        "  return abstract_list\n",
        "\n",
        "\n",
        "\n",
        "\n",
        "\n",
        "\n",
        "\n"
      ],
      "metadata": {
        "id": "F0n3alTAC5EA"
      },
      "execution_count": null,
      "outputs": []
    },
    {
      "cell_type": "code",
      "source": [
        "train=preprocess_text_with_line_numbers(data_dir+'train.txt')\n",
        "validation=preprocess_text_with_line_numbers(data_dir+'dev.txt')\n",
        "test=preprocess_text_with_line_numbers(data_dir+'test.txt')\n",
        "train[:12]"
      ],
      "metadata": {
        "colab": {
          "base_uri": "https://localhost:8080/"
        },
        "id": "h2ojlf5iLo4A",
        "outputId": "0608cee0-ecf6-4798-bc54-5d58633b0a10"
      },
      "execution_count": null,
      "outputs": [
        {
          "output_type": "execute_result",
          "data": {
            "text/plain": [
              "[{'target': 'OBJECTIVE',\n",
              "  'text': 'to investigate the efficacy of @ weeks of daily low-dose oral prednisolone in improving pain , mobility , and systemic low-grade inflammation in the short term and whether the effect would be sustained at @ weeks in older adults with moderate to severe knee osteoarthritis ( oa ) .',\n",
              "  'line_number': 0,\n",
              "  'total_lines': 11},\n",
              " {'target': 'METHODS',\n",
              "  'text': 'a total of @ patients with primary knee oa were randomized @:@ ; @ received @ mg/day of prednisolone and @ received placebo for @ weeks .',\n",
              "  'line_number': 1,\n",
              "  'total_lines': 11},\n",
              " {'target': 'METHODS',\n",
              "  'text': 'outcome measures included pain reduction and improvement in function scores and systemic inflammation markers .',\n",
              "  'line_number': 2,\n",
              "  'total_lines': 11},\n",
              " {'target': 'METHODS',\n",
              "  'text': 'pain was assessed using the visual analog pain scale ( @-@ mm ) .',\n",
              "  'line_number': 3,\n",
              "  'total_lines': 11},\n",
              " {'target': 'METHODS',\n",
              "  'text': 'secondary outcome measures included the western ontario and mcmaster universities osteoarthritis index scores , patient global assessment ( pga ) of the severity of knee oa , and @-min walk distance ( @mwd ) .',\n",
              "  'line_number': 4,\n",
              "  'total_lines': 11},\n",
              " {'target': 'METHODS',\n",
              "  'text': 'serum levels of interleukin @ ( il-@ ) , il-@ , tumor necrosis factor ( tnf ) - , and high-sensitivity c-reactive protein ( hscrp ) were measured .',\n",
              "  'line_number': 5,\n",
              "  'total_lines': 11},\n",
              " {'target': 'RESULTS',\n",
              "  'text': 'there was a clinically relevant reduction in the intervention group compared to the placebo group for knee pain , physical function , pga , and @mwd at @ weeks .',\n",
              "  'line_number': 6,\n",
              "  'total_lines': 11},\n",
              " {'target': 'RESULTS',\n",
              "  'text': 'the mean difference between treatment arms ( @ % ci ) was @ ( @-@ @ ) , p < @ ; @ ( @-@ @ ) , p < @ ; @ ( @-@ @ ) , p < @ ; and @ ( @-@ @ ) , p < @ , respectively .',\n",
              "  'line_number': 7,\n",
              "  'total_lines': 11},\n",
              " {'target': 'RESULTS',\n",
              "  'text': 'further , there was a clinically relevant reduction in the serum levels of il-@ , il-@ , tnf - , and hscrp at @ weeks in the intervention group when compared to the placebo group .',\n",
              "  'line_number': 8,\n",
              "  'total_lines': 11},\n",
              " {'target': 'RESULTS',\n",
              "  'text': 'these differences remained significant at @ weeks .',\n",
              "  'line_number': 9,\n",
              "  'total_lines': 11},\n",
              " {'target': 'RESULTS',\n",
              "  'text': 'the outcome measures in rheumatology clinical trials-osteoarthritis research society international responder rate was @ % in the intervention group and @ % in the placebo group ( p < @ ) .',\n",
              "  'line_number': 10,\n",
              "  'total_lines': 11},\n",
              " {'target': 'CONCLUSIONS',\n",
              "  'text': 'low-dose oral prednisolone had both a short-term and a longer sustained effect resulting in less knee pain , better physical function , and attenuation of systemic inflammation in older patients with knee oa ( clinicaltrials.gov identifier nct@ ) .',\n",
              "  'line_number': 11,\n",
              "  'total_lines': 11}]"
            ]
          },
          "metadata": {},
          "execution_count": 7
        }
      ]
    },
    {
      "cell_type": "markdown",
      "source": [
        "We are going to convert the data into the csv using pandas as handaling csv files are bit more easy."
      ],
      "metadata": {
        "id": "PfTSerjlL3d-"
      }
    },
    {
      "cell_type": "code",
      "source": [
        "import pandas as pd\n",
        "train_df=pd.DataFrame(train)\n",
        "test_df=pd.DataFrame(test)\n",
        "val_df=pd.DataFrame(validation)"
      ],
      "metadata": {
        "id": "k_snLMnsNP2w"
      },
      "execution_count": null,
      "outputs": []
    },
    {
      "cell_type": "code",
      "source": [
        "train_df.head()\n"
      ],
      "metadata": {
        "colab": {
          "base_uri": "https://localhost:8080/",
          "height": 206
        },
        "id": "CLw5g7uoNzd0",
        "outputId": "a1a11acb-ea55-4e25-c07f-050a1787f7f2"
      },
      "execution_count": null,
      "outputs": [
        {
          "output_type": "execute_result",
          "data": {
            "text/plain": [
              "      target                                               text  line_number  \\\n",
              "0  OBJECTIVE  to investigate the efficacy of @ weeks of dail...            0   \n",
              "1    METHODS  a total of @ patients with primary knee oa wer...            1   \n",
              "2    METHODS  outcome measures included pain reduction and i...            2   \n",
              "3    METHODS  pain was assessed using the visual analog pain...            3   \n",
              "4    METHODS  secondary outcome measures included the wester...            4   \n",
              "\n",
              "   total_lines  \n",
              "0           11  \n",
              "1           11  \n",
              "2           11  \n",
              "3           11  \n",
              "4           11  "
            ],
            "text/html": [
              "\n",
              "  <div id=\"df-8520a7cc-684c-4b34-801d-295b0ce7ad34\" class=\"colab-df-container\">\n",
              "    <div>\n",
              "<style scoped>\n",
              "    .dataframe tbody tr th:only-of-type {\n",
              "        vertical-align: middle;\n",
              "    }\n",
              "\n",
              "    .dataframe tbody tr th {\n",
              "        vertical-align: top;\n",
              "    }\n",
              "\n",
              "    .dataframe thead th {\n",
              "        text-align: right;\n",
              "    }\n",
              "</style>\n",
              "<table border=\"1\" class=\"dataframe\">\n",
              "  <thead>\n",
              "    <tr style=\"text-align: right;\">\n",
              "      <th></th>\n",
              "      <th>target</th>\n",
              "      <th>text</th>\n",
              "      <th>line_number</th>\n",
              "      <th>total_lines</th>\n",
              "    </tr>\n",
              "  </thead>\n",
              "  <tbody>\n",
              "    <tr>\n",
              "      <th>0</th>\n",
              "      <td>OBJECTIVE</td>\n",
              "      <td>to investigate the efficacy of @ weeks of dail...</td>\n",
              "      <td>0</td>\n",
              "      <td>11</td>\n",
              "    </tr>\n",
              "    <tr>\n",
              "      <th>1</th>\n",
              "      <td>METHODS</td>\n",
              "      <td>a total of @ patients with primary knee oa wer...</td>\n",
              "      <td>1</td>\n",
              "      <td>11</td>\n",
              "    </tr>\n",
              "    <tr>\n",
              "      <th>2</th>\n",
              "      <td>METHODS</td>\n",
              "      <td>outcome measures included pain reduction and i...</td>\n",
              "      <td>2</td>\n",
              "      <td>11</td>\n",
              "    </tr>\n",
              "    <tr>\n",
              "      <th>3</th>\n",
              "      <td>METHODS</td>\n",
              "      <td>pain was assessed using the visual analog pain...</td>\n",
              "      <td>3</td>\n",
              "      <td>11</td>\n",
              "    </tr>\n",
              "    <tr>\n",
              "      <th>4</th>\n",
              "      <td>METHODS</td>\n",
              "      <td>secondary outcome measures included the wester...</td>\n",
              "      <td>4</td>\n",
              "      <td>11</td>\n",
              "    </tr>\n",
              "  </tbody>\n",
              "</table>\n",
              "</div>\n",
              "    <div class=\"colab-df-buttons\">\n",
              "\n",
              "  <div class=\"colab-df-container\">\n",
              "    <button class=\"colab-df-convert\" onclick=\"convertToInteractive('df-8520a7cc-684c-4b34-801d-295b0ce7ad34')\"\n",
              "            title=\"Convert this dataframe to an interactive table.\"\n",
              "            style=\"display:none;\">\n",
              "\n",
              "  <svg xmlns=\"http://www.w3.org/2000/svg\" height=\"24px\" viewBox=\"0 -960 960 960\">\n",
              "    <path d=\"M120-120v-720h720v720H120Zm60-500h600v-160H180v160Zm220 220h160v-160H400v160Zm0 220h160v-160H400v160ZM180-400h160v-160H180v160Zm440 0h160v-160H620v160ZM180-180h160v-160H180v160Zm440 0h160v-160H620v160Z\"/>\n",
              "  </svg>\n",
              "    </button>\n",
              "\n",
              "  <style>\n",
              "    .colab-df-container {\n",
              "      display:flex;\n",
              "      gap: 12px;\n",
              "    }\n",
              "\n",
              "    .colab-df-convert {\n",
              "      background-color: #E8F0FE;\n",
              "      border: none;\n",
              "      border-radius: 50%;\n",
              "      cursor: pointer;\n",
              "      display: none;\n",
              "      fill: #1967D2;\n",
              "      height: 32px;\n",
              "      padding: 0 0 0 0;\n",
              "      width: 32px;\n",
              "    }\n",
              "\n",
              "    .colab-df-convert:hover {\n",
              "      background-color: #E2EBFA;\n",
              "      box-shadow: 0px 1px 2px rgba(60, 64, 67, 0.3), 0px 1px 3px 1px rgba(60, 64, 67, 0.15);\n",
              "      fill: #174EA6;\n",
              "    }\n",
              "\n",
              "    .colab-df-buttons div {\n",
              "      margin-bottom: 4px;\n",
              "    }\n",
              "\n",
              "    [theme=dark] .colab-df-convert {\n",
              "      background-color: #3B4455;\n",
              "      fill: #D2E3FC;\n",
              "    }\n",
              "\n",
              "    [theme=dark] .colab-df-convert:hover {\n",
              "      background-color: #434B5C;\n",
              "      box-shadow: 0px 1px 3px 1px rgba(0, 0, 0, 0.15);\n",
              "      filter: drop-shadow(0px 1px 2px rgba(0, 0, 0, 0.3));\n",
              "      fill: #FFFFFF;\n",
              "    }\n",
              "  </style>\n",
              "\n",
              "    <script>\n",
              "      const buttonEl =\n",
              "        document.querySelector('#df-8520a7cc-684c-4b34-801d-295b0ce7ad34 button.colab-df-convert');\n",
              "      buttonEl.style.display =\n",
              "        google.colab.kernel.accessAllowed ? 'block' : 'none';\n",
              "\n",
              "      async function convertToInteractive(key) {\n",
              "        const element = document.querySelector('#df-8520a7cc-684c-4b34-801d-295b0ce7ad34');\n",
              "        const dataTable =\n",
              "          await google.colab.kernel.invokeFunction('convertToInteractive',\n",
              "                                                    [key], {});\n",
              "        if (!dataTable) return;\n",
              "\n",
              "        const docLinkHtml = 'Like what you see? Visit the ' +\n",
              "          '<a target=\"_blank\" href=https://colab.research.google.com/notebooks/data_table.ipynb>data table notebook</a>'\n",
              "          + ' to learn more about interactive tables.';\n",
              "        element.innerHTML = '';\n",
              "        dataTable['output_type'] = 'display_data';\n",
              "        await google.colab.output.renderOutput(dataTable, element);\n",
              "        const docLink = document.createElement('div');\n",
              "        docLink.innerHTML = docLinkHtml;\n",
              "        element.appendChild(docLink);\n",
              "      }\n",
              "    </script>\n",
              "  </div>\n",
              "\n",
              "\n",
              "<div id=\"df-133c865c-6ed6-48a4-af3a-5e2ee6e8ab64\">\n",
              "  <button class=\"colab-df-quickchart\" onclick=\"quickchart('df-133c865c-6ed6-48a4-af3a-5e2ee6e8ab64')\"\n",
              "            title=\"Suggest charts.\"\n",
              "            style=\"display:none;\">\n",
              "\n",
              "<svg xmlns=\"http://www.w3.org/2000/svg\" height=\"24px\"viewBox=\"0 0 24 24\"\n",
              "     width=\"24px\">\n",
              "    <g>\n",
              "        <path d=\"M19 3H5c-1.1 0-2 .9-2 2v14c0 1.1.9 2 2 2h14c1.1 0 2-.9 2-2V5c0-1.1-.9-2-2-2zM9 17H7v-7h2v7zm4 0h-2V7h2v10zm4 0h-2v-4h2v4z\"/>\n",
              "    </g>\n",
              "</svg>\n",
              "  </button>\n",
              "\n",
              "<style>\n",
              "  .colab-df-quickchart {\n",
              "      --bg-color: #E8F0FE;\n",
              "      --fill-color: #1967D2;\n",
              "      --hover-bg-color: #E2EBFA;\n",
              "      --hover-fill-color: #174EA6;\n",
              "      --disabled-fill-color: #AAA;\n",
              "      --disabled-bg-color: #DDD;\n",
              "  }\n",
              "\n",
              "  [theme=dark] .colab-df-quickchart {\n",
              "      --bg-color: #3B4455;\n",
              "      --fill-color: #D2E3FC;\n",
              "      --hover-bg-color: #434B5C;\n",
              "      --hover-fill-color: #FFFFFF;\n",
              "      --disabled-bg-color: #3B4455;\n",
              "      --disabled-fill-color: #666;\n",
              "  }\n",
              "\n",
              "  .colab-df-quickchart {\n",
              "    background-color: var(--bg-color);\n",
              "    border: none;\n",
              "    border-radius: 50%;\n",
              "    cursor: pointer;\n",
              "    display: none;\n",
              "    fill: var(--fill-color);\n",
              "    height: 32px;\n",
              "    padding: 0;\n",
              "    width: 32px;\n",
              "  }\n",
              "\n",
              "  .colab-df-quickchart:hover {\n",
              "    background-color: var(--hover-bg-color);\n",
              "    box-shadow: 0 1px 2px rgba(60, 64, 67, 0.3), 0 1px 3px 1px rgba(60, 64, 67, 0.15);\n",
              "    fill: var(--button-hover-fill-color);\n",
              "  }\n",
              "\n",
              "  .colab-df-quickchart-complete:disabled,\n",
              "  .colab-df-quickchart-complete:disabled:hover {\n",
              "    background-color: var(--disabled-bg-color);\n",
              "    fill: var(--disabled-fill-color);\n",
              "    box-shadow: none;\n",
              "  }\n",
              "\n",
              "  .colab-df-spinner {\n",
              "    border: 2px solid var(--fill-color);\n",
              "    border-color: transparent;\n",
              "    border-bottom-color: var(--fill-color);\n",
              "    animation:\n",
              "      spin 1s steps(1) infinite;\n",
              "  }\n",
              "\n",
              "  @keyframes spin {\n",
              "    0% {\n",
              "      border-color: transparent;\n",
              "      border-bottom-color: var(--fill-color);\n",
              "      border-left-color: var(--fill-color);\n",
              "    }\n",
              "    20% {\n",
              "      border-color: transparent;\n",
              "      border-left-color: var(--fill-color);\n",
              "      border-top-color: var(--fill-color);\n",
              "    }\n",
              "    30% {\n",
              "      border-color: transparent;\n",
              "      border-left-color: var(--fill-color);\n",
              "      border-top-color: var(--fill-color);\n",
              "      border-right-color: var(--fill-color);\n",
              "    }\n",
              "    40% {\n",
              "      border-color: transparent;\n",
              "      border-right-color: var(--fill-color);\n",
              "      border-top-color: var(--fill-color);\n",
              "    }\n",
              "    60% {\n",
              "      border-color: transparent;\n",
              "      border-right-color: var(--fill-color);\n",
              "    }\n",
              "    80% {\n",
              "      border-color: transparent;\n",
              "      border-right-color: var(--fill-color);\n",
              "      border-bottom-color: var(--fill-color);\n",
              "    }\n",
              "    90% {\n",
              "      border-color: transparent;\n",
              "      border-bottom-color: var(--fill-color);\n",
              "    }\n",
              "  }\n",
              "</style>\n",
              "\n",
              "  <script>\n",
              "    async function quickchart(key) {\n",
              "      const quickchartButtonEl =\n",
              "        document.querySelector('#' + key + ' button');\n",
              "      quickchartButtonEl.disabled = true;  // To prevent multiple clicks.\n",
              "      quickchartButtonEl.classList.add('colab-df-spinner');\n",
              "      try {\n",
              "        const charts = await google.colab.kernel.invokeFunction(\n",
              "            'suggestCharts', [key], {});\n",
              "      } catch (error) {\n",
              "        console.error('Error during call to suggestCharts:', error);\n",
              "      }\n",
              "      quickchartButtonEl.classList.remove('colab-df-spinner');\n",
              "      quickchartButtonEl.classList.add('colab-df-quickchart-complete');\n",
              "    }\n",
              "    (() => {\n",
              "      let quickchartButtonEl =\n",
              "        document.querySelector('#df-133c865c-6ed6-48a4-af3a-5e2ee6e8ab64 button');\n",
              "      quickchartButtonEl.style.display =\n",
              "        google.colab.kernel.accessAllowed ? 'block' : 'none';\n",
              "    })();\n",
              "  </script>\n",
              "</div>\n",
              "    </div>\n",
              "  </div>\n"
            ]
          },
          "metadata": {},
          "execution_count": 9
        }
      ]
    },
    {
      "cell_type": "code",
      "source": [
        "ans=train_df.target.value_counts()\n",
        "ans"
      ],
      "metadata": {
        "colab": {
          "base_uri": "https://localhost:8080/"
        },
        "id": "8rjH_xlxN5Nt",
        "outputId": "5a26217b-f55e-412e-96ed-64ef147e97f0"
      },
      "execution_count": null,
      "outputs": [
        {
          "output_type": "execute_result",
          "data": {
            "text/plain": [
              "METHODS        59353\n",
              "RESULTS        57953\n",
              "CONCLUSIONS    27168\n",
              "BACKGROUND     21727\n",
              "OBJECTIVE      13839\n",
              "Name: target, dtype: int64"
            ]
          },
          "metadata": {},
          "execution_count": 10
        }
      ]
    },
    {
      "cell_type": "code",
      "source": [
        "ans.plot.pie()"
      ],
      "metadata": {
        "colab": {
          "base_uri": "https://localhost:8080/",
          "height": 423
        },
        "id": "fvus9Pz3PNaL",
        "outputId": "6891bcf3-a95f-43a2-aa52-37c8d5a73b19"
      },
      "execution_count": null,
      "outputs": [
        {
          "output_type": "execute_result",
          "data": {
            "text/plain": [
              "<Axes: ylabel='target'>"
            ]
          },
          "metadata": {},
          "execution_count": 11
        },
        {
          "output_type": "display_data",
          "data": {
            "text/plain": [
              "<Figure size 640x480 with 1 Axes>"
            ],
            "image/png": "[encoded data removed]"
          },
          "metadata": {}
        }
      ]
    },
    {
      "cell_type": "code",
      "source": [
        "# Convert the lines of the abstract into list\n",
        "train_sentences=train_df['text'].tolist()\n",
        "test_sentences=test_df['text'].tolist()\n",
        "val_sentences=val_df['text'].tolist()"
      ],
      "metadata": {
        "id": "2meM3tFtPW6s"
      },
      "execution_count": null,
      "outputs": []
    },
    {
      "cell_type": "markdown",
      "source": [
        "**One hot Encoder:**"
      ],
      "metadata": {
        "id": "afmpQCWBNSIp"
      }
    },
    {
      "cell_type": "code",
      "source": [
        "\n",
        "# One hot encode labels\n",
        "from sklearn.preprocessing import OneHotEncoder\n",
        "one_hot_encoder = OneHotEncoder(sparse=False)\n",
        "train_labels_one_hot = one_hot_encoder.fit_transform(train_df[\"target\"].to_numpy().reshape(-1, 1))\n",
        "val_labels_one_hot = one_hot_encoder.transform(val_df[\"target\"].to_numpy().reshape(-1, 1))\n",
        "test_labels_one_hot = one_hot_encoder.transform(test_df[\"target\"].to_numpy().reshape(-1, 1))"
      ],
      "metadata": {
        "colab": {
          "base_uri": "https://localhost:8080/"
        },
        "id": "2fmvhyUENYy7",
        "outputId": "64c88763-641b-42ca-9177-265c2c2cbd30"
      },
      "execution_count": null,
      "outputs": [
        {
          "output_type": "stream",
          "name": "stderr",
          "text": [
            "/usr/local/lib/python3.10/dist-packages/sklearn/preprocessing/_encoders.py:868: FutureWarning: `sparse` was renamed to `sparse_output` in version 1.2 and will be removed in 1.4. `sparse_output` is ignored unless you leave `sparse` to its default value.\n",
            "  warnings.warn(\n"
          ]
        }
      ]
    },
    {
      "cell_type": "markdown",
      "source": [
        "**Label Encoder**\n",
        "\n",
        "Encode target labels with value between 0 and n_classes-1.\n",
        "\n",
        "This transformer should be used to encode target values, i.e. y, and not the input X.\n",
        "\n",
        "It can also be used to transform non-numerical labels (as long as they are hashable and comparable) to numerical labels\n",
        "\n",
        "https://scikit-learn.org/stable/modules/generated/sklearn.preprocessing.LabelEncoder.html\n",
        "\n"
      ],
      "metadata": {
        "id": "Rnba8zanQGgk"
      }
    },
    {
      "cell_type": "code",
      "source": [
        "# Extract labels (\"target\" columns) and encode them into integers\n",
        "from sklearn.preprocessing import LabelEncoder\n",
        "label_encoder=LabelEncoder()\n",
        "train_labels_encoded=label_encoder.fit_transform(train_df['target'].to_numpy())\n",
        "test_labels_encoded=label_encoder.transform(test_df['target'].to_numpy())\n",
        "val_labels_encoded=label_encoder.transform(val_df['target'].to_numpy())"
      ],
      "metadata": {
        "id": "XA0LnKBIF6Tl"
      },
      "execution_count": null,
      "outputs": []
    },
    {
      "cell_type": "code",
      "source": [
        "num_classes = len(label_encoder.classes_)\n",
        "num_classes, label_encoder.classes_"
      ],
      "metadata": {
        "colab": {
          "base_uri": "https://localhost:8080/"
        },
        "id": "UmRnPziGGVvY",
        "outputId": "5c1ad98e-ec39-4e42-ca4f-c13c4e427891"
      },
      "execution_count": null,
      "outputs": [
        {
          "output_type": "execute_result",
          "data": {
            "text/plain": [
              "(5,\n",
              " array(['BACKGROUND', 'CONCLUSIONS', 'METHODS', 'OBJECTIVE', 'RESULTS'],\n",
              "       dtype=object))"
            ]
          },
          "metadata": {},
          "execution_count": 15
        }
      ]
    },
    {
      "cell_type": "markdown",
      "source": [
        "Now its time to convert our text into the numbers this can be done using TextVectorization and embedding"
      ],
      "metadata": {
        "id": "5ydlY66BIjmI"
      }
    },
    {
      "cell_type": "markdown",
      "source": [
        "But before moving towards the textvectorization we need to figure out the maximum length of sentence.\n",
        "\n",
        "For example, if one sentence is eight words long and another is 50 words long, we want to pad the eight word sentence with zeros so it ends up being the same length as the 50 word sentence."
      ],
      "metadata": {
        "id": "VpIqYMa6MCf7"
      }
    },
    {
      "cell_type": "code",
      "source": [
        "import numpy as np\n",
        "import tensorflow as tf\n",
        "from tensorflow.keras import layers"
      ],
      "metadata": {
        "id": "XD6uOPrgMWjg"
      },
      "execution_count": null,
      "outputs": []
    },
    {
      "cell_type": "code",
      "source": [
        "sent_lens = [len(sentence.split()) for sentence in train_sentences]\n",
        "avg_sent_len = np.mean(sent_lens)\n",
        "avg_sent_len # return average sentence length (in tokens)"
      ],
      "metadata": {
        "colab": {
          "base_uri": "https://localhost:8080/"
        },
        "id": "e4obKpiToYXA",
        "outputId": "b0d89144-d570-4cb7-fe30-bd45e7bc61d1"
      },
      "execution_count": null,
      "outputs": [
        {
          "output_type": "execute_result",
          "data": {
            "text/plain": [
              "26.338269273494777"
            ]
          },
          "metadata": {},
          "execution_count": 17
        }
      ]
    },
    {
      "cell_type": "markdown",
      "source": [
        "the vast majority of sentences are between 0 and 50 tokens in length.\n",
        "\n",
        "We can use NumPy's percentile to find the value which covers 95% of the sentence lengths."
      ],
      "metadata": {
        "id": "Xer-OPrzo6kd"
      }
    },
    {
      "cell_type": "code",
      "source": [
        "\n",
        "# How long of a sentence covers 95% of the lengths?\n",
        "output_seq_len = int(np.percentile(sent_lens, 95))\n",
        "output_seq_len\n"
      ],
      "metadata": {
        "colab": {
          "base_uri": "https://localhost:8080/"
        },
        "id": "9j4tXrLKoeQE",
        "outputId": "b4ee0685-5571-46c9-8179-51ef7c833a1f"
      },
      "execution_count": null,
      "outputs": [
        {
          "output_type": "execute_result",
          "data": {
            "text/plain": [
              "55"
            ]
          },
          "metadata": {},
          "execution_count": 18
        }
      ]
    },
    {
      "cell_type": "markdown",
      "source": [
        "55 tokens will be require to comprise the 95% of our sentence\n",
        "\n",
        "keep the output_sequence_length to 55 in our textvectorizer"
      ],
      "metadata": {
        "id": "RgFFKH_9o9sD"
      }
    },
    {
      "cell_type": "markdown",
      "source": [
        "Create text vectorizer"
      ],
      "metadata": {
        "id": "N7xliP0ipQpR"
      }
    },
    {
      "cell_type": "markdown",
      "source": [
        "max_tokens in  TextVectorization will represent the max_numbers of the unique vocabulary present in the text.\n",
        "\n",
        "In the PubMed 200k RCT paper states the vocabulary size of the PubMed 20k dataset as 68,000\n",
        "\n",
        "so we will use the max_tokens as 68k"
      ],
      "metadata": {
        "id": "5ujYzuxZqEkT"
      }
    },
    {
      "cell_type": "code",
      "source": [
        "from tensorflow.keras.layers import  TextVectorization\n",
        "text_vectorizer=TextVectorization(output_sequence_length=55,\n",
        "                                  max_tokens=68000)"
      ],
      "metadata": {
        "id": "PJfSZCnFpY93"
      },
      "execution_count": null,
      "outputs": []
    },
    {
      "cell_type": "code",
      "source": [
        "text_vectorizer.adapt(train_sentences)"
      ],
      "metadata": {
        "id": "qcgCfFrCppjg"
      },
      "execution_count": null,
      "outputs": []
    },
    {
      "cell_type": "code",
      "source": [
        "# Let's check the working of the text_vectorizer\n",
        "import random\n",
        "target_sentence=random.choice(train_sentences)\n",
        "print('target_sentence:{}'.format(target_sentence))\n",
        "print('vectorized_sentence:{}'.format(text_vectorizer([target_sentence])))"
      ],
      "metadata": {
        "colab": {
          "base_uri": "https://localhost:8080/"
        },
        "id": "qNNjKs7ktETK",
        "outputId": "1866d73f-f4a7-4b40-a1ba-d64226d145d6"
      },
      "execution_count": null,
      "outputs": [
        {
          "output_type": "stream",
          "name": "stdout",
          "text": [
            "target_sentence:the primary endpoint was mean percentage change from baseline in pth during the efficacy assessment phase ( eap ) in cohorts @ and @ .\n",
            "vectorized_sentence:[[    2    56   349    10    57   467   133    27    49     5  3375    52\n",
            "      2    79   250   209 13362     5  1719     3     0     0     0     0\n",
            "      0     0     0     0     0     0     0     0     0     0     0     0\n",
            "      0     0     0     0     0     0     0     0     0     0     0     0\n",
            "      0     0     0     0     0     0     0]]\n"
          ]
        }
      ]
    },
    {
      "cell_type": "markdown",
      "source": [
        "Embedding"
      ],
      "metadata": {
        "id": "3_BEXVQgvXHM"
      }
    },
    {
      "cell_type": "code",
      "source": [
        "from tensorflow.keras import layers\n",
        "embedding=layers.Embedding(input_dim=len(text_vectorizer.get_vocabulary()),\n",
        "                           output_dim=128,\n",
        "                           mask_zero=True,\n",
        "                           name=\"token_embedding\")\n"
      ],
      "metadata": {
        "id": "iiS6YatNtyZ5"
      },
      "execution_count": null,
      "outputs": []
    },
    {
      "cell_type": "code",
      "source": [
        "print('sentence:{}'.format(target_sentence))\n",
        "print('vectorized_sentence:{}'.format(text_vectorizer([target_sentence])))\n",
        "print('embeded_sentence:{}'.format(embedding(text_vectorizer([target_sentence]))))"
      ],
      "metadata": {
        "colab": {
          "base_uri": "https://localhost:8080/"
        },
        "id": "drWWIM-v0JjV",
        "outputId": "7b612cf7-9217-4623-b0b3-3f57312090ec"
      },
      "execution_count": null,
      "outputs": [
        {
          "output_type": "stream",
          "name": "stdout",
          "text": [
            "sentence:the primary endpoint was mean percentage change from baseline in pth during the efficacy assessment phase ( eap ) in cohorts @ and @ .\n",
            "vectorized_sentence:[[    2    56   349    10    57   467   133    27    49     5  3375    52\n",
            "      2    79   250   209 13362     5  1719     3     0     0     0     0\n",
            "      0     0     0     0     0     0     0     0     0     0     0     0\n",
            "      0     0     0     0     0     0     0     0     0     0     0     0\n",
            "      0     0     0     0     0     0     0]]\n",
            "embeded_sentence:[[[ 0.01876559 -0.02571927 -0.04049407 ... -0.02673918 -0.01007243\n",
            "   -0.0463583 ]\n",
            "  [ 0.02768184 -0.03417248 -0.00674144 ...  0.02870179  0.04692756\n",
            "   -0.0282405 ]\n",
            "  [-0.0318469  -0.00163562 -0.04697411 ...  0.03430768  0.04073927\n",
            "    0.04847759]\n",
            "  ...\n",
            "  [ 0.03965834  0.03130596  0.03519524 ...  0.02251753 -0.01655508\n",
            "   -0.04399237]\n",
            "  [ 0.03965834  0.03130596  0.03519524 ...  0.02251753 -0.01655508\n",
            "   -0.04399237]\n",
            "  [ 0.03965834  0.03130596  0.03519524 ...  0.02251753 -0.01655508\n",
            "   -0.04399237]]]\n"
          ]
        }
      ]
    },
    {
      "cell_type": "markdown",
      "source": [
        "###TensorFlow Input Pipeline\n",
        "\n",
        "The tf.data API makes it possible to handle large amounts of data, read from different data formats, and perform complex transformations.\n",
        "\n",
        "Achieving peak performance requires an efficient input pipeline that delivers data for the next step before the current step has finished. The tf.data API helps to build flexible and efficient input pipelines.\n",
        "resource:-https://www.tensorflow.org/guide/data_performance"
      ],
      "metadata": {
        "id": "NHs5P0Uf3BrB"
      }
    },
    {
      "cell_type": "markdown",
      "source": [
        "**Converting into the dataset :**\n",
        "\n",
        "Here we pass the train_sentences and train_labels(one hot encoded)"
      ],
      "metadata": {
        "id": "xApE8EwzKSFM"
      }
    },
    {
      "cell_type": "code",
      "source": [
        "train_dataset=tf.data.Dataset.from_tensor_slices((train_sentences,train_labels_one_hot))\n",
        "val_dataset=tf.data.Dataset.from_tensor_slices((val_sentences,val_labels_one_hot))\n",
        "test_dataset=tf.data.Dataset.from_tensor_slices((test_sentences,test_labels_one_hot))"
      ],
      "metadata": {
        "id": "b0jy_b8wN7eh"
      },
      "execution_count": null,
      "outputs": []
    },
    {
      "cell_type": "markdown",
      "source": [
        "**Converting the data into the batches:-**"
      ],
      "metadata": {
        "id": "ti9SP2hyOoVN"
      }
    },
    {
      "cell_type": "code",
      "source": [
        "train_dataset=train_dataset.batch(32).prefetch(tf.data.AUTOTUNE)\n",
        "test_dataset=test_dataset.batch(32).prefetch(tf.data.AUTOTUNE)\n",
        "val_dataset=val_dataset.batch(32).prefetch(tf.data.AUTOTUNE)"
      ],
      "metadata": {
        "id": "3LN_U4wKTGIA"
      },
      "execution_count": null,
      "outputs": []
    },
    {
      "cell_type": "markdown",
      "source": [
        "**Helper Function**"
      ],
      "metadata": {
        "id": "zHlc5sdCzFX9"
      }
    },
    {
      "cell_type": "code",
      "source": [
        "!wget https://raw.githubusercontent.com/mrdbourke/tensorflow-deep-learning/main/extras/helper_functions.py"
      ],
      "metadata": {
        "colab": {
          "base_uri": "https://localhost:8080/"
        },
        "id": "zGraCBdvzMHO",
        "outputId": "24314c7c-4f8e-4a8d-a2ce-d0df28739046"
      },
      "execution_count": null,
      "outputs": [
        {
          "output_type": "stream",
          "name": "stdout",
          "text": [
            "--2023-09-24 06:46:13--  https://raw.githubusercontent.com/mrdbourke/tensorflow-deep-learning/main/extras/helper_functions.py\n",
            "Resolving raw.githubusercontent.com (raw.githubusercontent.com)... 185.199.108.133, 185.199.109.133, 185.199.110.133, ...\n",
            "Connecting to raw.githubusercontent.com (raw.githubusercontent.com)|185.199.108.133|:443... connected.\n",
            "HTTP request sent, awaiting response... 200 OK\n",
            "Length: 10246 (10K) [text/plain]\n",
            "Saving to: ‘helper_functions.py’\n",
            "\n",
            "helper_functions.py 100%[===================>]  10.01K  --.-KB/s    in 0s      \n",
            "\n",
            "2023-09-24 06:46:14 (93.9 MB/s) - ‘helper_functions.py’ saved [10246/10246]\n",
            "\n"
          ]
        }
      ]
    },
    {
      "cell_type": "markdown",
      "source": [
        "**Building model from TensorFlow Hub**"
      ],
      "metadata": {
        "id": "etFrW2M7vG3v"
      }
    },
    {
      "cell_type": "code",
      "source": [],
      "metadata": {
        "id": "hCuKM6iBzEpI"
      },
      "execution_count": null,
      "outputs": []
    },
    {
      "cell_type": "code",
      "source": [
        "import tensorflow_hub as hub\n",
        "tf_hub_embedding_layer = hub.KerasLayer(\"https://tfhub.dev/google/universal-sentence-encoder/4\",\n",
        "                                        trainable=False,\n",
        "                                        name=\"universal_sentence_encoder\")"
      ],
      "metadata": {
        "id": "ZW6VpJbAuKSM"
      },
      "execution_count": null,
      "outputs": []
    },
    {
      "cell_type": "code",
      "source": [
        "inputs = layers.Input(shape=[], dtype=tf.string)\n",
        "pretrained_embedding = tf_hub_embedding_layer(inputs) # tokenize text and create embedding\n",
        "x = layers.Dense(128, activation=\"relu\")(pretrained_embedding) # add a fully connected layer on top of the embedding\n",
        "x=layers.Dense(128,activation='relu')(x)\n",
        "outputs = layers.Dense(5, activation=\"softmax\")(x) # create the output layer\n",
        "model_pretrained_embedding = tf.keras.Model(inputs=inputs,\n",
        "                                             outputs=outputs)\n",
        "\n",
        "# Compile the model\n",
        "model_pretrained_embedding.compile(loss=\"categorical_crossentropy\",\n",
        "                optimizer=tf.keras.optimizers.Adam(),\n",
        "                metrics=[\"accuracy\"])\n",
        "model_pretrained_embedding.fit(train_dataset,\n",
        "            steps_per_epoch=int(0.1 * len(train_dataset)),\n",
        "            epochs=3,\n",
        "            validation_data=val_dataset,\n",
        "            validation_steps=int(0.1 * len(val_dataset)))\n"
      ],
      "metadata": {
        "colab": {
          "base_uri": "https://localhost:8080/"
        },
        "id": "Okcwx08duLBq",
        "outputId": "97316493-0335-4751-a7bf-1a27952af847"
      },
      "execution_count": null,
      "outputs": [
        {
          "output_type": "stream",
          "name": "stdout",
          "text": [
            "Epoch 1/3\n",
            "562/562 [==============================] - 17s 15ms/step - loss: 0.8814 - accuracy: 0.6532 - val_loss: 0.7748 - val_accuracy: 0.6951\n",
            "Epoch 2/3\n",
            "562/562 [==============================] - 7s 12ms/step - loss: 0.7360 - accuracy: 0.7141 - val_loss: 0.7133 - val_accuracy: 0.7231\n",
            "Epoch 3/3\n",
            "562/562 [==============================] - 8s 14ms/step - loss: 0.7066 - accuracy: 0.7277 - val_loss: 0.6832 - val_accuracy: 0.7394\n"
          ]
        },
        {
          "output_type": "execute_result",
          "data": {
            "text/plain": [
              "<keras.src.callbacks.History at 0x79b17018a8c0>"
            ]
          },
          "metadata": {},
          "execution_count": 28
        }
      ]
    },
    {
      "cell_type": "code",
      "source": [
        "model_pretrained_embedding_pred_probs=model_pretrained_embedding.predict(val_dataset)\n",
        "model_pretrained_embedding_pred_probs=tf.argmax(model_pretrained_embedding_pred_probs, axis=1)\n",
        "model_pretrained_embedding_pred_probs"
      ],
      "metadata": {
        "colab": {
          "base_uri": "https://localhost:8080/"
        },
        "id": "KU9M7QoQv9q-",
        "outputId": "9d7f4b9d-752f-4761-ead5-20357a49976a"
      },
      "execution_count": null,
      "outputs": [
        {
          "output_type": "stream",
          "name": "stdout",
          "text": [
            "945/945 [==============================] - 10s 10ms/step\n"
          ]
        },
        {
          "output_type": "execute_result",
          "data": {
            "text/plain": [
              "<tf.Tensor: shape=(30212,), dtype=int64, numpy=array([0, 1, 3, ..., 4, 4, 1])>"
            ]
          },
          "metadata": {},
          "execution_count": 29
        }
      ]
    },
    {
      "cell_type": "code",
      "source": [],
      "metadata": {
        "id": "-cpGNilizQtF"
      },
      "execution_count": null,
      "outputs": []
    },
    {
      "cell_type": "markdown",
      "source": [
        "Character Level Tokenization"
      ],
      "metadata": {
        "id": "kQ9BdExKTup3"
      }
    },
    {
      "cell_type": "code",
      "source": [
        "def split_chars(text):\n",
        "  return \" \".join(list(text))"
      ],
      "metadata": {
        "id": "D6UOdA2CxMPL"
      },
      "execution_count": null,
      "outputs": []
    },
    {
      "cell_type": "code",
      "source": [
        "train_chars=[split_chars(chars) for chars in train_sentences]\n",
        "test_chars=[split_chars(chars) for chars in test_sentences]\n",
        "val_chars=[split_chars(chars) for chars in val_sentences]\n",
        "print(train_chars[0])\n",
        "print(test_chars[0])\n",
        "print(val_chars[0])"
      ],
      "metadata": {
        "colab": {
          "base_uri": "https://localhost:8080/"
        },
        "id": "izhDQDPXxfxr",
        "outputId": "a91fc00d-2328-4de6-cba1-f38d0a880654"
      },
      "execution_count": null,
      "outputs": [
        {
          "output_type": "stream",
          "name": "stdout",
          "text": [
            "t o   i n v e s t i g a t e   t h e   e f f i c a c y   o f   @   w e e k s   o f   d a i l y   l o w - d o s e   o r a l   p r e d n i s o l o n e   i n   i m p r o v i n g   p a i n   ,   m o b i l i t y   ,   a n d   s y s t e m i c   l o w - g r a d e   i n f l a m m a t i o n   i n   t h e   s h o r t   t e r m   a n d   w h e t h e r   t h e   e f f e c t   w o u l d   b e   s u s t a i n e d   a t   @   w e e k s   i n   o l d e r   a d u l t s   w i t h   m o d e r a t e   t o   s e v e r e   k n e e   o s t e o a r t h r i t i s   (   o a   )   .\n",
            "t h i s   s t u d y   a n a l y z e d   l i v e r   f u n c t i o n   a b n o r m a l i t i e s   i n   h e a r t   f a i l u r e   p a t i e n t s   a d m i t t e d   w i t h   s e v e r e   a c u t e   d e c o m p e n s a t e d   h e a r t   f a i l u r e   (   a d h f   )   .\n",
            "i g e   s e n s i t i z a t i o n   t o   a s p e r g i l l u s   f u m i g a t u s   a n d   a   p o s i t i v e   s p u t u m   f u n g a l   c u l t u r e   r e s u l t   a r e   c o m m o n   i n   p a t i e n t s   w i t h   r e f r a c t o r y   a s t h m a   .\n"
          ]
        }
      ]
    },
    {
      "cell_type": "code",
      "source": [
        "char_len=[len(sentences) for sentences in train_chars]\n",
        "mean_char_len=np.mean(char_len)\n",
        "mean_char_len"
      ],
      "metadata": {
        "colab": {
          "base_uri": "https://localhost:8080/"
        },
        "id": "JEhq6Ppn79iM",
        "outputId": "2b220bfe-935b-4cb7-fbc5-121bf5c94098"
      },
      "execution_count": null,
      "outputs": [
        {
          "output_type": "execute_result",
          "data": {
            "text/plain": [
              "297.7325149966674"
            ]
          },
          "metadata": {},
          "execution_count": 32
        }
      ]
    },
    {
      "cell_type": "markdown",
      "source": [
        "**Tokenization**\n",
        "\n",
        "In tokenization max_token_length refers to maximun number of the unique vacabulary(words) used in the text.\n",
        "\n",
        "Similarily in character level Tokenization max_token_length would be unique characters which are repeatdly used to form unique vocabulary.\n",
        "\n",
        "\"abcdefghijklmnopqrstuvwxyz0123456789!\"#$%&\\'()*+,-./:;<=>?@[\\\\]^_`{|}~\""
      ],
      "metadata": {
        "id": "9cDBIGVp84oI"
      }
    },
    {
      "cell_type": "code",
      "source": [
        "import string\n",
        "alphabet=string.ascii_lowercase+string.digits+string.punctuation\n",
        "alphabet"
      ],
      "metadata": {
        "colab": {
          "base_uri": "https://localhost:8080/",
          "height": 35
        },
        "id": "ggE9GQdnAAr_",
        "outputId": "ec019202-9443-452f-f23c-e58432b7fcf9"
      },
      "execution_count": null,
      "outputs": [
        {
          "output_type": "execute_result",
          "data": {
            "text/plain": [
              "'abcdefghijklmnopqrstuvwxyz0123456789!\"#$%&\\'()*+,-./:;<=>?@[\\\\]^_`{|}~'"
            ],
            "application/vnd.google.colaboratory.intrinsic+json": {
              "type": "string"
            }
          },
          "metadata": {},
          "execution_count": 33
        }
      ]
    },
    {
      "cell_type": "code",
      "source": [
        "NUM_CHAR_TOKENS=len(alphabet)+2 # For space + unknown vocab\n",
        "char_token_vectorizer=TextVectorization(max_tokens=NUM_CHAR_TOKENS,\n",
        "                                    output_sequence_length=290,\n",
        "                                    standardize=\"lower_and_strip_punctuation\",\n",
        "                                    name=\"char_vectorizer\")"
      ],
      "metadata": {
        "id": "PZGQDl65ASes"
      },
      "execution_count": null,
      "outputs": []
    },
    {
      "cell_type": "code",
      "source": [
        "char_token_vectorizer.adapt(train_chars)"
      ],
      "metadata": {
        "id": "iznVh64CFo-X"
      },
      "execution_count": null,
      "outputs": []
    },
    {
      "cell_type": "code",
      "source": [
        "random_chars=random.choice(train_chars)\n",
        "print(\"Charified_Text: {}\".format(random_chars))\n",
        "\n",
        "\n",
        "print(\"vectorized_text: {}\".format(char_token_vectorizer([random_chars])))"
      ],
      "metadata": {
        "colab": {
          "base_uri": "https://localhost:8080/"
        },
        "id": "KE3jUsypF577",
        "outputId": "f8b947c6-e455-4696-fcb4-42cde1a39074"
      },
      "execution_count": null,
      "outputs": [
        {
          "output_type": "stream",
          "name": "stdout",
          "text": [
            "Charified_Text: b a s e l i n e   c h a r a c t e r i s t i c s   i n c l u d e   :   m e a n   a g e   @   (   s t a n d a r d   d e v i a t i o n   @   )   y e a r s   ;   m a l e   @   %   ;   m e a n   t i m e   f r o m   s t r o k e   t o   r e c r u i t m e n t   @   (   @   )   h   ;   m e a n   s e v e r i t y   (   s c a n d i n a v i a n   s t r o k e   s c a l e   )   @   (   @   )   o f   @   ;   m e a n   b l o o d   p r e s s u r e   @   (   @   )   /   @   (   @   )   m m h g   ;   i s c h a e m i c   s t r o k e   @   %   ;   a n d   i n t r a c e r e b r a l   h a e m o r r h a g e   @   %   .\n",
            "vectorized_text: [[22  5  9  2 12  4  6  2 11 13  5  8  5 11  3  2  8  4  9  3  4 11  9  4\n",
            "   6 11 12 16 10  2 15  2  5  6  5 18  2  9  3  5  6 10  5  8 10 10  2 21\n",
            "   4  5  3  4  7  6 19  2  5  8  9 15  5 12  2 15  2  5  6  3  4 15  2 17\n",
            "   8  7 15  9  3  8  7 23  2  3  7  8  2 11  8 16  4  3 15  2  6  3 13 15\n",
            "   2  5  6  9  2 21  2  8  4  3 19  9 11  5  6 10  4  6  5 21  4  5  6  9\n",
            "   3  8  7 23  2  9 11  5 12  2  7 17 15  2  5  6 22 12  7  7 10 14  8  2\n",
            "   9  9 16  8  2 15 15 13 18  4  9 11 13  5  2 15  4 11  9  3  8  7 23  2\n",
            "   5  6 10  4  6  3  8  5 11  2  8  2 22  8  5 12 13  5  2 15  7  8  8 13\n",
            "   5 18  2  0  0  0  0  0  0  0  0  0  0  0  0  0  0  0  0  0  0  0  0  0\n",
            "   0  0  0  0  0  0  0  0  0  0  0  0  0  0  0  0  0  0  0  0  0  0  0  0\n",
            "   0  0  0  0  0  0  0  0  0  0  0  0  0  0  0  0  0  0  0  0  0  0  0  0\n",
            "   0  0  0  0  0  0  0  0  0  0  0  0  0  0  0  0  0  0  0  0  0  0  0  0\n",
            "   0  0]]\n"
          ]
        }
      ]
    },
    {
      "cell_type": "markdown",
      "source": [
        " a length shorter than 290 (output_seq_char_length) get padded with zeros on the end, this ensures all sequences passed to our model are the same length."
      ],
      "metadata": {
        "id": "ekUihrCxGlSa"
      }
    },
    {
      "cell_type": "markdown",
      "source": [
        "**Char_level_embeddig**\n",
        "\n",
        "he structure of the model in Figure 1 of Neural Networks for Joint Sentence Classification in Medical Paper Abstracts, the output dimension of the character embedding (output_dim) will be 25\n"
      ],
      "metadata": {
        "id": "KUdGJIgvHxYq"
      }
    },
    {
      "cell_type": "code",
      "source": [
        "Char_level_embedding=layers.Embedding(input_dim=28,\n",
        "                                      output_dim=25,\n",
        "                                      mask_zero=False,\n",
        "                                      name=\"char_embed\")\n",
        "print(\"charified_text:{}\".format(random_chars))\n",
        "print(\"embed_text: {}\".format((Char_level_embedding(char_token_vectorizer([random_chars])))))\n"
      ],
      "metadata": {
        "colab": {
          "base_uri": "https://localhost:8080/"
        },
        "id": "38evbl3kITDD",
        "outputId": "d0a1962c-da18-4da0-8c26-2f4ef4192aaa"
      },
      "execution_count": null,
      "outputs": [
        {
          "output_type": "stream",
          "name": "stdout",
          "text": [
            "charified_text:b a s e l i n e   c h a r a c t e r i s t i c s   i n c l u d e   :   m e a n   a g e   @   (   s t a n d a r d   d e v i a t i o n   @   )   y e a r s   ;   m a l e   @   %   ;   m e a n   t i m e   f r o m   s t r o k e   t o   r e c r u i t m e n t   @   (   @   )   h   ;   m e a n   s e v e r i t y   (   s c a n d i n a v i a n   s t r o k e   s c a l e   )   @   (   @   )   o f   @   ;   m e a n   b l o o d   p r e s s u r e   @   (   @   )   /   @   (   @   )   m m h g   ;   i s c h a e m i c   s t r o k e   @   %   ;   a n d   i n t r a c e r e b r a l   h a e m o r r h a g e   @   %   .\n",
            "embed_text: [[[ 0.02447618 -0.04230415 -0.01800177 ...  0.02548008 -0.03304224\n",
            "   -0.04454322]\n",
            "  [ 0.00076892 -0.04016026 -0.00932391 ...  0.02755976 -0.04252974\n",
            "   -0.04771961]\n",
            "  [ 0.02851899 -0.04005891 -0.04369199 ... -0.00821354 -0.03238052\n",
            "    0.00524361]\n",
            "  ...\n",
            "  [-0.04826951 -0.00632785 -0.02132412 ...  0.03915315 -0.03049218\n",
            "   -0.04879593]\n",
            "  [-0.04826951 -0.00632785 -0.02132412 ...  0.03915315 -0.03049218\n",
            "   -0.04879593]\n",
            "  [-0.04826951 -0.00632785 -0.02132412 ...  0.03915315 -0.03049218\n",
            "   -0.04879593]]]\n"
          ]
        }
      ]
    },
    {
      "cell_type": "markdown",
      "source": [
        "**Conv1D model to fit on character embeddings**\n",
        "\n",
        "Input (character-level text) -> Tokenize -> Embedding -> Layers (Conv1D, GlobalMaxPool1D) -> Output (label probability)"
      ],
      "metadata": {
        "id": "e2yaXzD7KLzV"
      }
    },
    {
      "cell_type": "markdown",
      "source": [
        "Using the tf.data.dataset api for optimization"
      ],
      "metadata": {
        "id": "qsqWtzOpsn1O"
      }
    },
    {
      "cell_type": "code",
      "source": [
        "train_char_dataset=tf.data.Dataset.from_tensor_slices((train_chars,train_labels_one_hot)).batch(32).prefetch(tf.data.AUTOTUNE)\n",
        "val_char_dataset=tf.data.Dataset.from_tensor_slices((val_chars,val_labels_one_hot)).batch(32).prefetch(tf.data.AUTOTUNE)"
      ],
      "metadata": {
        "id": "xYvNEIYGskm1"
      },
      "execution_count": null,
      "outputs": []
    },
    {
      "cell_type": "code",
      "source": [
        "inputs=layers.Input(shape=(1,),dtype=\"string\")\n",
        "char_vectorizer=char_token_vectorizer(inputs)\n",
        "char_embedding=Char_level_embedding(char_vectorizer)\n",
        "x=layers.Conv1D(64,kernel_size=5,activation=\"relu\",padding=\"same\")(char_embedding)\n",
        "x = layers.GlobalMaxPool1D()(x)\n",
        "outputs = tf.keras.layers.Dense(5, activation=\"softmax\")(x)\n",
        "model_Conv1d=tf.keras.Model(inputs=inputs,\n",
        "                            outputs=outputs,\n",
        "                            name=\"model_Conv1d\")\n",
        "model_Conv1d.compile(loss=\"categorical_crossentropy\",\n",
        "                optimizer=tf.keras.optimizers.Adam(),\n",
        "                metrics=[\"accuracy\"])\n",
        "model_Conv1d.fit(train_char_dataset,\n",
        "                steps_per_epoch=int(0.1 * len(train_char_dataset)),\n",
        "                 epochs=5,\n",
        "                validation_data=val_char_dataset,\n",
        "                validation_steps=int(0.1 * len(val_char_dataset)))\n",
        "\n"
      ],
      "metadata": {
        "colab": {
          "base_uri": "https://localhost:8080/"
        },
        "id": "Ey0a0ewNnXFM",
        "outputId": "22b5706d-2197-4a87-b88b-83290b1a8584"
      },
      "execution_count": null,
      "outputs": [
        {
          "output_type": "stream",
          "name": "stdout",
          "text": [
            "Epoch 1/5\n",
            "562/562 [==============================] - 10s 7ms/step - loss: 1.2612 - accuracy: 0.4854 - val_loss: 1.0541 - val_accuracy: 0.5851\n",
            "Epoch 2/5\n",
            "562/562 [==============================] - 3s 6ms/step - loss: 1.0143 - accuracy: 0.5948 - val_loss: 0.9597 - val_accuracy: 0.6237\n",
            "Epoch 3/5\n",
            "562/562 [==============================] - 4s 7ms/step - loss: 0.9371 - accuracy: 0.6331 - val_loss: 0.8864 - val_accuracy: 0.6533\n",
            "Epoch 4/5\n",
            "562/562 [==============================] - 3s 5ms/step - loss: 0.8835 - accuracy: 0.6588 - val_loss: 0.8589 - val_accuracy: 0.6729\n",
            "Epoch 5/5\n",
            "562/562 [==============================] - 3s 6ms/step - loss: 0.8704 - accuracy: 0.6573 - val_loss: 0.8282 - val_accuracy: 0.6818\n"
          ]
        },
        {
          "output_type": "execute_result",
          "data": {
            "text/plain": [
              "<keras.src.callbacks.History at 0x79b0ad2be350>"
            ]
          },
          "metadata": {},
          "execution_count": 39
        }
      ]
    },
    {
      "cell_type": "code",
      "source": [
        "model_Conv1d_pred_probs=model_Conv1d.predict(val_char_dataset)\n",
        "model_Conv1d_pred_probs=tf.argmax(model_Conv1d_pred_probs,axis=1)\n",
        "model_Conv1d_pred_probs"
      ],
      "metadata": {
        "colab": {
          "base_uri": "https://localhost:8080/"
        },
        "id": "DmCYhLqVrGyn",
        "outputId": "89d55c06-41f9-4c7c-c83e-4e77f9a3d46b"
      },
      "execution_count": null,
      "outputs": [
        {
          "output_type": "stream",
          "name": "stdout",
          "text": [
            "945/945 [==============================] - 3s 3ms/step\n"
          ]
        },
        {
          "output_type": "execute_result",
          "data": {
            "text/plain": [
              "<tf.Tensor: shape=(30212,), dtype=int64, numpy=array([1, 1, 3, ..., 4, 4, 1])>"
            ]
          },
          "metadata": {},
          "execution_count": 40
        }
      ]
    },
    {
      "cell_type": "markdown",
      "source": [
        "**Combining pretrained token embeddings + character embeddings (hybrid embedding layer)**\n",
        "\n",
        "This hybrid token embedding layer is a combination of token embeddings and character embeddings\n",
        "\n",
        "Create a token-level model (similar to model_pretrained_embedding)\n",
        "\n",
        "Create a character-level model (similar to model_Conv1d)\n",
        "\n",
        "Combine (using layers.Concatenate) the outputs of 1 and 2\n",
        "\n",
        "Build a series of output layers on top of 3 layers ie combination layers"
      ],
      "metadata": {
        "id": "oRddQd560DqV"
      }
    },
    {
      "cell_type": "code",
      "source": [
        "# Token_model\n",
        "token_inputs=layers.Input(shape=[],dtype=tf.string,name=\"token_input\")\n",
        "token_embedding_layers=tf_hub_embedding_layer(token_inputs)\n",
        "x=layers.Dense(128,activation='relu')(token_embedding_layers)\n",
        "token_outputs=layers.Dense(128,activation='relu')(x)\n",
        "token_model=tf.keras.Model(inputs=token_inputs,\n",
        "                           outputs=token_outputs,\n",
        "                           name='token_model')\n",
        "\n",
        "# Character_level_model\n",
        "\n",
        "char_inputs=layers.Input(shape=(1,),dtype=tf.string,name='char_inputs')\n",
        "char_vectorizer=char_token_vectorizer(char_inputs)\n",
        "char_embedding=Char_level_embedding(char_vectorizer)\n",
        "# According to the paper we have to use the bilstm :\n",
        "char_bi_lstm=layers.Bidirectional(layers.LSTM(48))(char_embedding)\n",
        "char_model=tf.keras.Model(inputs=char_inputs,\n",
        "                          outputs=char_bi_lstm,\n",
        "                          name=\"char_model\")\n",
        "\n",
        "# we have to concatenate the outputs from both the layers (hybrid token embedding)\n",
        "token_char_concat=tf.keras.layers.Concatenate(name=\"token_char_hybrid\")([token_model.output,char_model.output])\n",
        "\n",
        "# Inorder to avoid the overfitting we are going to use the dropout layer.\n",
        "combine_dropout=layers.Dropout(0.5)(token_char_concat)\n",
        "dense_layer_1=layers.Dense(128,activation='relu')(combine_dropout)\n",
        "dense_layer_2=layers.Dense(128,activation='relu')(dense_layer_1)\n",
        "final_dropout=layers.Dropout(0.5)(dense_layer_2)\n",
        "output_layer=layers.Dense(5,activation='softmax')(final_dropout)\n",
        "\n",
        "model_combined=tf.keras.Model(inputs=[token_model.input,char_model.input],\n",
        "                              outputs=output_layer,\n",
        "                              name='model_combined')\n",
        "model_combined.compile(loss=\"categorical_crossentropy\",\n",
        "                optimizer=tf.keras.optimizers.Adam(),\n",
        "                metrics=[\"accuracy\"])\n"
      ],
      "metadata": {
        "id": "M6e1xNES4KUw"
      },
      "execution_count": null,
      "outputs": []
    },
    {
      "cell_type": "markdown",
      "source": [
        "#Worflow of the model:"
      ],
      "metadata": {
        "id": "Zu2Zh0uUOAVc"
      }
    },
    {
      "cell_type": "code",
      "source": [
        "from keras.utils import plot_model\n",
        "plot_model(model_combined)"
      ],
      "metadata": {
        "colab": {
          "base_uri": "https://localhost:8080/",
          "height": 953
        },
        "id": "FA6p0DEd5iR4",
        "outputId": "eff5f4aa-5903-45db-84be-42b372ed5e7a"
      },
      "execution_count": null,
      "outputs": [
        {
          "output_type": "execute_result",
          "data": {
            "image/png": "[encoded data removed]",
            "text/plain": [
              "<IPython.core.display.Image object>"
            ]
          },
          "metadata": {},
          "execution_count": 42
        }
      ]
    },
    {
      "cell_type": "markdown",
      "source": [
        "The difference with this model is that it requires two inputs, token-level sequences and character-level sequences"
      ],
      "metadata": {
        "id": "GXggpdoQNRCB"
      }
    },
    {
      "cell_type": "code",
      "source": [
        "# Train_data\n",
        "train_token_char_data=tf.data.Dataset.from_tensor_slices((train_sentences,train_chars))\n",
        "train_char_token_labels = tf.data.Dataset.from_tensor_slices(train_labels_one_hot)\n",
        "tarin_token_char_dataset=tf.data.Dataset.zip((train_token_char_data,train_char_token_labels))\n",
        "train_token_char_dataset=tarin_token_char_dataset.batch(32).prefetch(tf.data.AUTOTUNE)\n",
        "\n",
        "# Val_data\n",
        "\n",
        "val_token_char_data=tf.data.Dataset.from_tensor_slices((val_sentences,val_chars))\n",
        "val_char_token_labels = tf.data.Dataset.from_tensor_slices(val_labels_one_hot)\n",
        "val_token_char_dataset=tf.data.Dataset.zip((val_token_char_data,val_char_token_labels))\n",
        "val_token_char_dataset=val_token_char_dataset.batch(32).prefetch(tf.data.AUTOTUNE)"
      ],
      "metadata": {
        "id": "oE2vJB5bQlSa"
      },
      "execution_count": null,
      "outputs": []
    },
    {
      "cell_type": "code",
      "source": [
        "history_model_combined=model_combined.fit(train_token_char_dataset,\n",
        "                                          steps_per_epoch=int(0.1 * len(train_token_char_dataset)),\n",
        "                                          epochs=5,\n",
        "                                          validation_data=val_token_char_dataset,\n",
        "                                          validation_steps=int(0.1 * len(train_token_char_dataset)))"
      ],
      "metadata": {
        "colab": {
          "base_uri": "https://localhost:8080/"
        },
        "id": "M7-9nK4lSHHR",
        "outputId": "a7613b6e-c6f8-42af-f27e-ef2977c3005a"
      },
      "execution_count": null,
      "outputs": [
        {
          "output_type": "stream",
          "name": "stdout",
          "text": [
            "Epoch 1/5\n",
            "562/562 [==============================] - 35s 50ms/step - loss: 0.9734 - accuracy: 0.6037 - val_loss: 0.7844 - val_accuracy: 0.6932\n",
            "Epoch 2/5\n",
            "562/562 [==============================] - 27s 48ms/step - loss: 0.7784 - accuracy: 0.7050 - val_loss: 0.7008 - val_accuracy: 0.7346\n",
            "Epoch 3/5\n",
            "562/562 [==============================] - 26s 46ms/step - loss: 0.7422 - accuracy: 0.7214 - val_loss: 0.6713 - val_accuracy: 0.7432\n",
            "Epoch 4/5\n",
            "562/562 [==============================] - 27s 48ms/step - loss: 0.7121 - accuracy: 0.7371 - val_loss: 0.6574 - val_accuracy: 0.7498\n",
            "Epoch 5/5\n",
            "562/562 [==============================] - 26s 46ms/step - loss: 0.7095 - accuracy: 0.7372 - val_loss: 0.6343 - val_accuracy: 0.7567\n"
          ]
        }
      ]
    },
    {
      "cell_type": "code",
      "source": [
        "model_combined_pred_probs=model_combined.predict(val_token_char_dataset)\n",
        "model_combined_pred_probs=tf.argmax(model_combined_pred_probs,axis=1)\n",
        "model_combined_pred_probs\n"
      ],
      "metadata": {
        "id": "gFcLN-HaTnaw",
        "colab": {
          "base_uri": "https://localhost:8080/"
        },
        "outputId": "0b59d2ed-ba44-4c9d-8b1e-eed7248cadd5"
      },
      "execution_count": null,
      "outputs": [
        {
          "output_type": "stream",
          "name": "stdout",
          "text": [
            "945/945 [==============================] - 19s 19ms/step\n"
          ]
        },
        {
          "output_type": "execute_result",
          "data": {
            "text/plain": [
              "<tf.Tensor: shape=(30212,), dtype=int64, numpy=array([0, 0, 3, ..., 4, 4, 1])>"
            ]
          },
          "metadata": {},
          "execution_count": 45
        }
      ]
    },
    {
      "cell_type": "code",
      "source": [],
      "metadata": {
        "id": "oh45CNCg-N4T"
      },
      "execution_count": null,
      "outputs": []
    },
    {
      "cell_type": "code",
      "source": [
        "train_df.head()"
      ],
      "metadata": {
        "colab": {
          "base_uri": "https://localhost:8080/",
          "height": 206
        },
        "id": "Q7AtxCuYIQlK",
        "outputId": "b589c092-31c8-43a8-9877-db968175e5fc"
      },
      "execution_count": null,
      "outputs": [
        {
          "output_type": "execute_result",
          "data": {
            "text/plain": [
              "      target                                               text  line_number  \\\n",
              "0  OBJECTIVE  to investigate the efficacy of @ weeks of dail...            0   \n",
              "1    METHODS  a total of @ patients with primary knee oa wer...            1   \n",
              "2    METHODS  outcome measures included pain reduction and i...            2   \n",
              "3    METHODS  pain was assessed using the visual analog pain...            3   \n",
              "4    METHODS  secondary outcome measures included the wester...            4   \n",
              "\n",
              "   total_lines  \n",
              "0           11  \n",
              "1           11  \n",
              "2           11  \n",
              "3           11  \n",
              "4           11  "
            ],
            "text/html": [
              "\n",
              "  <div id=\"df-760c80ba-6130-4b2b-9030-77e95e0fd1f1\" class=\"colab-df-container\">\n",
              "    <div>\n",
              "<style scoped>\n",
              "    .dataframe tbody tr th:only-of-type {\n",
              "        vertical-align: middle;\n",
              "    }\n",
              "\n",
              "    .dataframe tbody tr th {\n",
              "        vertical-align: top;\n",
              "    }\n",
              "\n",
              "    .dataframe thead th {\n",
              "        text-align: right;\n",
              "    }\n",
              "</style>\n",
              "<table border=\"1\" class=\"dataframe\">\n",
              "  <thead>\n",
              "    <tr style=\"text-align: right;\">\n",
              "      <th></th>\n",
              "      <th>target</th>\n",
              "      <th>text</th>\n",
              "      <th>line_number</th>\n",
              "      <th>total_lines</th>\n",
              "    </tr>\n",
              "  </thead>\n",
              "  <tbody>\n",
              "    <tr>\n",
              "      <th>0</th>\n",
              "      <td>OBJECTIVE</td>\n",
              "      <td>to investigate the efficacy of @ weeks of dail...</td>\n",
              "      <td>0</td>\n",
              "      <td>11</td>\n",
              "    </tr>\n",
              "    <tr>\n",
              "      <th>1</th>\n",
              "      <td>METHODS</td>\n",
              "      <td>a total of @ patients with primary knee oa wer...</td>\n",
              "      <td>1</td>\n",
              "      <td>11</td>\n",
              "    </tr>\n",
              "    <tr>\n",
              "      <th>2</th>\n",
              "      <td>METHODS</td>\n",
              "      <td>outcome measures included pain reduction and i...</td>\n",
              "      <td>2</td>\n",
              "      <td>11</td>\n",
              "    </tr>\n",
              "    <tr>\n",
              "      <th>3</th>\n",
              "      <td>METHODS</td>\n",
              "      <td>pain was assessed using the visual analog pain...</td>\n",
              "      <td>3</td>\n",
              "      <td>11</td>\n",
              "    </tr>\n",
              "    <tr>\n",
              "      <th>4</th>\n",
              "      <td>METHODS</td>\n",
              "      <td>secondary outcome measures included the wester...</td>\n",
              "      <td>4</td>\n",
              "      <td>11</td>\n",
              "    </tr>\n",
              "  </tbody>\n",
              "</table>\n",
              "</div>\n",
              "    <div class=\"colab-df-buttons\">\n",
              "\n",
              "  <div class=\"colab-df-container\">\n",
              "    <button class=\"colab-df-convert\" onclick=\"convertToInteractive('df-760c80ba-6130-4b2b-9030-77e95e0fd1f1')\"\n",
              "            title=\"Convert this dataframe to an interactive table.\"\n",
              "            style=\"display:none;\">\n",
              "\n",
              "  <svg xmlns=\"http://www.w3.org/2000/svg\" height=\"24px\" viewBox=\"0 -960 960 960\">\n",
              "    <path d=\"M120-120v-720h720v720H120Zm60-500h600v-160H180v160Zm220 220h160v-160H400v160Zm0 220h160v-160H400v160ZM180-400h160v-160H180v160Zm440 0h160v-160H620v160ZM180-180h160v-160H180v160Zm440 0h160v-160H620v160Z\"/>\n",
              "  </svg>\n",
              "    </button>\n",
              "\n",
              "  <style>\n",
              "    .colab-df-container {\n",
              "      display:flex;\n",
              "      gap: 12px;\n",
              "    }\n",
              "\n",
              "    .colab-df-convert {\n",
              "      background-color: #E8F0FE;\n",
              "      border: none;\n",
              "      border-radius: 50%;\n",
              "      cursor: pointer;\n",
              "      display: none;\n",
              "      fill: #1967D2;\n",
              "      height: 32px;\n",
              "      padding: 0 0 0 0;\n",
              "      width: 32px;\n",
              "    }\n",
              "\n",
              "    .colab-df-convert:hover {\n",
              "      background-color: #E2EBFA;\n",
              "      box-shadow: 0px 1px 2px rgba(60, 64, 67, 0.3), 0px 1px 3px 1px rgba(60, 64, 67, 0.15);\n",
              "      fill: #174EA6;\n",
              "    }\n",
              "\n",
              "    .colab-df-buttons div {\n",
              "      margin-bottom: 4px;\n",
              "    }\n",
              "\n",
              "    [theme=dark] .colab-df-convert {\n",
              "      background-color: #3B4455;\n",
              "      fill: #D2E3FC;\n",
              "    }\n",
              "\n",
              "    [theme=dark] .colab-df-convert:hover {\n",
              "      background-color: #434B5C;\n",
              "      box-shadow: 0px 1px 3px 1px rgba(0, 0, 0, 0.15);\n",
              "      filter: drop-shadow(0px 1px 2px rgba(0, 0, 0, 0.3));\n",
              "      fill: #FFFFFF;\n",
              "    }\n",
              "  </style>\n",
              "\n",
              "    <script>\n",
              "      const buttonEl =\n",
              "        document.querySelector('#df-760c80ba-6130-4b2b-9030-77e95e0fd1f1 button.colab-df-convert');\n",
              "      buttonEl.style.display =\n",
              "        google.colab.kernel.accessAllowed ? 'block' : 'none';\n",
              "\n",
              "      async function convertToInteractive(key) {\n",
              "        const element = document.querySelector('#df-760c80ba-6130-4b2b-9030-77e95e0fd1f1');\n",
              "        const dataTable =\n",
              "          await google.colab.kernel.invokeFunction('convertToInteractive',\n",
              "                                                    [key], {});\n",
              "        if (!dataTable) return;\n",
              "\n",
              "        const docLinkHtml = 'Like what you see? Visit the ' +\n",
              "          '<a target=\"_blank\" href=https://colab.research.google.com/notebooks/data_table.ipynb>data table notebook</a>'\n",
              "          + ' to learn more about interactive tables.';\n",
              "        element.innerHTML = '';\n",
              "        dataTable['output_type'] = 'display_data';\n",
              "        await google.colab.output.renderOutput(dataTable, element);\n",
              "        const docLink = document.createElement('div');\n",
              "        docLink.innerHTML = docLinkHtml;\n",
              "        element.appendChild(docLink);\n",
              "      }\n",
              "    </script>\n",
              "  </div>\n",
              "\n",
              "\n",
              "<div id=\"df-9fa1e9e2-08d1-4fc7-a96b-64c8c45c3b87\">\n",
              "  <button class=\"colab-df-quickchart\" onclick=\"quickchart('df-9fa1e9e2-08d1-4fc7-a96b-64c8c45c3b87')\"\n",
              "            title=\"Suggest charts.\"\n",
              "            style=\"display:none;\">\n",
              "\n",
              "<svg xmlns=\"http://www.w3.org/2000/svg\" height=\"24px\"viewBox=\"0 0 24 24\"\n",
              "     width=\"24px\">\n",
              "    <g>\n",
              "        <path d=\"M19 3H5c-1.1 0-2 .9-2 2v14c0 1.1.9 2 2 2h14c1.1 0 2-.9 2-2V5c0-1.1-.9-2-2-2zM9 17H7v-7h2v7zm4 0h-2V7h2v10zm4 0h-2v-4h2v4z\"/>\n",
              "    </g>\n",
              "</svg>\n",
              "  </button>\n",
              "\n",
              "<style>\n",
              "  .colab-df-quickchart {\n",
              "      --bg-color: #E8F0FE;\n",
              "      --fill-color: #1967D2;\n",
              "      --hover-bg-color: #E2EBFA;\n",
              "      --hover-fill-color: #174EA6;\n",
              "      --disabled-fill-color: #AAA;\n",
              "      --disabled-bg-color: #DDD;\n",
              "  }\n",
              "\n",
              "  [theme=dark] .colab-df-quickchart {\n",
              "      --bg-color: #3B4455;\n",
              "      --fill-color: #D2E3FC;\n",
              "      --hover-bg-color: #434B5C;\n",
              "      --hover-fill-color: #FFFFFF;\n",
              "      --disabled-bg-color: #3B4455;\n",
              "      --disabled-fill-color: #666;\n",
              "  }\n",
              "\n",
              "  .colab-df-quickchart {\n",
              "    background-color: var(--bg-color);\n",
              "    border: none;\n",
              "    border-radius: 50%;\n",
              "    cursor: pointer;\n",
              "    display: none;\n",
              "    fill: var(--fill-color);\n",
              "    height: 32px;\n",
              "    padding: 0;\n",
              "    width: 32px;\n",
              "  }\n",
              "\n",
              "  .colab-df-quickchart:hover {\n",
              "    background-color: var(--hover-bg-color);\n",
              "    box-shadow: 0 1px 2px rgba(60, 64, 67, 0.3), 0 1px 3px 1px rgba(60, 64, 67, 0.15);\n",
              "    fill: var(--button-hover-fill-color);\n",
              "  }\n",
              "\n",
              "  .colab-df-quickchart-complete:disabled,\n",
              "  .colab-df-quickchart-complete:disabled:hover {\n",
              "    background-color: var(--disabled-bg-color);\n",
              "    fill: var(--disabled-fill-color);\n",
              "    box-shadow: none;\n",
              "  }\n",
              "\n",
              "  .colab-df-spinner {\n",
              "    border: 2px solid var(--fill-color);\n",
              "    border-color: transparent;\n",
              "    border-bottom-color: var(--fill-color);\n",
              "    animation:\n",
              "      spin 1s steps(1) infinite;\n",
              "  }\n",
              "\n",
              "  @keyframes spin {\n",
              "    0% {\n",
              "      border-color: transparent;\n",
              "      border-bottom-color: var(--fill-color);\n",
              "      border-left-color: var(--fill-color);\n",
              "    }\n",
              "    20% {\n",
              "      border-color: transparent;\n",
              "      border-left-color: var(--fill-color);\n",
              "      border-top-color: var(--fill-color);\n",
              "    }\n",
              "    30% {\n",
              "      border-color: transparent;\n",
              "      border-left-color: var(--fill-color);\n",
              "      border-top-color: var(--fill-color);\n",
              "      border-right-color: var(--fill-color);\n",
              "    }\n",
              "    40% {\n",
              "      border-color: transparent;\n",
              "      border-right-color: var(--fill-color);\n",
              "      border-top-color: var(--fill-color);\n",
              "    }\n",
              "    60% {\n",
              "      border-color: transparent;\n",
              "      border-right-color: var(--fill-color);\n",
              "    }\n",
              "    80% {\n",
              "      border-color: transparent;\n",
              "      border-right-color: var(--fill-color);\n",
              "      border-bottom-color: var(--fill-color);\n",
              "    }\n",
              "    90% {\n",
              "      border-color: transparent;\n",
              "      border-bottom-color: var(--fill-color);\n",
              "    }\n",
              "  }\n",
              "</style>\n",
              "\n",
              "  <script>\n",
              "    async function quickchart(key) {\n",
              "      const quickchartButtonEl =\n",
              "        document.querySelector('#' + key + ' button');\n",
              "      quickchartButtonEl.disabled = true;  // To prevent multiple clicks.\n",
              "      quickchartButtonEl.classList.add('colab-df-spinner');\n",
              "      try {\n",
              "        const charts = await google.colab.kernel.invokeFunction(\n",
              "            'suggestCharts', [key], {});\n",
              "      } catch (error) {\n",
              "        console.error('Error during call to suggestCharts:', error);\n",
              "      }\n",
              "      quickchartButtonEl.classList.remove('colab-df-spinner');\n",
              "      quickchartButtonEl.classList.add('colab-df-quickchart-complete');\n",
              "    }\n",
              "    (() => {\n",
              "      let quickchartButtonEl =\n",
              "        document.querySelector('#df-9fa1e9e2-08d1-4fc7-a96b-64c8c45c3b87 button');\n",
              "      quickchartButtonEl.style.display =\n",
              "        google.colab.kernel.accessAllowed ? 'block' : 'none';\n",
              "    })();\n",
              "  </script>\n",
              "</div>\n",
              "    </div>\n",
              "  </div>\n"
            ]
          },
          "metadata": {},
          "execution_count": 46
        }
      ]
    },
    {
      "cell_type": "markdown",
      "source": [
        "Postional Embedding..\n",
        "\n",
        "Now our Data consist up of the cols as line_number and total_lines and we are going to use it.\n",
        "\n",
        "\n",
        "This is a problem which belongs to sequence labelling problem in which the machine learning algorithm will assign\n",
        "label to the sequence in the dataset.\n",
        "\n",
        "\n",
        "Here if we observe our dataset then we find out that the always the abstract starts with Objective the methods upto conclusion.\n",
        "\n",
        "\n",
        "The chronology is same :\n",
        "OBJECTIVE\n",
        "\n",
        "METHOD 1\n",
        "\n",
        "METHOD 2\n",
        "\n",
        "...                        \n",
        "...                      \n",
        "...     \n",
        "\n",
        "RESULTS\n",
        "\n",
        "CONCLUSION\n",
        "\n",
        "\n",
        "\n",
        "                         \n",
        "\n",
        "\n",
        "\n",
        "So we can use this feature as a input along with token_inputs and char_inputs so as the model will train more accurately.\n",
        "\n",
        "\n",
        "We will use one_hot encodding for encodding the line_number and total_lines"
      ],
      "metadata": {
        "id": "D8oYPhtVIUPE"
      }
    },
    {
      "cell_type": "code",
      "source": [
        "train_df['line_number'].value_counts()"
      ],
      "metadata": {
        "colab": {
          "base_uri": "https://localhost:8080/"
        },
        "id": "Xz7RAxHbKPbT",
        "outputId": "58b31356-60a0-43a7-94ce-a10c8f69abe7"
      },
      "execution_count": null,
      "outputs": [
        {
          "output_type": "execute_result",
          "data": {
            "text/plain": [
              "0     15000\n",
              "1     15000\n",
              "2     15000\n",
              "3     15000\n",
              "4     14992\n",
              "5     14949\n",
              "6     14758\n",
              "7     14279\n",
              "8     13346\n",
              "9     11981\n",
              "10    10041\n",
              "11     7892\n",
              "12     5853\n",
              "13     4152\n",
              "14     2835\n",
              "15     1861\n",
              "16     1188\n",
              "17      751\n",
              "18      462\n",
              "19      286\n",
              "20      162\n",
              "21      101\n",
              "22       66\n",
              "23       33\n",
              "24       22\n",
              "25       14\n",
              "26        7\n",
              "27        4\n",
              "28        3\n",
              "29        1\n",
              "30        1\n",
              "Name: line_number, dtype: int64"
            ]
          },
          "metadata": {},
          "execution_count": 47
        }
      ]
    },
    {
      "cell_type": "markdown",
      "source": [
        "Here the maximum lines upto with the sentences in the abstract is around 20 so we place the depth as 20"
      ],
      "metadata": {
        "id": "mw9DltpeK1wt"
      }
    },
    {
      "cell_type": "markdown",
      "source": [
        "**Line_number one_hot_encoded**"
      ],
      "metadata": {
        "id": "PG8R8WhnLs7E"
      }
    },
    {
      "cell_type": "code",
      "source": [
        "line_number_one_hot=tf.one_hot(train_df[\"line_number\"].to_numpy(),depth=20)\n",
        "val_line_numbers_one_hot = tf.one_hot(val_df[\"line_number\"].to_numpy(), depth=20)\n",
        "test_numbers_one_hot = tf.one_hot(test_df[\"line_number\"].to_numpy(), depth=20)"
      ],
      "metadata": {
        "id": "5EqKmvQRLHTo"
      },
      "execution_count": null,
      "outputs": []
    },
    {
      "cell_type": "code",
      "source": [
        "total_number_one_hot=tf.one_hot(train_df['total_lines'].to_numpy(),depth=20)\n",
        "val_number_one_hot=tf.one_hot(val_df['total_lines'].to_numpy(),depth=20)\n",
        "test_total_number_one_hot=tf.one_hot(test_df['total_lines'].to_numpy(),depth=20)"
      ],
      "metadata": {
        "id": "usanHdJYL7U7"
      },
      "execution_count": null,
      "outputs": []
    },
    {
      "cell_type": "markdown",
      "source": [
        "**Build the Trihybrid layer containing\n",
        "token_embedding_layers, Char_level_embedding_layer, positional_embedding. ***\n",
        "\n",
        "\n",
        "\n",
        "\n",
        "1.   Create a token_level_model\n",
        "2.   Create a char_level_model\n",
        "3.   Create a line_number_model\n",
        "4.   Create a total_line_model\n",
        "5.   concatenate 1 and 2\n",
        "6.   concatenate 3,4 and 5\n",
        "7.   create a output layer\n",
        "8.   create the model using tf.kears.Model()\n",
        "\n"
      ],
      "metadata": {
        "id": "RU8xb8iGMvQb"
      }
    },
    {
      "cell_type": "code",
      "source": [
        "# Token_model\n",
        "token_inputs=layers.Input(shape=[],dtype=tf.string,name=\"token_input\")\n",
        "token_embedding_layers=tf_hub_embedding_layer(token_inputs)\n",
        "x=layers.Dense(128,activation='relu')(token_embedding_layers)\n",
        "token_outputs=layers.Dense(128,activation='relu')(x)\n",
        "token_model=tf.keras.Model(inputs=token_inputs,\n",
        "                           outputs=token_outputs,\n",
        "                           name='token_model')\n",
        "\n",
        "# Character_level_model\n",
        "\n",
        "char_inputs=layers.Input(shape=(1,),dtype=tf.string,name='char_inputs')\n",
        "char_vectorizer=char_token_vectorizer(char_inputs)\n",
        "char_embedding=Char_level_embedding(char_vectorizer)\n",
        "# According to the paper we have to use the bilstm :\n",
        "char_bi_lstm=layers.Bidirectional(layers.LSTM(48))(char_embedding)\n",
        "char_model=tf.keras.Model(inputs=char_inputs,\n",
        "                          outputs=char_bi_lstm,\n",
        "                          name=\"char_model\")\n",
        "# Line_model\n",
        "line_number_model_input=layers.Input(shape=(20),dtype=tf.float32,name='line_number_input')\n",
        "x=layers.Dense(32,activation='relu')(line_number_model_input)\n",
        "line_number_model=tf.keras.Model(inputs=line_number_model_input,\n",
        "                                 outputs=x)\n",
        "\n",
        "# Total_line_model\n",
        "total_lines_model_inputs=layers.Input(shape=(20),dtype=tf.float32,name=\"total_lines_model_inputs\")\n",
        "y=layers.Dense(32,activation='relu')(total_lines_model_inputs)\n",
        "total_lines_model=tf.keras.Model(inputs=total_lines_model_inputs,\n",
        "                                 outputs=y)\n",
        "\n",
        "# Concatenate the layers\n",
        "\n",
        "token_char_concatenation_layer=tf.keras.layers.Concatenate(name='token_char_concatenation_layer',axis=1)([token_model.output,\n",
        "                                                                                                           char_model.output])\n",
        "\n",
        "dense_layer=layers.Dense(256,activation='relu')(token_char_concatenation_layer)\n",
        "z=layers.Dropout(0.5)(dense_layer)\n",
        "\n",
        "# concatenate 3,4 and 5\n",
        "\n",
        "combined_trihybrid_layer=tf.keras.layers.Concatenate(name='combined_trihybrid_layer')([line_number_model.output,\n",
        "                                                                                       total_lines_model.output,\n",
        "                                                                                       z])\n",
        "\n",
        "# Creating output layer\n",
        "\n",
        "output_layer=layers.Dense(5,activation=\"softmax\")(combined_trihybrid_layer)\n",
        "\n",
        "# Creating a model\n",
        "\n",
        "trihybrid_model=tf.keras.Model(inputs=[token_model.input,\n",
        "                                       char_model.input,\n",
        "                                       line_number_model.input,\n",
        "                                       total_lines_model.input],\n",
        "                               outputs=output_layer,\n",
        "                               name='Trihybrid_model')\n",
        "\n",
        "# Compile the model\n",
        "trihybrid_model.compile(loss=\"categorical_crossentropy\",\n",
        "                optimizer=tf.keras.optimizers.Adam(),\n",
        "                metrics=[\"accuracy\"])"
      ],
      "metadata": {
        "id": "o49g9RZeOeOd"
      },
      "execution_count": null,
      "outputs": []
    },
    {
      "cell_type": "markdown",
      "source": [
        "Before fitting the model on the data we will use the tf.data api to create input pipeline inorder to optimize the model\n",
        "\n",
        "\n",
        "\n",
        "Train line numbers one-hot tensor (line_numbers_one_hot)\n",
        "\n",
        "Train total lines one-hot tensor (total_lines_one_hot)\n",
        "\n",
        "Token-level sequences tensor (train_sentences)\n",
        "\n",
        "Char-level sequences tensor (train_chars)"
      ],
      "metadata": {
        "id": "MUpjl0azdbWi"
      }
    },
    {
      "cell_type": "code",
      "source": [
        "train_token_char_positional_data=tf.data.Dataset.from_tensor_slices((train_sentences,\n",
        "                                                                        train_chars,\n",
        "                                                                        line_number_one_hot,\n",
        "                                                                        total_number_one_hot))\n",
        "train_token_char_positional_labels=tf.data.Dataset.from_tensor_slices(train_labels_one_hot)\n",
        "train_token_char_positional_dataset=tf.data.Dataset.zip((train_token_char_positional_data,train_token_char_positional_labels))\n",
        "train_token_char_positional_dataset=train_token_char_positional_dataset.batch(32).prefetch(tf.data.AUTOTUNE)\n",
        "\n",
        "\n",
        "val_token_char_positional_data=tf.data.Dataset.from_tensor_slices((val_sentences,\n",
        "                                                                   val_chars,\n",
        "                                                                   val_line_numbers_one_hot,\n",
        "                                                                   val_number_one_hot))\n",
        "val_token_char_positional_labels=tf.data.Dataset.from_tensor_slices((val_labels_one_hot))\n",
        "val_token_char_positional_dataset=tf.data.Dataset.zip((val_token_char_positional_data,val_token_char_positional_labels))\n",
        "val_token_char_positional_dataset=val_token_char_positional_dataset.batch(32).prefetch(tf.data.AUTOTUNE)\n",
        "\n",
        "\n"
      ],
      "metadata": {
        "id": "YNzwqxsUfjQC"
      },
      "execution_count": null,
      "outputs": []
    },
    {
      "cell_type": "code",
      "source": [
        "History_trihybrid_model=trihybrid_model.fit(train_token_char_positional_dataset,\n",
        "                                            steps_per_epoch=int(0.1 * len(train_token_char_positional_dataset)),\n",
        "                                            epochs=5,\n",
        "                                            validation_data=val_token_char_positional_dataset,\n",
        "                                            validation_steps=int(0.1 * len(val_token_char_positional_dataset)))"
      ],
      "metadata": {
        "colab": {
          "base_uri": "https://localhost:8080/"
        },
        "id": "-ZyhG8dujHgL",
        "outputId": "26d04de8-7553-4d38-8ab5-d642bcc0146c"
      },
      "execution_count": null,
      "outputs": [
        {
          "output_type": "stream",
          "name": "stdout",
          "text": [
            "Epoch 1/5\n",
            "562/562 [==============================] - 29s 41ms/step - loss: 0.7507 - accuracy: 0.7165 - val_loss: 0.5371 - val_accuracy: 0.8015\n",
            "Epoch 2/5\n",
            "562/562 [==============================] - 20s 36ms/step - loss: 0.4923 - accuracy: 0.8149 - val_loss: 0.4580 - val_accuracy: 0.8331\n",
            "Epoch 3/5\n",
            "562/562 [==============================] - 18s 32ms/step - loss: 0.4584 - accuracy: 0.8191 - val_loss: 0.4439 - val_accuracy: 0.8268\n",
            "Epoch 4/5\n",
            "562/562 [==============================] - 20s 36ms/step - loss: 0.4404 - accuracy: 0.8339 - val_loss: 0.4229 - val_accuracy: 0.8371\n",
            "Epoch 5/5\n",
            "562/562 [==============================] - 18s 31ms/step - loss: 0.4266 - accuracy: 0.8375 - val_loss: 0.4062 - val_accuracy: 0.8434\n"
          ]
        }
      ]
    },
    {
      "cell_type": "code",
      "source": [
        "trihybrid_model.pred_probs=trihybrid_model.predict(val_token_char_positional_dataset)\n",
        "trihybrid_model.pred_probs=tf.argmax(trihybrid_model.pred_probs,axis=1)\n",
        "trihybrid_model.pred_probs"
      ],
      "metadata": {
        "colab": {
          "base_uri": "https://localhost:8080/"
        },
        "id": "Xdc0DS7Xknls",
        "outputId": "67e5fd1f-a0af-4568-ed85-2ab0d2225817"
      },
      "execution_count": null,
      "outputs": [
        {
          "output_type": "stream",
          "name": "stdout",
          "text": [
            "945/945 [==============================] - 18s 18ms/step\n"
          ]
        },
        {
          "output_type": "execute_result",
          "data": {
            "text/plain": [
              "<tf.Tensor: shape=(30212,), dtype=int64, numpy=array([0, 0, 0, ..., 4, 4, 1])>"
            ]
          },
          "metadata": {},
          "execution_count": 53
        }
      ]
    },
    {
      "cell_type": "code",
      "source": [
        "from keras.utils import plot_model\n",
        "plot_model(trihybrid_model)"
      ],
      "metadata": {
        "colab": {
          "base_uri": "https://localhost:8080/",
          "height": 856
        },
        "id": "uFPNPkydl8Wt",
        "outputId": "d2753bc8-2dad-4de6-823c-ba97c3430ab1"
      },
      "execution_count": null,
      "outputs": [
        {
          "output_type": "execute_result",
          "data": {
            "image/png": "[encoded data removed]",
            "text/plain": [
              "<IPython.core.display.Image object>"
            ]
          },
          "metadata": {},
          "execution_count": 54
        }
      ]
    },
    {
      "cell_type": "markdown",
      "source": [
        "Saving & Loading model."
      ],
      "metadata": {
        "id": "4EfHxo82sQx-"
      }
    },
    {
      "cell_type": "code",
      "source": [
        "trihybrid_model.save(\"skimlit_model\")"
      ],
      "metadata": {
        "id": "TMn6oTgwnYR6"
      },
      "execution_count": null,
      "outputs": []
    },
    {
      "cell_type": "code",
      "source": [
        "load_model=tf.keras.models.load_model(\"skimlit_model\")"
      ],
      "metadata": {
        "id": "6-ntjRYRsWow"
      },
      "execution_count": null,
      "outputs": []
    },
    {
      "cell_type": "markdown",
      "source": [
        "Checking on the Test Dataset\n"
      ],
      "metadata": {
        "id": "15uhTF0ouu31"
      }
    },
    {
      "cell_type": "code",
      "source": [
        "test_pos_char_token_data = tf.data.Dataset.from_tensor_slices((\n",
        "                                                              test_sentences,\n",
        "                                                              test_chars,\n",
        "                                                              test_numbers_one_hot,\n",
        "                                                              test_total_number_one_hot\n",
        "                                                              ))\n",
        "test_pos_char_token_labels = tf.data.Dataset.from_tensor_slices(test_labels_one_hot)\n",
        "test_pos_char_token_dataset = tf.data.Dataset.zip((test_pos_char_token_data, test_pos_char_token_labels))\n",
        "test_pos_char_token_dataset = test_pos_char_token_dataset.batch(32).prefetch(tf.data.AUTOTUNE)"
      ],
      "metadata": {
        "id": "QV99Wgluuz0H"
      },
      "execution_count": null,
      "outputs": []
    },
    {
      "cell_type": "code",
      "source": [
        "load_model_pred_probs=load_model.predict(test_pos_char_token_dataset)\n",
        "load_model_pred_probs=tf.argmax(load_model_pred_probs,axis=1)\n",
        "load_model_pred_probs"
      ],
      "metadata": {
        "colab": {
          "base_uri": "https://localhost:8080/"
        },
        "id": "JPPJYpz4vr1_",
        "outputId": "e32235c9-c5ea-4bde-851c-85a4c292a191"
      },
      "execution_count": null,
      "outputs": [
        {
          "output_type": "stream",
          "name": "stdout",
          "text": [
            "942/942 [==============================] - 18s 18ms/step\n"
          ]
        },
        {
          "output_type": "execute_result",
          "data": {
            "text/plain": [
              "<tf.Tensor: shape=(30135,), dtype=int64, numpy=array([3, 2, 2, ..., 4, 4, 1])>"
            ]
          },
          "metadata": {},
          "execution_count": 58
        }
      ]
    },
    {
      "cell_type": "markdown",
      "source": [
        "**Making Predictions on the example data**\n",
        "\n",
        "Split it into sentences (lines).\n",
        "\n",
        "Split it into characters.\n",
        "\n",
        "Find the number of each line.\n",
        "\n",
        "Find the total number of lines."
      ],
      "metadata": {
        "id": "PYGlbWvvyN3n"
      }
    },
    {
      "cell_type": "code",
      "source": [
        "\n",
        "import json\n",
        "# Download and open example abstracts (copy and pasted from PubMed)\n",
        "!wget https://raw.githubusercontent.com/mrdbourke/tensorflow-deep-learning/main/extras/skimlit_example_abstracts.json\n",
        "\n",
        "with open(\"skimlit_example_abstracts.json\", \"r\") as file_:\n",
        "  example_abstracts = json.load(file_)\n",
        "\n",
        "example_abstracts\n"
      ],
      "metadata": {
        "colab": {
          "base_uri": "https://localhost:8080/"
        },
        "id": "HZe6pIZw0fsM",
        "outputId": "e6c66bf6-0af5-41bf-e1dd-f700d64db34c"
      },
      "execution_count": null,
      "outputs": [
        {
          "output_type": "stream",
          "name": "stdout",
          "text": [
            "--2023-09-24 06:55:29--  https://raw.githubusercontent.com/mrdbourke/tensorflow-deep-learning/main/extras/skimlit_example_abstracts.json\n",
            "Resolving raw.githubusercontent.com (raw.githubusercontent.com)... 185.199.108.133, 185.199.109.133, 185.199.110.133, ...\n",
            "Connecting to raw.githubusercontent.com (raw.githubusercontent.com)|185.199.108.133|:443... connected.\n",
            "HTTP request sent, awaiting response... 200 OK\n",
            "Length: 6737 (6.6K) [text/plain]\n",
            "Saving to: ‘skimlit_example_abstracts.json’\n",
            "\n",
            "skimlit_example_abs 100%[===================>]   6.58K  --.-KB/s    in 0s      \n",
            "\n",
            "2023-09-24 06:55:29 (90.7 MB/s) - ‘skimlit_example_abstracts.json’ saved [6737/6737]\n",
            "\n"
          ]
        },
        {
          "output_type": "execute_result",
          "data": {
            "text/plain": [
              "[{'abstract': 'This RCT examined the efficacy of a manualized social intervention for children with HFASDs. Participants were randomly assigned to treatment or wait-list conditions. Treatment included instruction and therapeutic activities targeting social skills, face-emotion recognition, interest expansion, and interpretation of non-literal language. A response-cost program was applied to reduce problem behaviors and foster skills acquisition. Significant treatment effects were found for five of seven primary outcome measures (parent ratings and direct child measures). Secondary measures based on staff ratings (treatment group only) corroborated gains reported by parents. High levels of parent, child and staff satisfaction were reported, along with high levels of treatment fidelity. Standardized effect size estimates were primarily in the medium and large ranges and favored the treatment group.',\n",
              "  'source': 'https://pubmed.ncbi.nlm.nih.gov/20232240/',\n",
              "  'details': 'RCT of a manualized social treatment for high-functioning autism spectrum disorders'},\n",
              " {'abstract': \"Postpartum depression (PPD) is the most prevalent mood disorder associated with childbirth. No single cause of PPD has been identified, however the increased risk of nutritional deficiencies incurred through the high nutritional requirements of pregnancy may play a role in the pathology of depressive symptoms. Three nutritional interventions have drawn particular interest as possible non-invasive and cost-effective prevention and/or treatment strategies for PPD; omega-3 (n-3) long chain polyunsaturated fatty acids (LCPUFA), vitamin D and overall diet. We searched for meta-analyses of randomised controlled trials (RCT's) of nutritional interventions during the perinatal period with PPD as an outcome, and checked for any trials published subsequently to the meta-analyses. Fish oil: Eleven RCT's of prenatal fish oil supplementation RCT's show null and positive effects on PPD symptoms. Vitamin D: no relevant RCT's were identified, however seven observational studies of maternal vitamin D levels with PPD outcomes showed inconsistent associations. Diet: Two Australian RCT's with dietary advice interventions in pregnancy had a positive and null result on PPD. With the exception of fish oil, few RCT's with nutritional interventions during pregnancy assess PPD. Further research is needed to determine whether nutritional intervention strategies during pregnancy can protect against symptoms of PPD. Given the prevalence of PPD and ease of administering PPD measures, we recommend future prenatal nutritional RCT's include PPD as an outcome.\",\n",
              "  'source': 'https://pubmed.ncbi.nlm.nih.gov/28012571/',\n",
              "  'details': 'Formatting removed (can be used to compare model to actual example)'},\n",
              " {'abstract': 'Mental illness, including depression, anxiety and bipolar disorder, accounts for a significant proportion of global disability and poses a substantial social, economic and heath burden. Treatment is presently dominated by pharmacotherapy, such as antidepressants, and psychotherapy, such as cognitive behavioural therapy; however, such treatments avert less than half of the disease burden, suggesting that additional strategies are needed to prevent and treat mental disorders. There are now consistent mechanistic, observational and interventional data to suggest diet quality may be a modifiable risk factor for mental illness. This review provides an overview of the nutritional psychiatry field. It includes a discussion of the neurobiological mechanisms likely modulated by diet, the use of dietary and nutraceutical interventions in mental disorders, and recommendations for further research. Potential biological pathways related to mental disorders include inflammation, oxidative stress, the gut microbiome, epigenetic modifications and neuroplasticity. Consistent epidemiological evidence, particularly for depression, suggests an association between measures of diet quality and mental health, across multiple populations and age groups; these do not appear to be explained by other demographic, lifestyle factors or reverse causality. Our recently published intervention trial provides preliminary clinical evidence that dietary interventions in clinically diagnosed populations are feasible and can provide significant clinical benefit. Furthermore, nutraceuticals including n-3 fatty acids, folate, S-adenosylmethionine, N-acetyl cysteine and probiotics, among others, are promising avenues for future research. Continued research is now required to investigate the efficacy of intervention studies in large cohorts and within clinically relevant populations, particularly in patients with schizophrenia, bipolar and anxiety disorders.',\n",
              "  'source': 'https://pubmed.ncbi.nlm.nih.gov/28942748/',\n",
              "  'details': 'Effect of nutrition on mental health'},\n",
              " {'abstract': \"Hepatitis C virus (HCV) and alcoholic liver disease (ALD), either alone or in combination, count for more than two thirds of all liver diseases in the Western world. There is no safe level of drinking in HCV-infected patients and the most effective goal for these patients is total abstinence. Baclofen, a GABA(B) receptor agonist, represents a promising pharmacotherapy for alcohol dependence (AD). Previously, we performed a randomized clinical trial (RCT), which demonstrated the safety and efficacy of baclofen in patients affected by AD and cirrhosis. The goal of this post-hoc analysis was to explore baclofen's effect in a subgroup of alcohol-dependent HCV-infected cirrhotic patients. Any patient with HCV infection was selected for this analysis. Among the 84 subjects randomized in the main trial, 24 alcohol-dependent cirrhotic patients had a HCV infection; 12 received baclofen 10mg t.i.d. and 12 received placebo for 12-weeks. With respect to the placebo group (3/12, 25.0%), a significantly higher number of patients who achieved and maintained total alcohol abstinence was found in the baclofen group (10/12, 83.3%; p=0.0123). Furthermore, in the baclofen group, compared to placebo, there was a significantly higher increase in albumin values from baseline (p=0.0132) and a trend toward a significant reduction in INR levels from baseline (p=0.0716). In conclusion, baclofen was safe and significantly more effective than placebo in promoting alcohol abstinence, and improving some Liver Function Tests (LFTs) (i.e. albumin, INR) in alcohol-dependent HCV-infected cirrhotic patients. Baclofen may represent a clinically relevant alcohol pharmacotherapy for these patients.\",\n",
              "  'source': 'https://pubmed.ncbi.nlm.nih.gov/22244707/',\n",
              "  'details': 'Baclofen promotes alcohol abstinence in alcohol dependent cirrhotic patients with hepatitis C virus (HCV) infection'}]"
            ]
          },
          "metadata": {},
          "execution_count": 59
        }
      ]
    },
    {
      "cell_type": "code",
      "source": [
        "abstracts=pd.DataFrame(example_abstracts)\n",
        "abstracts"
      ],
      "metadata": {
        "colab": {
          "base_uri": "https://localhost:8080/",
          "height": 174
        },
        "id": "B9lbFdceSaB2",
        "outputId": "2dd86481-6586-4c36-f28e-317ac2caf46d"
      },
      "execution_count": null,
      "outputs": [
        {
          "output_type": "execute_result",
          "data": {
            "text/plain": [
              "                                            abstract  \\\n",
              "0  This RCT examined the efficacy of a manualized...   \n",
              "1  Postpartum depression (PPD) is the most preval...   \n",
              "2  Mental illness, including depression, anxiety ...   \n",
              "3  Hepatitis C virus (HCV) and alcoholic liver di...   \n",
              "\n",
              "                                      source  \\\n",
              "0  https://pubmed.ncbi.nlm.nih.gov/20232240/   \n",
              "1  https://pubmed.ncbi.nlm.nih.gov/28012571/   \n",
              "2  https://pubmed.ncbi.nlm.nih.gov/28942748/   \n",
              "3  https://pubmed.ncbi.nlm.nih.gov/22244707/   \n",
              "\n",
              "                                             details  \n",
              "0  RCT of a manualized social treatment for high-...  \n",
              "1  Formatting removed (can be used to compare mod...  \n",
              "2               Effect of nutrition on mental health  \n",
              "3  Baclofen promotes alcohol abstinence in alcoho...  "
            ],
            "text/html": [
              "\n",
              "  <div id=\"df-cd661455-6f29-4e08-a6e7-4b085cfcb251\" class=\"colab-df-container\">\n",
              "    <div>\n",
              "<style scoped>\n",
              "    .dataframe tbody tr th:only-of-type {\n",
              "        vertical-align: middle;\n",
              "    }\n",
              "\n",
              "    .dataframe tbody tr th {\n",
              "        vertical-align: top;\n",
              "    }\n",
              "\n",
              "    .dataframe thead th {\n",
              "        text-align: right;\n",
              "    }\n",
              "</style>\n",
              "<table border=\"1\" class=\"dataframe\">\n",
              "  <thead>\n",
              "    <tr style=\"text-align: right;\">\n",
              "      <th></th>\n",
              "      <th>abstract</th>\n",
              "      <th>source</th>\n",
              "      <th>details</th>\n",
              "    </tr>\n",
              "  </thead>\n",
              "  <tbody>\n",
              "    <tr>\n",
              "      <th>0</th>\n",
              "      <td>This RCT examined the efficacy of a manualized...</td>\n",
              "      <td>https://pubmed.ncbi.nlm.nih.gov/20232240/</td>\n",
              "      <td>RCT of a manualized social treatment for high-...</td>\n",
              "    </tr>\n",
              "    <tr>\n",
              "      <th>1</th>\n",
              "      <td>Postpartum depression (PPD) is the most preval...</td>\n",
              "      <td>https://pubmed.ncbi.nlm.nih.gov/28012571/</td>\n",
              "      <td>Formatting removed (can be used to compare mod...</td>\n",
              "    </tr>\n",
              "    <tr>\n",
              "      <th>2</th>\n",
              "      <td>Mental illness, including depression, anxiety ...</td>\n",
              "      <td>https://pubmed.ncbi.nlm.nih.gov/28942748/</td>\n",
              "      <td>Effect of nutrition on mental health</td>\n",
              "    </tr>\n",
              "    <tr>\n",
              "      <th>3</th>\n",
              "      <td>Hepatitis C virus (HCV) and alcoholic liver di...</td>\n",
              "      <td>https://pubmed.ncbi.nlm.nih.gov/22244707/</td>\n",
              "      <td>Baclofen promotes alcohol abstinence in alcoho...</td>\n",
              "    </tr>\n",
              "  </tbody>\n",
              "</table>\n",
              "</div>\n",
              "    <div class=\"colab-df-buttons\">\n",
              "\n",
              "  <div class=\"colab-df-container\">\n",
              "    <button class=\"colab-df-convert\" onclick=\"convertToInteractive('df-cd661455-6f29-4e08-a6e7-4b085cfcb251')\"\n",
              "            title=\"Convert this dataframe to an interactive table.\"\n",
              "            style=\"display:none;\">\n",
              "\n",
              "  <svg xmlns=\"http://www.w3.org/2000/svg\" height=\"24px\" viewBox=\"0 -960 960 960\">\n",
              "    <path d=\"M120-120v-720h720v720H120Zm60-500h600v-160H180v160Zm220 220h160v-160H400v160Zm0 220h160v-160H400v160ZM180-400h160v-160H180v160Zm440 0h160v-160H620v160ZM180-180h160v-160H180v160Zm440 0h160v-160H620v160Z\"/>\n",
              "  </svg>\n",
              "    </button>\n",
              "\n",
              "  <style>\n",
              "    .colab-df-container {\n",
              "      display:flex;\n",
              "      gap: 12px;\n",
              "    }\n",
              "\n",
              "    .colab-df-convert {\n",
              "      background-color: #E8F0FE;\n",
              "      border: none;\n",
              "      border-radius: 50%;\n",
              "      cursor: pointer;\n",
              "      display: none;\n",
              "      fill: #1967D2;\n",
              "      height: 32px;\n",
              "      padding: 0 0 0 0;\n",
              "      width: 32px;\n",
              "    }\n",
              "\n",
              "    .colab-df-convert:hover {\n",
              "      background-color: #E2EBFA;\n",
              "      box-shadow: 0px 1px 2px rgba(60, 64, 67, 0.3), 0px 1px 3px 1px rgba(60, 64, 67, 0.15);\n",
              "      fill: #174EA6;\n",
              "    }\n",
              "\n",
              "    .colab-df-buttons div {\n",
              "      margin-bottom: 4px;\n",
              "    }\n",
              "\n",
              "    [theme=dark] .colab-df-convert {\n",
              "      background-color: #3B4455;\n",
              "      fill: #D2E3FC;\n",
              "    }\n",
              "\n",
              "    [theme=dark] .colab-df-convert:hover {\n",
              "      background-color: #434B5C;\n",
              "      box-shadow: 0px 1px 3px 1px rgba(0, 0, 0, 0.15);\n",
              "      filter: drop-shadow(0px 1px 2px rgba(0, 0, 0, 0.3));\n",
              "      fill: #FFFFFF;\n",
              "    }\n",
              "  </style>\n",
              "\n",
              "    <script>\n",
              "      const buttonEl =\n",
              "        document.querySelector('#df-cd661455-6f29-4e08-a6e7-4b085cfcb251 button.colab-df-convert');\n",
              "      buttonEl.style.display =\n",
              "        google.colab.kernel.accessAllowed ? 'block' : 'none';\n",
              "\n",
              "      async function convertToInteractive(key) {\n",
              "        const element = document.querySelector('#df-cd661455-6f29-4e08-a6e7-4b085cfcb251');\n",
              "        const dataTable =\n",
              "          await google.colab.kernel.invokeFunction('convertToInteractive',\n",
              "                                                    [key], {});\n",
              "        if (!dataTable) return;\n",
              "\n",
              "        const docLinkHtml = 'Like what you see? Visit the ' +\n",
              "          '<a target=\"_blank\" href=https://colab.research.google.com/notebooks/data_table.ipynb>data table notebook</a>'\n",
              "          + ' to learn more about interactive tables.';\n",
              "        element.innerHTML = '';\n",
              "        dataTable['output_type'] = 'display_data';\n",
              "        await google.colab.output.renderOutput(dataTable, element);\n",
              "        const docLink = document.createElement('div');\n",
              "        docLink.innerHTML = docLinkHtml;\n",
              "        element.appendChild(docLink);\n",
              "      }\n",
              "    </script>\n",
              "  </div>\n",
              "\n",
              "\n",
              "<div id=\"df-cca2c276-fe05-457a-b213-1e22799a7b76\">\n",
              "  <button class=\"colab-df-quickchart\" onclick=\"quickchart('df-cca2c276-fe05-457a-b213-1e22799a7b76')\"\n",
              "            title=\"Suggest charts.\"\n",
              "            style=\"display:none;\">\n",
              "\n",
              "<svg xmlns=\"http://www.w3.org/2000/svg\" height=\"24px\"viewBox=\"0 0 24 24\"\n",
              "     width=\"24px\">\n",
              "    <g>\n",
              "        <path d=\"M19 3H5c-1.1 0-2 .9-2 2v14c0 1.1.9 2 2 2h14c1.1 0 2-.9 2-2V5c0-1.1-.9-2-2-2zM9 17H7v-7h2v7zm4 0h-2V7h2v10zm4 0h-2v-4h2v4z\"/>\n",
              "    </g>\n",
              "</svg>\n",
              "  </button>\n",
              "\n",
              "<style>\n",
              "  .colab-df-quickchart {\n",
              "      --bg-color: #E8F0FE;\n",
              "      --fill-color: #1967D2;\n",
              "      --hover-bg-color: #E2EBFA;\n",
              "      --hover-fill-color: #174EA6;\n",
              "      --disabled-fill-color: #AAA;\n",
              "      --disabled-bg-color: #DDD;\n",
              "  }\n",
              "\n",
              "  [theme=dark] .colab-df-quickchart {\n",
              "      --bg-color: #3B4455;\n",
              "      --fill-color: #D2E3FC;\n",
              "      --hover-bg-color: #434B5C;\n",
              "      --hover-fill-color: #FFFFFF;\n",
              "      --disabled-bg-color: #3B4455;\n",
              "      --disabled-fill-color: #666;\n",
              "  }\n",
              "\n",
              "  .colab-df-quickchart {\n",
              "    background-color: var(--bg-color);\n",
              "    border: none;\n",
              "    border-radius: 50%;\n",
              "    cursor: pointer;\n",
              "    display: none;\n",
              "    fill: var(--fill-color);\n",
              "    height: 32px;\n",
              "    padding: 0;\n",
              "    width: 32px;\n",
              "  }\n",
              "\n",
              "  .colab-df-quickchart:hover {\n",
              "    background-color: var(--hover-bg-color);\n",
              "    box-shadow: 0 1px 2px rgba(60, 64, 67, 0.3), 0 1px 3px 1px rgba(60, 64, 67, 0.15);\n",
              "    fill: var(--button-hover-fill-color);\n",
              "  }\n",
              "\n",
              "  .colab-df-quickchart-complete:disabled,\n",
              "  .colab-df-quickchart-complete:disabled:hover {\n",
              "    background-color: var(--disabled-bg-color);\n",
              "    fill: var(--disabled-fill-color);\n",
              "    box-shadow: none;\n",
              "  }\n",
              "\n",
              "  .colab-df-spinner {\n",
              "    border: 2px solid var(--fill-color);\n",
              "    border-color: transparent;\n",
              "    border-bottom-color: var(--fill-color);\n",
              "    animation:\n",
              "      spin 1s steps(1) infinite;\n",
              "  }\n",
              "\n",
              "  @keyframes spin {\n",
              "    0% {\n",
              "      border-color: transparent;\n",
              "      border-bottom-color: var(--fill-color);\n",
              "      border-left-color: var(--fill-color);\n",
              "    }\n",
              "    20% {\n",
              "      border-color: transparent;\n",
              "      border-left-color: var(--fill-color);\n",
              "      border-top-color: var(--fill-color);\n",
              "    }\n",
              "    30% {\n",
              "      border-color: transparent;\n",
              "      border-left-color: var(--fill-color);\n",
              "      border-top-color: var(--fill-color);\n",
              "      border-right-color: var(--fill-color);\n",
              "    }\n",
              "    40% {\n",
              "      border-color: transparent;\n",
              "      border-right-color: var(--fill-color);\n",
              "      border-top-color: var(--fill-color);\n",
              "    }\n",
              "    60% {\n",
              "      border-color: transparent;\n",
              "      border-right-color: var(--fill-color);\n",
              "    }\n",
              "    80% {\n",
              "      border-color: transparent;\n",
              "      border-right-color: var(--fill-color);\n",
              "      border-bottom-color: var(--fill-color);\n",
              "    }\n",
              "    90% {\n",
              "      border-color: transparent;\n",
              "      border-bottom-color: var(--fill-color);\n",
              "    }\n",
              "  }\n",
              "</style>\n",
              "\n",
              "  <script>\n",
              "    async function quickchart(key) {\n",
              "      const quickchartButtonEl =\n",
              "        document.querySelector('#' + key + ' button');\n",
              "      quickchartButtonEl.disabled = true;  // To prevent multiple clicks.\n",
              "      quickchartButtonEl.classList.add('colab-df-spinner');\n",
              "      try {\n",
              "        const charts = await google.colab.kernel.invokeFunction(\n",
              "            'suggestCharts', [key], {});\n",
              "      } catch (error) {\n",
              "        console.error('Error during call to suggestCharts:', error);\n",
              "      }\n",
              "      quickchartButtonEl.classList.remove('colab-df-spinner');\n",
              "      quickchartButtonEl.classList.add('colab-df-quickchart-complete');\n",
              "    }\n",
              "    (() => {\n",
              "      let quickchartButtonEl =\n",
              "        document.querySelector('#df-cca2c276-fe05-457a-b213-1e22799a7b76 button');\n",
              "      quickchartButtonEl.style.display =\n",
              "        google.colab.kernel.accessAllowed ? 'block' : 'none';\n",
              "    })();\n",
              "  </script>\n",
              "</div>\n",
              "    </div>\n",
              "  </div>\n"
            ]
          },
          "metadata": {},
          "execution_count": 60
        }
      ]
    },
    {
      "cell_type": "code",
      "source": [
        "# Create sentencizer - Source: https://spacy.io/usage/linguistic-features#sbd\n",
        "from spacy.lang.en import English\n",
        "nlp = English() # setup English sentence parser\n",
        "sentencizer = nlp.add_pipe(\"sentencizer\") # create sentence splitting pipeline object\n",
        "doc = nlp(example_abstracts[0][\"abstract\"])\n",
        "abstract_lines = [str(sent) for sent in list(doc.sents)]\n",
        "abstract_lines\n",
        "test_list=[]\n",
        "total_lines=len(abstract_lines)\n",
        "for i , lines in enumerate(abstract_lines):\n",
        "  test_dict={}\n",
        "  test_dict['text']=str(lines)\n",
        "  test_dict['line_number']=i\n",
        "  test_dict['total_lines']=total_lines-1\n",
        "  test_list.append(test_dict)\n",
        "test_list\n",
        "abstract_line=[line['text'] for line in test_list]\n",
        "abstract_line\n",
        "abstract_chars=[split_chars(line) for line in abstract_line]\n",
        "abstract_chars\n",
        "abstract_line_number=[line['line_number'] for line in test_list]\n",
        "abstract_line_number_one_hot=tf.one_hot(abstract_line_number,depth=20)\n",
        "abstract_line_number_one_hot\n",
        "abstract_total_lines=[line['total_lines'] for line in test_list]\n",
        "abstract_total_lines_one_hot=tf.one_hot(abstract_total_lines,depth=20)\n",
        "abstract_total_lines_one_hot\n"
      ],
      "metadata": {
        "colab": {
          "base_uri": "https://localhost:8080/"
        },
        "id": "PMBoga6VS0GD",
        "outputId": "5b78ad4e-ca36-47c1-8ad2-0656f6b346eb"
      },
      "execution_count": null,
      "outputs": [
        {
          "output_type": "execute_result",
          "data": {
            "text/plain": [
              "<tf.Tensor: shape=(8, 20), dtype=float32, numpy=\n",
              "array([[0., 0., 0., 0., 0., 0., 0., 1., 0., 0., 0., 0., 0., 0., 0., 0.,\n",
              "        0., 0., 0., 0.],\n",
              "       [0., 0., 0., 0., 0., 0., 0., 1., 0., 0., 0., 0., 0., 0., 0., 0.,\n",
              "        0., 0., 0., 0.],\n",
              "       [0., 0., 0., 0., 0., 0., 0., 1., 0., 0., 0., 0., 0., 0., 0., 0.,\n",
              "        0., 0., 0., 0.],\n",
              "       [0., 0., 0., 0., 0., 0., 0., 1., 0., 0., 0., 0., 0., 0., 0., 0.,\n",
              "        0., 0., 0., 0.],\n",
              "       [0., 0., 0., 0., 0., 0., 0., 1., 0., 0., 0., 0., 0., 0., 0., 0.,\n",
              "        0., 0., 0., 0.],\n",
              "       [0., 0., 0., 0., 0., 0., 0., 1., 0., 0., 0., 0., 0., 0., 0., 0.,\n",
              "        0., 0., 0., 0.],\n",
              "       [0., 0., 0., 0., 0., 0., 0., 1., 0., 0., 0., 0., 0., 0., 0., 0.,\n",
              "        0., 0., 0., 0.],\n",
              "       [0., 0., 0., 0., 0., 0., 0., 1., 0., 0., 0., 0., 0., 0., 0., 0.,\n",
              "        0., 0., 0., 0.]], dtype=float32)>"
            ]
          },
          "metadata": {},
          "execution_count": 64
        }
      ]
    },
    {
      "cell_type": "markdown",
      "source": [
        "Creating the a list of Dictionaries...."
      ],
      "metadata": {
        "id": "_o8KAx-nZubl"
      }
    },
    {
      "cell_type": "markdown",
      "source": [
        "Now our model required the inputs as the token_sentences,chars_sentences,line_ number_one_hot,total_line_one_hot."
      ],
      "metadata": {
        "id": "lCBacm1za55m"
      }
    },
    {
      "cell_type": "code",
      "source": [
        "random_example_testing=load_model.predict((tf.constant(abstract_line),\n",
        "                                           tf.constant(abstract_chars),\n",
        "                                           abstract_line_number_one_hot,\n",
        "                                           abstract_total_lines_one_hot))\n",
        "\n",
        "random_example_testing=tf.argmax(random_example_testing,axis=1)\n",
        "random_example_testing"
      ],
      "metadata": {
        "colab": {
          "base_uri": "https://localhost:8080/"
        },
        "id": "bo_9DU-addxY",
        "outputId": "4a6b4574-864d-47e9-ba98-d856a9bfca18"
      },
      "execution_count": null,
      "outputs": [
        {
          "output_type": "stream",
          "name": "stdout",
          "text": [
            "1/1 [==============================] - 0s 37ms/step\n"
          ]
        },
        {
          "output_type": "execute_result",
          "data": {
            "text/plain": [
              "<tf.Tensor: shape=(8,), dtype=int64, numpy=array([3, 2, 2, 2, 4, 2, 4, 4])>"
            ]
          },
          "metadata": {},
          "execution_count": 65
        }
      ]
    },
    {
      "cell_type": "code",
      "source": [
        "random_example_testing_classes=[label_encoder.classes_[i] for i in random_example_testing ]\n",
        "for i,line in enumerate(abstract_line):\n",
        "  print(\"{}:{}\".format(random_example_testing_classes[i],line))"
      ],
      "metadata": {
        "colab": {
          "base_uri": "https://localhost:8080/"
        },
        "id": "mQXaRLWreM8S",
        "outputId": "f7b3246b-6169-4587-8f93-36434ac4fbd8"
      },
      "execution_count": null,
      "outputs": [
        {
          "output_type": "stream",
          "name": "stdout",
          "text": [
            "OBJECTIVE:This RCT examined the efficacy of a manualized social intervention for children with HFASDs.\n",
            "METHODS:Participants were randomly assigned to treatment or wait-list conditions.\n",
            "METHODS:Treatment included instruction and therapeutic activities targeting social skills, face-emotion recognition, interest expansion, and interpretation of non-literal language.\n",
            "METHODS:A response-cost program was applied to reduce problem behaviors and foster skills acquisition.\n",
            "RESULTS:Significant treatment effects were found for five of seven primary outcome measures (parent ratings and direct child measures).\n",
            "METHODS:Secondary measures based on staff ratings (treatment group only) corroborated gains reported by parents.\n",
            "RESULTS:High levels of parent, child and staff satisfaction were reported, along with high levels of treatment fidelity.\n",
            "RESULTS:Standardized effect size estimates were primarily in the medium and large ranges and favored the treatment group.\n"
          ]
        }
      ]
    },
    {
      "cell_type": "code",
      "source": [],
      "metadata": {
        "id": "ouLI_g9dfq24"
      },
      "execution_count": null,
      "outputs": []
    },
    {
      "cell_type": "code",
      "source": [],
      "metadata": {
        "id": "w2su3aq6gP9Z"
      },
      "execution_count": null,
      "outputs": []
    }
  ]
}