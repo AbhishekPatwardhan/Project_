{
  "nbformat": 4,
  "nbformat_minor": 0,
  "metadata": {
    "colab": {
      "provenance": [],
      "gpuType": "T4",
      "authorship_tag": "ABX9TyOPTZktnULaNj6I90sRhvly",
      "include_colab_link": true
    },
    "kernelspec": {
      "name": "python3",
      "display_name": "Python 3"
    },
    "language_info": {
      "name": "python"
    },
    "accelerator": "GPU"
  },
  "cells": [
    {
      "cell_type": "markdown",
      "metadata": {
        "id": "view-in-github",
        "colab_type": "text"
      },
      "source": [
        "<a href=\"https://colab.research.google.com/github/AbhishekPatwardhan/Project_/blob/main/Natural_Language_Processing_with_Disaster_Tweets_Predict_.ipynb\" target=\"_parent\"><img src=\"https://colab.research.google.com/assets/colab-badge.svg\" alt=\"Open In Colab\"/></a>"
      ]
    },
    {
      "cell_type": "markdown",
      "source": [
        "Natural Language Processing is a branch of AI that enables the computers to understand,generate and manipulate human Languages.\n",
        "\n",
        "Great Resource regarding NLP:-https://www.analyticsvidhya.com/blog/2022/03/a-brief-overview-of-recurrent-neural-networks-rnn"
      ],
      "metadata": {
        "id": "Q52OLVhCKOpQ"
      }
    },
    {
      "cell_type": "markdown",
      "source": [
        "# Problem Statement: Natural Language Processing with Disaster Tweets.\n",
        "## Predict which Tweets are about real disasters and which ones are not\n"
      ],
      "metadata": {
        "id": "xubIWzAcLL9q"
      }
    },
    {
      "cell_type": "markdown",
      "source": [
        "All the train test dataset is downloaded from kaggle:-https://www.kaggle.com/competitions/nlp-getting-started"
      ],
      "metadata": {
        "id": "YlwYsQ_JLl1s"
      }
    },
    {
      "cell_type": "markdown",
      "source": [
        "Basic workflow of our model would be:\n",
        "\n",
        "Text -> turn into numbers -> build a model -> train the model to find patterns -> use patterns (make predictions)"
      ],
      "metadata": {
        "id": "xEdtakCgL3d6"
      }
    },
    {
      "cell_type": "markdown",
      "source": [
        "# Dataset"
      ],
      "metadata": {
        "id": "RwYml7tQMfqv"
      }
    },
    {
      "cell_type": "code",
      "execution_count": null,
      "metadata": {
        "id": "zGMD-IDd_Ced",
        "colab": {
          "base_uri": "https://localhost:8080/"
        },
        "outputId": "151ae4e0-473e-41e0-8525-ed1ada7ac4a5"
      },
      "outputs": [
        {
          "output_type": "stream",
          "name": "stdout",
          "text": [
            "--2023-08-30 12:08:40--  https://raw.githubusercontent.com/mrdbourke/tensorflow-deep-learning/main/extras/helper_functions.py\n",
            "Resolving raw.githubusercontent.com (raw.githubusercontent.com)... 185.199.108.133, 185.199.109.133, 185.199.110.133, ...\n",
            "Connecting to raw.githubusercontent.com (raw.githubusercontent.com)|185.199.108.133|:443... connected.\n",
            "HTTP request sent, awaiting response... 200 OK\n",
            "Length: 10246 (10K) [text/plain]\n",
            "Saving to: ‘helper_functions.py.1’\n",
            "\n",
            "\rhelper_functions.py   0%[                    ]       0  --.-KB/s               \rhelper_functions.py 100%[===================>]  10.01K  --.-KB/s    in 0.001s  \n",
            "\n",
            "2023-08-30 12:08:40 (14.9 MB/s) - ‘helper_functions.py.1’ saved [10246/10246]\n",
            "\n"
          ]
        }
      ],
      "source": [
        "!wget https://raw.githubusercontent.com/mrdbourke/tensorflow-deep-learning/main/extras/helper_functions.py"
      ]
    },
    {
      "cell_type": "markdown",
      "source": [
        "#Helper functions."
      ],
      "metadata": {
        "id": "F0CWuMOxKMs5"
      }
    },
    {
      "cell_type": "code",
      "source": [
        "# Import series of helper functions for the notebook\n",
        "from helper_functions import unzip_data, create_tensorboard_callback, plot_loss_curves, compare_historys,calculate_results"
      ],
      "metadata": {
        "id": "iBcQb2PjV0Ie"
      },
      "execution_count": null,
      "outputs": []
    },
    {
      "cell_type": "code",
      "source": [],
      "metadata": {
        "id": "yfCkTdvwKLzn"
      },
      "execution_count": null,
      "outputs": []
    },
    {
      "cell_type": "code",
      "source": [
        "# Download data (same as from Kaggle)\n",
        "!wget \"https://storage.googleapis.com/ztm_tf_course/nlp_getting_started.zip\""
      ],
      "metadata": {
        "colab": {
          "base_uri": "https://localhost:8080/"
        },
        "id": "S3OdxNo9V8fY",
        "outputId": "5f522e53-6b15-49f4-f4cd-c08c78d058fd"
      },
      "execution_count": null,
      "outputs": [
        {
          "output_type": "stream",
          "name": "stdout",
          "text": [
            "--2023-08-30 12:08:41--  https://storage.googleapis.com/ztm_tf_course/nlp_getting_started.zip\n",
            "Resolving storage.googleapis.com (storage.googleapis.com)... 74.125.135.128, 74.125.142.128, 173.194.202.128, ...\n",
            "Connecting to storage.googleapis.com (storage.googleapis.com)|74.125.135.128|:443... connected.\n",
            "HTTP request sent, awaiting response... 200 OK\n",
            "Length: 607343 (593K) [application/zip]\n",
            "Saving to: ‘nlp_getting_started.zip’\n",
            "\n",
            "\rnlp_getting_started   0%[                    ]       0  --.-KB/s               \rnlp_getting_started 100%[===================>] 593.11K  --.-KB/s    in 0.01s   \n",
            "\n",
            "2023-08-30 12:08:41 (53.9 MB/s) - ‘nlp_getting_started.zip’ saved [607343/607343]\n",
            "\n"
          ]
        }
      ]
    },
    {
      "cell_type": "code",
      "source": [
        "unzip_data(\"nlp_getting_started.zip\")"
      ],
      "metadata": {
        "id": "tTHENuFkYbp8"
      },
      "execution_count": null,
      "outputs": []
    },
    {
      "cell_type": "code",
      "source": [
        "# Visualizing a text dataset\n",
        "import pandas as pd\n",
        "\n",
        "train_df=pd.read_csv('train.csv')\n",
        "test_df=pd.read_csv('test.csv')"
      ],
      "metadata": {
        "id": "Hj7eT6cyYupL"
      },
      "execution_count": null,
      "outputs": []
    },
    {
      "cell_type": "code",
      "source": [
        "train_df.head()"
      ],
      "metadata": {
        "colab": {
          "base_uri": "https://localhost:8080/",
          "height": 206
        },
        "id": "IIaxpwWuN5Ss",
        "outputId": "f5bf3928-0c0f-4b56-abcd-feb5a3428a02"
      },
      "execution_count": null,
      "outputs": [
        {
          "output_type": "execute_result",
          "data": {
            "text/plain": [
              "   id keyword location                                               text  \\\n",
              "0   1     NaN      NaN  Our Deeds are the Reason of this #earthquake M...   \n",
              "1   4     NaN      NaN             Forest fire near La Ronge Sask. Canada   \n",
              "2   5     NaN      NaN  All residents asked to 'shelter in place' are ...   \n",
              "3   6     NaN      NaN  13,000 people receive #wildfires evacuation or...   \n",
              "4   7     NaN      NaN  Just got sent this photo from Ruby #Alaska as ...   \n",
              "\n",
              "   target  \n",
              "0       1  \n",
              "1       1  \n",
              "2       1  \n",
              "3       1  \n",
              "4       1  "
            ],
            "text/html": [
              "\n",
              "  <div id=\"df-0210ca19-e842-4be8-9337-7b4b30092c00\" class=\"colab-df-container\">\n",
              "    <div>\n",
              "<style scoped>\n",
              "    .dataframe tbody tr th:only-of-type {\n",
              "        vertical-align: middle;\n",
              "    }\n",
              "\n",
              "    .dataframe tbody tr th {\n",
              "        vertical-align: top;\n",
              "    }\n",
              "\n",
              "    .dataframe thead th {\n",
              "        text-align: right;\n",
              "    }\n",
              "</style>\n",
              "<table border=\"1\" class=\"dataframe\">\n",
              "  <thead>\n",
              "    <tr style=\"text-align: right;\">\n",
              "      <th></th>\n",
              "      <th>id</th>\n",
              "      <th>keyword</th>\n",
              "      <th>location</th>\n",
              "      <th>text</th>\n",
              "      <th>target</th>\n",
              "    </tr>\n",
              "  </thead>\n",
              "  <tbody>\n",
              "    <tr>\n",
              "      <th>0</th>\n",
              "      <td>1</td>\n",
              "      <td>NaN</td>\n",
              "      <td>NaN</td>\n",
              "      <td>Our Deeds are the Reason of this #earthquake M...</td>\n",
              "      <td>1</td>\n",
              "    </tr>\n",
              "    <tr>\n",
              "      <th>1</th>\n",
              "      <td>4</td>\n",
              "      <td>NaN</td>\n",
              "      <td>NaN</td>\n",
              "      <td>Forest fire near La Ronge Sask. Canada</td>\n",
              "      <td>1</td>\n",
              "    </tr>\n",
              "    <tr>\n",
              "      <th>2</th>\n",
              "      <td>5</td>\n",
              "      <td>NaN</td>\n",
              "      <td>NaN</td>\n",
              "      <td>All residents asked to 'shelter in place' are ...</td>\n",
              "      <td>1</td>\n",
              "    </tr>\n",
              "    <tr>\n",
              "      <th>3</th>\n",
              "      <td>6</td>\n",
              "      <td>NaN</td>\n",
              "      <td>NaN</td>\n",
              "      <td>13,000 people receive #wildfires evacuation or...</td>\n",
              "      <td>1</td>\n",
              "    </tr>\n",
              "    <tr>\n",
              "      <th>4</th>\n",
              "      <td>7</td>\n",
              "      <td>NaN</td>\n",
              "      <td>NaN</td>\n",
              "      <td>Just got sent this photo from Ruby #Alaska as ...</td>\n",
              "      <td>1</td>\n",
              "    </tr>\n",
              "  </tbody>\n",
              "</table>\n",
              "</div>\n",
              "    <div class=\"colab-df-buttons\">\n",
              "\n",
              "  <div class=\"colab-df-container\">\n",
              "    <button class=\"colab-df-convert\" onclick=\"convertToInteractive('df-0210ca19-e842-4be8-9337-7b4b30092c00')\"\n",
              "            title=\"Convert this dataframe to an interactive table.\"\n",
              "            style=\"display:none;\">\n",
              "\n",
              "  <svg xmlns=\"http://www.w3.org/2000/svg\" height=\"24px\" viewBox=\"0 -960 960 960\">\n",
              "    <path d=\"M120-120v-720h720v720H120Zm60-500h600v-160H180v160Zm220 220h160v-160H400v160Zm0 220h160v-160H400v160ZM180-400h160v-160H180v160Zm440 0h160v-160H620v160ZM180-180h160v-160H180v160Zm440 0h160v-160H620v160Z\"/>\n",
              "  </svg>\n",
              "    </button>\n",
              "\n",
              "  <style>\n",
              "    .colab-df-container {\n",
              "      display:flex;\n",
              "      gap: 12px;\n",
              "    }\n",
              "\n",
              "    .colab-df-convert {\n",
              "      background-color: #E8F0FE;\n",
              "      border: none;\n",
              "      border-radius: 50%;\n",
              "      cursor: pointer;\n",
              "      display: none;\n",
              "      fill: #1967D2;\n",
              "      height: 32px;\n",
              "      padding: 0 0 0 0;\n",
              "      width: 32px;\n",
              "    }\n",
              "\n",
              "    .colab-df-convert:hover {\n",
              "      background-color: #E2EBFA;\n",
              "      box-shadow: 0px 1px 2px rgba(60, 64, 67, 0.3), 0px 1px 3px 1px rgba(60, 64, 67, 0.15);\n",
              "      fill: #174EA6;\n",
              "    }\n",
              "\n",
              "    .colab-df-buttons div {\n",
              "      margin-bottom: 4px;\n",
              "    }\n",
              "\n",
              "    [theme=dark] .colab-df-convert {\n",
              "      background-color: #3B4455;\n",
              "      fill: #D2E3FC;\n",
              "    }\n",
              "\n",
              "    [theme=dark] .colab-df-convert:hover {\n",
              "      background-color: #434B5C;\n",
              "      box-shadow: 0px 1px 3px 1px rgba(0, 0, 0, 0.15);\n",
              "      filter: drop-shadow(0px 1px 2px rgba(0, 0, 0, 0.3));\n",
              "      fill: #FFFFFF;\n",
              "    }\n",
              "  </style>\n",
              "\n",
              "    <script>\n",
              "      const buttonEl =\n",
              "        document.querySelector('#df-0210ca19-e842-4be8-9337-7b4b30092c00 button.colab-df-convert');\n",
              "      buttonEl.style.display =\n",
              "        google.colab.kernel.accessAllowed ? 'block' : 'none';\n",
              "\n",
              "      async function convertToInteractive(key) {\n",
              "        const element = document.querySelector('#df-0210ca19-e842-4be8-9337-7b4b30092c00');\n",
              "        const dataTable =\n",
              "          await google.colab.kernel.invokeFunction('convertToInteractive',\n",
              "                                                    [key], {});\n",
              "        if (!dataTable) return;\n",
              "\n",
              "        const docLinkHtml = 'Like what you see? Visit the ' +\n",
              "          '<a target=\"_blank\" href=https://colab.research.google.com/notebooks/data_table.ipynb>data table notebook</a>'\n",
              "          + ' to learn more about interactive tables.';\n",
              "        element.innerHTML = '';\n",
              "        dataTable['output_type'] = 'display_data';\n",
              "        await google.colab.output.renderOutput(dataTable, element);\n",
              "        const docLink = document.createElement('div');\n",
              "        docLink.innerHTML = docLinkHtml;\n",
              "        element.appendChild(docLink);\n",
              "      }\n",
              "    </script>\n",
              "  </div>\n",
              "\n",
              "\n",
              "<div id=\"df-254c7d26-fcc4-43a4-bba1-e44888b6d7ed\">\n",
              "  <button class=\"colab-df-quickchart\" onclick=\"quickchart('df-254c7d26-fcc4-43a4-bba1-e44888b6d7ed')\"\n",
              "            title=\"Suggest charts.\"\n",
              "            style=\"display:none;\">\n",
              "\n",
              "<svg xmlns=\"http://www.w3.org/2000/svg\" height=\"24px\"viewBox=\"0 0 24 24\"\n",
              "     width=\"24px\">\n",
              "    <g>\n",
              "        <path d=\"M19 3H5c-1.1 0-2 .9-2 2v14c0 1.1.9 2 2 2h14c1.1 0 2-.9 2-2V5c0-1.1-.9-2-2-2zM9 17H7v-7h2v7zm4 0h-2V7h2v10zm4 0h-2v-4h2v4z\"/>\n",
              "    </g>\n",
              "</svg>\n",
              "  </button>\n",
              "\n",
              "<style>\n",
              "  .colab-df-quickchart {\n",
              "    background-color: #E8F0FE;\n",
              "    border: none;\n",
              "    border-radius: 50%;\n",
              "    cursor: pointer;\n",
              "    display: none;\n",
              "    fill: #1967D2;\n",
              "    height: 32px;\n",
              "    padding: 0 0 0 0;\n",
              "    width: 32px;\n",
              "  }\n",
              "\n",
              "  .colab-df-quickchart:hover {\n",
              "    background-color: #E2EBFA;\n",
              "    box-shadow: 0px 1px 2px rgba(60, 64, 67, 0.3), 0px 1px 3px 1px rgba(60, 64, 67, 0.15);\n",
              "    fill: #174EA6;\n",
              "  }\n",
              "\n",
              "  [theme=dark] .colab-df-quickchart {\n",
              "    background-color: #3B4455;\n",
              "    fill: #D2E3FC;\n",
              "  }\n",
              "\n",
              "  [theme=dark] .colab-df-quickchart:hover {\n",
              "    background-color: #434B5C;\n",
              "    box-shadow: 0px 1px 3px 1px rgba(0, 0, 0, 0.15);\n",
              "    filter: drop-shadow(0px 1px 2px rgba(0, 0, 0, 0.3));\n",
              "    fill: #FFFFFF;\n",
              "  }\n",
              "</style>\n",
              "\n",
              "  <script>\n",
              "    async function quickchart(key) {\n",
              "      const charts = await google.colab.kernel.invokeFunction(\n",
              "          'suggestCharts', [key], {});\n",
              "    }\n",
              "    (() => {\n",
              "      let quickchartButtonEl =\n",
              "        document.querySelector('#df-254c7d26-fcc4-43a4-bba1-e44888b6d7ed button');\n",
              "      quickchartButtonEl.style.display =\n",
              "        google.colab.kernel.accessAllowed ? 'block' : 'none';\n",
              "    })();\n",
              "  </script>\n",
              "</div>\n",
              "    </div>\n",
              "  </div>\n"
            ]
          },
          "metadata": {},
          "execution_count": 12
        }
      ]
    },
    {
      "cell_type": "code",
      "source": [
        "train_df_shuffled=train_df.sample(frac=1,random_state=42)"
      ],
      "metadata": {
        "id": "HcxihLG3YSux"
      },
      "execution_count": null,
      "outputs": []
    },
    {
      "cell_type": "code",
      "source": [
        "# Check if the dataset is balanced or not\n",
        "train_df.target.value_counts()"
      ],
      "metadata": {
        "colab": {
          "base_uri": "https://localhost:8080/"
        },
        "id": "R_mug6H8OHCP",
        "outputId": "dc51d1b3-f584-4c3f-bd23-072eb9dced42"
      },
      "execution_count": null,
      "outputs": [
        {
          "output_type": "execute_result",
          "data": {
            "text/plain": [
              "0    4342\n",
              "1    3271\n",
              "Name: target, dtype: int64"
            ]
          },
          "metadata": {},
          "execution_count": 14
        }
      ]
    },
    {
      "cell_type": "markdown",
      "source": [
        "Now we will split the train dataset into tarin and validation dataset.This practice will help us to understand the False Predictions of our model.\n",
        "Rather than directly testing it on test dataset we will test it on validation data correct the errors & then go for the test data.\n",
        "\n",
        "It is not actually necessary to have validation dataset but it will help to enhance th accuracy"
      ],
      "metadata": {
        "id": "m6NrM_Y3Mvem"
      }
    },
    {
      "cell_type": "code",
      "source": [
        "from sklearn.model_selection import train_test_split\n",
        "\n",
        "# Use train_test_split to split training data into training and validation sets\n",
        "train_sentences, val_sentences, train_labels, val_labels = train_test_split(train_df_shuffled[\"text\"].to_numpy(),\n",
        "                                                                            train_df_shuffled[\"target\"].to_numpy(),\n",
        "                                                                            test_size=0.1, # dedicate 10% of samples to validation set\n",
        "                                                                            random_state=42)"
      ],
      "metadata": {
        "id": "CkkPgcymOG-w"
      },
      "execution_count": null,
      "outputs": []
    },
    {
      "cell_type": "code",
      "source": [
        "train_sentences[:10],train_labels[:10]"
      ],
      "metadata": {
        "colab": {
          "base_uri": "https://localhost:8080/"
        },
        "id": "IhmxtiweOG8W",
        "outputId": "5ef1f362-20e6-41be-97ae-ed9e90c0eabe"
      },
      "execution_count": null,
      "outputs": [
        {
          "output_type": "execute_result",
          "data": {
            "text/plain": [
              "(array(['@mogacola @zamtriossu i screamed after hitting tweet',\n",
              "        'Imagine getting flattened by Kurt Zouma',\n",
              "        '@Gurmeetramrahim #MSGDoing111WelfareWorks Green S welfare force ke appx 65000 members har time disaster victim ki help ke liye tyar hai....',\n",
              "        \"@shakjn @C7 @Magnums im shaking in fear he's gonna hack the planet\",\n",
              "        'Somehow find you and I collide http://t.co/Ee8RpOahPk',\n",
              "        '@EvaHanderek @MarleyKnysh great times until the bus driver held us hostage in the mall parking lot lmfao',\n",
              "        'destroy the free fandom honestly',\n",
              "        'Weapons stolen from National Guard Armory in New Albany still missing #Gunsense http://t.co/lKNU8902JE',\n",
              "        '@wfaaweather Pete when will the heat wave pass? Is it really going to be mid month? Frisco Boy Scouts have a canoe trip in Okla.',\n",
              "        'Patient-reported outcomes in long-term survivors of metastatic colorectal cancer - British Journal of Surgery http://t.co/5Yl4DC1Tqt'],\n",
              "       dtype=object),\n",
              " array([0, 0, 1, 0, 0, 1, 1, 0, 1, 1]))"
            ]
          },
          "metadata": {},
          "execution_count": 16
        }
      ]
    },
    {
      "cell_type": "markdown",
      "source": [
        "# Textvectorization:-\n",
        "Text Vectorization is the process of converting text into numerical representation."
      ],
      "metadata": {
        "id": "2Fa3zCTeOI-K"
      }
    },
    {
      "cell_type": "code",
      "source": [
        "import tensorflow as tf\n",
        "from tensorflow.keras.layers import TextVectorization\n",
        "text_vectorizer=TextVectorization(max_tokens=None,\n",
        "                                  standardize='lower_and_strip_punctuation',\n",
        "                                  split='whitespace',\n",
        "                                  ngrams=None,\n",
        "                                  output_mode='int',\n",
        "                                  output_sequence_length=None,\n",
        "                                  pad_to_max_tokens=False,\n",
        "                                  )\n"
      ],
      "metadata": {
        "id": "WnckoELjOG54"
      },
      "execution_count": null,
      "outputs": []
    },
    {
      "cell_type": "code",
      "source": [
        "# Find average number of tokens (words) in training Tweets\n",
        "round(sum([len(i.split()) for i in train_sentences])/len(train_sentences))\n"
      ],
      "metadata": {
        "colab": {
          "base_uri": "https://localhost:8080/"
        },
        "id": "dIxq8MuFOGtZ",
        "outputId": "91afd2a6-7e00-4121-ab81-14e26b51e6e8"
      },
      "execution_count": null,
      "outputs": [
        {
          "output_type": "execute_result",
          "data": {
            "text/plain": [
              "15"
            ]
          },
          "metadata": {},
          "execution_count": 18
        }
      ]
    },
    {
      "cell_type": "code",
      "source": [
        "# Setup text vectorization with custom variables\n",
        "max_vocab_length = 10000 # max number of words to have in our vocabulary\n",
        "max_length = 15 # max length our sequences will be (e.g. how many words from a Tweet does our model see?)\n",
        "\n",
        "text_vectorizer = TextVectorization(max_tokens=max_vocab_length,\n",
        "                                    output_mode=\"int\",\n",
        "                                    output_sequence_length=max_length)"
      ],
      "metadata": {
        "id": "7EWbX5GZlZ3b"
      },
      "execution_count": null,
      "outputs": []
    },
    {
      "cell_type": "code",
      "source": [
        "text_vectorizer.adapt(train_sentences)"
      ],
      "metadata": {
        "id": "KP_znLdDmWzJ"
      },
      "execution_count": null,
      "outputs": []
    },
    {
      "cell_type": "markdown",
      "source": [
        "Randomly choosing the sentence from the train sentences and check the vectorizer works correctly."
      ],
      "metadata": {
        "id": "4DBYtMuiOyyZ"
      }
    },
    {
      "cell_type": "code",
      "source": [
        "# Check the text vectorizer on Random sentences from the train sentences.\n",
        "import random\n",
        "random_sentences=random.choice(train_sentences)\n",
        "print(\"Original Sentence: {}\".format(random_sentences))\n",
        "print(text_vectorizer([random_sentences]))\n"
      ],
      "metadata": {
        "colab": {
          "base_uri": "https://localhost:8080/"
        },
        "id": "IypHbl0Wq1gp",
        "outputId": "b668b7fc-bbe2-4337-8737-31a0fed7cc0a"
      },
      "execution_count": null,
      "outputs": [
        {
          "output_type": "stream",
          "name": "stdout",
          "text": [
            "Original Sentence: CAP: 'the DRIVE Act represents the failure of Senate Republicans to address the structural shortfalls plaguing the Highway Trust Fund'\n",
            "tf.Tensor(\n",
            "[[   1    2  955 1231 9178    2  320    6 2711 2004    5 2572    2  384\n",
            "  8548]], shape=(1, 15), dtype=int64)\n"
          ]
        }
      ]
    },
    {
      "cell_type": "markdown",
      "source": [
        "# Embedding:\n",
        "In natural language processing, a word embedding is a representation of a word. The embedding is used in text analysis. Typically, the representation is a real-valued vector that encodes the meaning of the word in such a way that words that are closer in the vector space are expected to be similar in meaning"
      ],
      "metadata": {
        "id": "8_FnkcYvPnmN"
      }
    },
    {
      "cell_type": "markdown",
      "source": [
        "Embedding can be done by two ways either by creating it as a Layer using layers.embedding as shown below.\n",
        "In the below method we cannot directly provide the input as the text , it has to be converted into the vector using text_vectorizer.\n",
        "\n",
        "This Embedding layer will learn and update itself during the trainning process.\n",
        "\n"
      ],
      "metadata": {
        "id": "Hyer8TDeP8bL"
      }
    },
    {
      "cell_type": "markdown",
      "source": [
        "# Embedding vs Textvectorization :-\n",
        "https://www.analyticsvidhya.com/blog/2021/06/part-5-step-by-step-guide-to-master-nlp-text-vectorization-approaches"
      ],
      "metadata": {
        "id": "FbLv37IFPni2"
      }
    },
    {
      "cell_type": "code",
      "source": [
        "from tensorflow.keras import layers\n",
        "embedding=layers.Embedding(input_dim=max_vocab_length,\n",
        "                           output_dim=128,\n",
        "                           input_length=max_length)"
      ],
      "metadata": {
        "id": "9sFodKlXw33b"
      },
      "execution_count": null,
      "outputs": []
    },
    {
      "cell_type": "code",
      "source": [
        "# Check for embedding\n",
        "\n",
        "random_choice=random.choice(train_sentences)\n",
        "print(\"original sentence {}\".format(random_choice))\n",
        "sample_embed=embedding(text_vectorizer([random_choice])) # embedding cannot be applied on the text directly for that sentences need to be converted in the vectors\n",
        "print(\"embeded sentence: {}\".format(sample_embed) )"
      ],
      "metadata": {
        "colab": {
          "base_uri": "https://localhost:8080/"
        },
        "id": "2AfvjQY3w8l4",
        "outputId": "bf149f64-ce21-4fad-ea97-387a1eae55e9"
      },
      "execution_count": null,
      "outputs": [
        {
          "output_type": "stream",
          "name": "stdout",
          "text": [
            "original sentence In a dream you saw a way to survive and you were full of joy.\n",
            "embeded sentence: [[[-0.02607331  0.04924675 -0.03493056 ...  0.02340562  0.03964734\n",
            "   -0.04871846]\n",
            "  [ 0.00546222  0.00025784 -0.02891767 ... -0.00723854 -0.01307075\n",
            "    0.04139489]\n",
            "  [ 0.02562828 -0.02500087  0.04843969 ...  0.04161349 -0.0361576\n",
            "   -0.04996213]\n",
            "  ...\n",
            "  [ 0.04539254  0.04299331  0.01613629 ...  0.00563527 -0.01497827\n",
            "    0.03106633]\n",
            "  [-0.00045364 -0.0183826  -0.04153015 ...  0.00137396 -0.01919938\n",
            "    0.02528146]\n",
            "  [-0.0465668  -0.03659903 -0.01548756 ... -0.01341599  0.02153874\n",
            "    0.02083386]]]\n"
          ]
        }
      ]
    },
    {
      "cell_type": "markdown",
      "source": [
        "# Mainly 2 Models are create in this\n",
        "1> model_LSTM. (Using embeding layer as we created above)\n",
        "2> Final_model.(Using the Transfer Learning method .)"
      ],
      "metadata": {
        "id": "h2D9SDW6RAG8"
      }
    },
    {
      "cell_type": "markdown",
      "source": [
        "Model LSTM (Long Short Term Memory)\n",
        "\n",
        "Input-->Tokenization-->Embedding-->LSTM --> output\n",
        "\n"
      ],
      "metadata": {
        "id": "zWz85BwDy2n0"
      }
    },
    {
      "cell_type": "code",
      "source": [
        "import tensorflow as tf\n"
      ],
      "metadata": {
        "id": "hHtvvSYB8zqY"
      },
      "execution_count": null,
      "outputs": []
    },
    {
      "cell_type": "code",
      "source": [
        "from tensorflow.keras import layers\n",
        "input=layers.Input(shape=(1,),dtype=\"string\")\n",
        "x=text_vectorizer(input)\n",
        "x=embedding(x)\n",
        "x=layers.LSTM(64,return_sequences=True)(x)\n",
        "x=layers.LSTM(64)(x)\n",
        "x=layers.Dense(64,activation=\"relu\")(x)\n",
        "output=layers.Dense(1,activation=\"sigmoid\")(x)\n",
        "model_LSTM=tf.keras.Model(input,output,name=\"model_LSTM\")\n",
        "\n"
      ],
      "metadata": {
        "id": "ZOAk6fCA5gdt"
      },
      "execution_count": null,
      "outputs": []
    },
    {
      "cell_type": "code",
      "source": [
        "model_LSTM.compile(loss=\"binary_crossentropy\",\n",
        "                optimizer=tf.keras.optimizers.Adam(),\n",
        "                metrics=[\"accuracy\"])\n",
        "model_LSTM_history=model_LSTM.fit(train_sentences,\n",
        "                                  train_labels,\n",
        "                                  validation_data=(val_sentences,val_labels),\n",
        "                                  epochs=5)"
      ],
      "metadata": {
        "colab": {
          "base_uri": "https://localhost:8080/"
        },
        "id": "5vYzcvod6gul",
        "outputId": "321e0bfa-d951-4d6d-bcc0-155a8272000f"
      },
      "execution_count": null,
      "outputs": [
        {
          "output_type": "stream",
          "name": "stdout",
          "text": [
            "Epoch 1/5\n",
            "215/215 [==============================] - 27s 77ms/step - loss: 0.5020 - accuracy: 0.7557 - val_loss: 0.4759 - val_accuracy: 0.7795\n",
            "Epoch 2/5\n",
            "215/215 [==============================] - 4s 17ms/step - loss: 0.3145 - accuracy: 0.8707 - val_loss: 0.4723 - val_accuracy: 0.7887\n",
            "Epoch 3/5\n",
            "215/215 [==============================] - 4s 17ms/step - loss: 0.2248 - accuracy: 0.9159 - val_loss: 0.5825 - val_accuracy: 0.7703\n",
            "Epoch 4/5\n",
            "215/215 [==============================] - 2s 10ms/step - loss: 0.1606 - accuracy: 0.9409 - val_loss: 0.8613 - val_accuracy: 0.7493\n",
            "Epoch 5/5\n",
            "215/215 [==============================] - 3s 14ms/step - loss: 0.1124 - accuracy: 0.9569 - val_loss: 0.7617 - val_accuracy: 0.7730\n"
          ]
        }
      ]
    },
    {
      "cell_type": "code",
      "source": [
        "model_Lstm_prob=model_LSTM.predict(val_sentences)\n",
        "model_Lstm_prob[:10]"
      ],
      "metadata": {
        "id": "e2LuBWQzBdGT",
        "colab": {
          "base_uri": "https://localhost:8080/"
        },
        "outputId": "a21f9544-dd1b-4be3-8e2a-ddb5d2ccdc8a"
      },
      "execution_count": null,
      "outputs": [
        {
          "output_type": "stream",
          "name": "stdout",
          "text": [
            "24/24 [==============================] - 1s 3ms/step\n"
          ]
        },
        {
          "output_type": "execute_result",
          "data": {
            "text/plain": [
              "array([[0.06537024],\n",
              "       [0.9814122 ],\n",
              "       [0.99932945],\n",
              "       [0.11479244],\n",
              "       [0.00916585],\n",
              "       [0.99781287],\n",
              "       [0.70306665],\n",
              "       [0.99982077],\n",
              "       [0.9998005 ],\n",
              "       [0.2450785 ]], dtype=float32)"
            ]
          },
          "metadata": {},
          "execution_count": 27
        }
      ]
    },
    {
      "cell_type": "code",
      "source": [
        "model_Lstm_prob=tf.squeeze(tf.round(model_Lstm_prob))\n",
        "model_Lstm_prob[:10]"
      ],
      "metadata": {
        "colab": {
          "base_uri": "https://localhost:8080/"
        },
        "id": "vF7CP1iDy3F4",
        "outputId": "c33b2c92-8b31-4ff5-c926-674f15ab3b27"
      },
      "execution_count": null,
      "outputs": [
        {
          "output_type": "execute_result",
          "data": {
            "text/plain": [
              "<tf.Tensor: shape=(10,), dtype=float32, numpy=array([0., 1., 1., 0., 0., 1., 1., 1., 1., 0.], dtype=float32)>"
            ]
          },
          "metadata": {},
          "execution_count": 28
        }
      ]
    },
    {
      "cell_type": "markdown",
      "source": [
        "# Visulize the model_LSTM :-"
      ],
      "metadata": {
        "id": "6MaCIZ6rSC_k"
      }
    },
    {
      "cell_type": "code",
      "source": [
        "plot_loss_curves(model_LSTM_history)"
      ],
      "metadata": {
        "colab": {
          "base_uri": "https://localhost:8080/",
          "height": 927
        },
        "id": "3cs3z8NDSMLA",
        "outputId": "a793ac19-a1b1-475f-d22e-f0bd7780381f"
      },
      "execution_count": null,
      "outputs": [
        {
          "output_type": "display_data",
          "data": {
            "text/plain": [
              "<Figure size 640x480 with 1 Axes>"
            ],
            "image/png": "[encoded data removed]"
          },
          "metadata": {}
        },
        {
          "output_type": "display_data",
          "data": {
            "text/plain": [
              "<Figure size 640x480 with 1 Axes>"
            ],
            "image/png": "[encoded data removed]"
          },
          "metadata": {}
        }
      ]
    },
    {
      "cell_type": "markdown",
      "source": [
        "Now we've got predicted classes, let's evaluate them against the ground truth labels."
      ],
      "metadata": {
        "id": "8rBaILld0IaQ"
      }
    },
    {
      "cell_type": "code",
      "source": [
        "# Calculate LSTM model results\n",
        "model_Lstm_results = calculate_results(y_true=val_labels,\n",
        "                                    y_pred=model_Lstm_prob)\n",
        "model_Lstm_results"
      ],
      "metadata": {
        "colab": {
          "base_uri": "https://localhost:8080/"
        },
        "id": "mY3yA_jUC2Tb",
        "outputId": "8f26a505-fdfe-4576-86c6-de03c63e7216"
      },
      "execution_count": null,
      "outputs": [
        {
          "output_type": "execute_result",
          "data": {
            "text/plain": [
              "{'accuracy': 77.29658792650919,\n",
              " 'precision': 0.7753400570774207,\n",
              " 'recall': 0.7729658792650919,\n",
              " 'f1': 0.7705764257839071}"
            ]
          },
          "metadata": {},
          "execution_count": 30
        }
      ]
    },
    {
      "cell_type": "markdown",
      "source": [
        "#Transfer Learning:-\n",
        "\n",
        "Process in which pretrained models are used inorder to enhance the accuracy of the mode is the reuse of a pre-trained model on a new problem. In transfer learning, a machine exploits the knowledge gained from a previous task to improve generalization about another."
      ],
      "metadata": {
        "id": "A3cXbC9XSWFi"
      }
    },
    {
      "cell_type": "markdown",
      "source": [
        "Here we make use of the pretrained embedding layer **universal-sentence-encoder**"
      ],
      "metadata": {
        "id": "R5b9EFXkS9LB"
      }
    },
    {
      "cell_type": "markdown",
      "source": [
        "Using the universal sentence encoder a pretrained embedding model from tensorflow_hub.\n",
        "The input is variable length English text and the output is a 512 dimensional vector."
      ],
      "metadata": {
        "id": "FFylewE25A3q"
      }
    },
    {
      "cell_type": "code",
      "source": [
        "import tensorflow_hub as hub\n",
        "embed=hub.load('https://tfhub.dev/google/universal-sentence-encoder/4')\n"
      ],
      "metadata": {
        "id": "g5fLpZyB5AuX"
      },
      "execution_count": null,
      "outputs": []
    },
    {
      "cell_type": "code",
      "source": [
        "sample_embed=embed([random_sentences])\n",
        "sample_embed"
      ],
      "metadata": {
        "colab": {
          "base_uri": "https://localhost:8080/"
        },
        "id": "Knbb7nud5Byl",
        "outputId": "9224c6c1-e615-43b3-b19e-0e4ce672443b"
      },
      "execution_count": null,
      "outputs": [
        {
          "output_type": "execute_result",
          "data": {
            "text/plain": [
              "<tf.Tensor: shape=(1, 512), dtype=float32, numpy=\n",
              "array([[ 6.47219718e-02, -6.33950159e-02,  1.20778196e-02,\n",
              "        -4.35845330e-02,  1.24159865e-02, -7.37327635e-02,\n",
              "        -3.17458846e-02, -2.57962570e-02, -2.08438411e-02,\n",
              "        -8.18180945e-03, -1.37040326e-02,  1.94770657e-02,\n",
              "        -1.02794906e-02, -2.18163580e-02,  3.92556265e-02,\n",
              "        -8.36113766e-02,  4.09338810e-02,  1.27428025e-02,\n",
              "         3.69983763e-02,  3.22636291e-02, -6.18488155e-02,\n",
              "        -3.39008197e-02,  3.87142673e-02, -5.15656844e-02,\n",
              "        -1.37637637e-03, -6.51310533e-02,  5.30666262e-02,\n",
              "        -2.38153413e-02, -5.66348284e-02,  3.59116830e-02,\n",
              "        -3.63735370e-02, -3.93142030e-02, -2.32904144e-02,\n",
              "        -5.58060482e-02, -7.91496709e-02, -7.66800568e-02,\n",
              "         3.45528759e-02,  3.08534559e-02, -2.55636480e-02,\n",
              "        -4.71706986e-02,  8.35445300e-02, -2.10817251e-02,\n",
              "        -5.51105700e-02, -6.26134276e-02, -6.55778497e-02,\n",
              "        -4.69437428e-02,  3.50570045e-02, -7.59988576e-02,\n",
              "        -2.08152048e-02, -7.35024959e-02, -7.63178691e-02,\n",
              "        -3.42392623e-02,  3.63593623e-02, -2.12513953e-02,\n",
              "         3.02985422e-02,  2.32784972e-02,  3.44431140e-02,\n",
              "         1.56747345e-02,  6.93728551e-02, -3.70347314e-02,\n",
              "         2.18316410e-02,  6.35139495e-02, -2.59439112e-04,\n",
              "         3.21529806e-02, -4.05764952e-02,  3.04262969e-03,\n",
              "         3.57232913e-02, -1.12936841e-02,  3.02771106e-02,\n",
              "         5.67425676e-02,  3.81202176e-02,  3.13704684e-02,\n",
              "         2.90496424e-02, -9.76646040e-03, -4.24118787e-02,\n",
              "         5.58382683e-02, -5.57480305e-02,  2.36929953e-02,\n",
              "         8.49799961e-02, -3.82797569e-02,  2.99426802e-02,\n",
              "        -6.77958829e-03, -2.27681771e-02, -7.33303651e-02,\n",
              "        -5.42000867e-02, -3.03805452e-02,  3.25997621e-02,\n",
              "        -8.51419866e-02,  7.42041916e-02,  1.39857493e-02,\n",
              "         1.93670318e-02,  2.47937925e-02,  3.87927294e-02,\n",
              "         1.95396375e-02, -3.20471600e-02, -6.48695743e-03,\n",
              "        -6.47019744e-02, -3.02571990e-02,  7.44136721e-02,\n",
              "        -8.45231861e-03,  2.90266033e-02,  1.07222861e-02,\n",
              "        -2.86209118e-02, -3.49818245e-02, -1.82109475e-02,\n",
              "        -5.53873107e-02, -6.67338148e-02, -6.80424571e-02,\n",
              "        -1.85528398e-02, -2.57215519e-02, -5.00324331e-02,\n",
              "        -7.67181665e-02, -6.89243991e-03, -4.75661643e-03,\n",
              "         1.05305091e-02,  5.05907647e-02, -7.69500360e-02,\n",
              "         4.24814783e-02, -2.27446258e-02, -1.89244207e-02,\n",
              "        -1.37928966e-02, -1.89926457e-02,  1.75227597e-02,\n",
              "         6.84465393e-02,  2.40354054e-02,  8.21855143e-02,\n",
              "         7.62434900e-02,  2.59119608e-02,  3.90906371e-02,\n",
              "        -1.75966788e-02, -2.66473778e-02, -4.56934646e-02,\n",
              "         6.20412789e-02, -3.81842218e-02,  4.22914587e-02,\n",
              "        -5.12715951e-02, -1.85389239e-02,  1.29293697e-02,\n",
              "        -5.84314577e-02, -2.28451230e-02, -1.04667107e-02,\n",
              "         4.14586887e-02, -6.67628050e-02, -4.17602360e-02,\n",
              "         2.81278379e-02,  7.28108687e-03, -2.49529947e-02,\n",
              "         2.26373225e-02, -8.21072087e-02, -8.08074605e-03,\n",
              "        -7.22867101e-02, -2.80081965e-02, -6.48614299e-03,\n",
              "         5.41453026e-02, -1.15349554e-02,  1.95287745e-02,\n",
              "        -2.30333526e-02,  3.13583575e-03, -6.49677292e-02,\n",
              "        -6.08993173e-02,  3.51725854e-02,  4.70320731e-02,\n",
              "        -4.79667913e-04,  2.79171430e-02, -1.33352717e-02,\n",
              "        -3.59485820e-02,  1.59859601e-02,  4.12663929e-02,\n",
              "         2.80750021e-02,  1.67574883e-02,  4.73372638e-02,\n",
              "        -8.47698748e-02,  3.49155976e-03, -1.88227165e-02,\n",
              "        -1.24811204e-02,  3.26983705e-02, -1.15078967e-02,\n",
              "        -4.27830312e-03, -8.77712443e-02,  6.74920678e-02,\n",
              "         2.31775846e-02,  6.73573166e-02, -6.35229200e-02,\n",
              "        -6.04069466e-03,  6.43697232e-02, -6.87848357e-03,\n",
              "        -1.01227304e-02, -1.01758875e-02,  5.64672276e-02,\n",
              "         3.91480979e-03,  8.39446951e-03, -4.68224846e-02,\n",
              "         7.52735734e-02,  4.67309020e-02, -8.70092064e-02,\n",
              "        -6.49244860e-02, -1.26335607e-03,  1.92188076e-03,\n",
              "        -2.10495722e-02,  2.37900522e-02,  8.50462168e-02,\n",
              "         4.05119695e-02, -6.26349123e-03, -5.83073981e-02,\n",
              "        -3.57667431e-02,  1.24322660e-02, -5.21119684e-02,\n",
              "         3.21204104e-02,  7.80651672e-03, -5.14945202e-03,\n",
              "        -4.02323604e-02, -1.17870392e-02,  2.94430237e-02,\n",
              "        -2.55416706e-02, -6.24837726e-02, -8.74364898e-02,\n",
              "        -3.60013805e-02, -5.35908639e-02, -7.43038282e-02,\n",
              "        -3.71004157e-02,  6.10436238e-02, -3.27340588e-02,\n",
              "        -6.84986264e-02, -6.75318316e-02,  5.74882701e-02,\n",
              "        -3.21539566e-02,  4.39648563e-03,  3.50033268e-02,\n",
              "         5.40049747e-02,  6.18765615e-02, -4.35749814e-02,\n",
              "        -3.26593034e-02, -6.22769743e-02, -8.66297036e-02,\n",
              "         1.53879961e-02,  1.96417738e-02,  5.92020974e-02,\n",
              "        -4.45946679e-03, -7.35054761e-02,  2.96549033e-02,\n",
              "         4.54923436e-02, -7.27437660e-02,  4.93794642e-02,\n",
              "        -7.48735592e-02,  1.73051860e-02,  1.91324353e-02,\n",
              "        -4.75132689e-02,  7.88639486e-02, -1.15588084e-02,\n",
              "         3.61141488e-02,  7.31994584e-02,  6.26065359e-02,\n",
              "        -1.54387383e-02, -4.51589152e-02,  6.11894822e-04,\n",
              "         5.90016274e-03,  2.53826939e-02,  4.08797674e-02,\n",
              "         7.48520344e-02,  2.91570649e-02,  4.37125564e-02,\n",
              "        -1.66868418e-02, -4.65558060e-02, -4.66903560e-02,\n",
              "        -6.01073131e-02,  7.72092715e-02,  3.71676981e-02,\n",
              "        -5.14762625e-02, -4.91357408e-02, -2.10428163e-02,\n",
              "        -2.99974754e-02,  4.92467880e-02,  3.80481072e-02,\n",
              "         5.89162223e-02, -3.37457731e-02,  7.90204406e-02,\n",
              "        -2.85787862e-02,  7.17194332e-03,  7.89365768e-02,\n",
              "        -3.30171622e-02, -1.09976099e-03,  1.94410551e-02,\n",
              "         3.99699062e-02,  1.91038882e-03, -3.69759165e-02,\n",
              "        -3.10769603e-02,  3.74543257e-02,  7.58298710e-02,\n",
              "         3.05596683e-02,  3.72751802e-02, -2.48581152e-02,\n",
              "         6.18962049e-02, -1.84818972e-02,  6.88393936e-02,\n",
              "         3.59050371e-02, -2.47768331e-02,  5.47984838e-02,\n",
              "        -6.48887232e-02,  5.21208830e-02,  5.55461869e-02,\n",
              "        -3.29102129e-02, -3.39252804e-03, -3.08020972e-02,\n",
              "        -4.84316191e-03,  1.39481798e-02,  2.93175168e-02,\n",
              "         1.32737318e-02, -6.01804666e-02,  4.43635415e-03,\n",
              "         1.55657204e-02,  5.05672991e-02, -7.63425678e-02,\n",
              "         4.38852273e-02,  3.62758003e-02, -6.86491802e-02,\n",
              "         3.23444717e-02,  7.95137584e-02, -6.13629147e-02,\n",
              "        -5.75279398e-03, -2.67696660e-02, -5.46853282e-02,\n",
              "         5.90503216e-04, -2.99186297e-02, -7.04861358e-02,\n",
              "         7.67463222e-02,  6.88142469e-03, -1.33684017e-02,\n",
              "         5.52079082e-03,  1.88865419e-02, -6.52082078e-03,\n",
              "        -1.05836643e-02,  7.16900602e-02,  3.52317393e-02,\n",
              "        -7.74233253e-04,  1.94234122e-02, -6.38379678e-02,\n",
              "        -6.01929501e-02, -4.54081548e-03,  3.21146064e-02,\n",
              "         3.19296271e-02, -1.74950634e-03,  3.63450237e-02,\n",
              "         5.78967892e-02, -3.90746966e-02, -3.27384751e-03,\n",
              "         5.02908155e-02, -1.89281758e-02, -3.16564851e-02,\n",
              "        -3.77066620e-02,  9.55472700e-03, -3.51134464e-02,\n",
              "         7.57182389e-02, -2.60457844e-02,  1.39180291e-02,\n",
              "        -7.95226395e-02,  4.22249734e-02, -8.04060251e-02,\n",
              "         7.35596344e-02,  4.55855429e-02,  3.28011140e-02,\n",
              "        -5.51226403e-05, -3.99091234e-03,  1.86334327e-02,\n",
              "         8.74654949e-03,  3.26461010e-02,  2.37723384e-02,\n",
              "         2.93499548e-02,  6.69511314e-03,  6.90758303e-02,\n",
              "         4.61131521e-02, -8.43368098e-02,  5.08681126e-02,\n",
              "        -6.16362058e-02,  2.71649333e-03, -6.41477481e-02,\n",
              "         4.01006639e-03, -7.15187266e-02, -1.01954322e-02,\n",
              "        -2.79102959e-02, -8.35785046e-02,  3.46542783e-02,\n",
              "         4.42305021e-03, -2.78941635e-02, -4.56474125e-02,\n",
              "         6.90888464e-02,  2.16432810e-02, -6.11519404e-02,\n",
              "         2.36201799e-03,  2.77811056e-03,  1.51549950e-02,\n",
              "         2.54676491e-02, -1.91192736e-03,  7.12964460e-02,\n",
              "        -7.24578574e-02,  1.00020375e-02, -5.21012247e-02,\n",
              "         3.62801477e-02, -1.14281652e-02,  4.23217565e-02,\n",
              "         2.86910869e-02,  2.41083466e-02, -5.02108857e-02,\n",
              "        -7.64190033e-02,  3.02965660e-02, -1.58710051e-02,\n",
              "        -5.39562628e-02,  3.38376462e-02,  6.45966008e-02,\n",
              "        -8.10366273e-02,  7.03770593e-02, -2.55335681e-03,\n",
              "        -7.49557419e-03,  3.07882167e-02, -7.28083700e-02,\n",
              "         2.35369503e-02,  2.25978028e-02,  7.25277886e-02,\n",
              "         5.51174469e-02,  2.28469744e-02,  3.04802810e-03,\n",
              "        -8.61826017e-02, -7.03310147e-02,  6.29687682e-02,\n",
              "        -1.99818127e-02,  2.86953300e-02, -2.57123020e-02,\n",
              "         4.18495201e-02, -6.30138367e-02, -9.52610653e-03,\n",
              "         5.79606406e-02,  2.34694500e-02,  2.94633582e-02,\n",
              "        -6.35160282e-02, -5.90726696e-02,  1.75323989e-02,\n",
              "        -1.94755774e-02, -3.30679608e-03, -3.08825281e-02,\n",
              "        -7.98957348e-02,  6.11297861e-02, -4.39788923e-02,\n",
              "        -2.87117939e-02,  1.39905307e-02,  1.36154704e-02,\n",
              "        -5.67691140e-02, -5.47287948e-02,  5.83860092e-03,\n",
              "         1.68918781e-02,  3.83416638e-02, -1.43436724e-02,\n",
              "         8.18884373e-02,  3.54811922e-02, -5.83605431e-02,\n",
              "         3.44884507e-02,  4.57038060e-02, -5.85600697e-02,\n",
              "        -4.64110170e-03,  4.04959079e-03, -4.62683551e-02,\n",
              "         3.87382880e-02, -2.85351537e-02,  6.28676564e-02,\n",
              "        -1.59900244e-02,  8.55657458e-02, -6.40490651e-02,\n",
              "        -1.91100724e-02, -4.88651879e-02,  6.00157864e-02,\n",
              "         1.39720785e-02, -6.34834990e-02, -9.42015368e-03,\n",
              "         5.16073173e-03, -4.66663204e-02, -3.54810357e-02,\n",
              "         2.63903793e-02, -5.00531383e-02,  5.76054677e-03,\n",
              "         3.27312923e-03,  3.46802585e-02,  1.74388401e-02,\n",
              "         5.13213361e-03, -3.53911817e-02,  2.16140337e-02,\n",
              "        -6.77176043e-02,  1.36984158e-02, -4.14973460e-02,\n",
              "         6.49475232e-02, -3.45006958e-03,  1.55145656e-02,\n",
              "         1.58216804e-02, -4.13659438e-02, -1.09974656e-03,\n",
              "        -4.36409470e-03,  2.86836568e-02,  1.43851908e-02,\n",
              "        -7.04318136e-02,  5.04619144e-02, -2.55634380e-03,\n",
              "        -4.39179689e-03,  4.56552133e-02, -6.45982400e-02,\n",
              "        -1.63009260e-02, -2.57172994e-02, -7.91537669e-03,\n",
              "         5.36901578e-02, -2.81842891e-02,  9.27617960e-03,\n",
              "         7.40485340e-02,  2.79587768e-02,  1.60316043e-02,\n",
              "         3.71120386e-02,  7.26286769e-02]], dtype=float32)>"
            ]
          },
          "metadata": {},
          "execution_count": 32
        }
      ]
    },
    {
      "cell_type": "code",
      "source": [
        "embed_Layer=hub.KerasLayer('https://tfhub.dev/google/universal-sentence-encoder/4',\n",
        "                           input_shape=[],\n",
        "                           trainable=False,\n",
        "                           dtype=tf.string,\n",
        "                           name=\"USE\")"
      ],
      "metadata": {
        "id": "m-tDBM206Clh"
      },
      "execution_count": null,
      "outputs": []
    },
    {
      "cell_type": "code",
      "source": [
        "model_hub=tf.keras.Sequential([\n",
        "    embed_Layer, # take in sentences and then encode them into an embedding\n",
        "    layers.Dense(128,activation='relu'),\n",
        "    layers.Dense(128,activation='relu'),\n",
        "    layers.Dense(1,activation='sigmoid')\n",
        "\n",
        "],name=\"model_hub\")\n",
        "\n",
        "model_hub.compile(loss=\"binary_crossentropy\",\n",
        "                optimizer=tf.keras.optimizers.Adam(),\n",
        "                metrics=[\"accuracy\"])\n",
        "\n",
        "model_hub_history=model_hub.fit(train_sentences,\n",
        "              train_labels,\n",
        "              epochs=5,\n",
        "              validation_data=(val_sentences,val_labels))\n",
        "\n"
      ],
      "metadata": {
        "colab": {
          "base_uri": "https://localhost:8080/"
        },
        "id": "DxTBArVG-iw8",
        "outputId": "cc15ddcc-15a7-41af-81d1-8104e8093c64"
      },
      "execution_count": null,
      "outputs": [
        {
          "output_type": "stream",
          "name": "stdout",
          "text": [
            "Epoch 1/5\n",
            "215/215 [==============================] - 8s 19ms/step - loss: 0.4691 - accuracy: 0.7859 - val_loss: 0.4316 - val_accuracy: 0.8071\n",
            "Epoch 2/5\n",
            "215/215 [==============================] - 3s 12ms/step - loss: 0.3935 - accuracy: 0.8254 - val_loss: 0.4259 - val_accuracy: 0.8123\n",
            "Epoch 3/5\n",
            "215/215 [==============================] - 3s 15ms/step - loss: 0.3640 - accuracy: 0.8415 - val_loss: 0.4162 - val_accuracy: 0.8241\n",
            "Epoch 4/5\n",
            "215/215 [==============================] - 3s 14ms/step - loss: 0.3292 - accuracy: 0.8626 - val_loss: 0.4299 - val_accuracy: 0.8150\n",
            "Epoch 5/5\n",
            "215/215 [==============================] - 3s 12ms/step - loss: 0.2874 - accuracy: 0.8825 - val_loss: 0.4564 - val_accuracy: 0.8110\n"
          ]
        }
      ]
    },
    {
      "cell_type": "code",
      "source": [
        "model_hub_pred=model_hub.predict(val_sentences)\n",
        "model_hub_pred=tf.squeeze(tf.round(model_hub_pred))\n",
        "model_hub_pred"
      ],
      "metadata": {
        "id": "ZnCnP75V_wvn"
      },
      "execution_count": null,
      "outputs": []
    },
    {
      "cell_type": "code",
      "source": [
        "# Calculate model_hub_results\n",
        "model_hub_results = calculate_results(y_true=val_labels,\n",
        "                                    y_pred=model_hub_pred)\n",
        "model_hub_results"
      ],
      "metadata": {
        "colab": {
          "base_uri": "https://localhost:8080/"
        },
        "id": "eBJl36ndDOLG",
        "outputId": "da417abd-8a84-4f68-9f0a-9665acac8a06"
      },
      "execution_count": null,
      "outputs": [
        {
          "output_type": "execute_result",
          "data": {
            "text/plain": [
              "{'accuracy': 81.10236220472441,\n",
              " 'precision': 0.8120722444527235,\n",
              " 'recall': 0.8110236220472441,\n",
              " 'f1': 0.8098976666616808}"
            ]
          },
          "metadata": {},
          "execution_count": 36
        }
      ]
    },
    {
      "cell_type": "code",
      "source": [
        "plot_loss_curves(model_hub_history)\n"
      ],
      "metadata": {
        "colab": {
          "base_uri": "https://localhost:8080/",
          "height": 927
        },
        "id": "Mah-2fysBATT",
        "outputId": "c6e47384-f91c-45f1-940f-b295bdb54afc"
      },
      "execution_count": null,
      "outputs": [
        {
          "output_type": "display_data",
          "data": {
            "text/plain": [
              "<Figure size 640x480 with 1 Axes>"
            ],
            "image/png": "[encoded data removed]"
          },
          "metadata": {}
        },
        {
          "output_type": "display_data",
          "data": {
            "text/plain": [
              "<Figure size 640x480 with 1 Axes>"
            ],
            "image/png": "[encoded data removed]"
          },
          "metadata": {}
        }
      ]
    },
    {
      "cell_type": "markdown",
      "source": [
        "One of the benefits of using transfer learning methods, such as, the pretrained embeddings within the USE is the ability to get great results on a small amount of data"
      ],
      "metadata": {
        "id": "QtyXum_0NgTz"
      }
    },
    {
      "cell_type": "markdown",
      "source": [
        "# Key Note:\n",
        "\n",
        "Transfer Learning works or train finely on small amount of data so we will feed 10% of our train data to the model.\n",
        "For that we use.sample()function\n",
        "\n",
        ".sample() is an inbuilt function of random module in Python that returns a particular length list of items chosen from the sequence"
      ],
      "metadata": {
        "id": "JQ6Nq7wITcYZ"
      }
    },
    {
      "cell_type": "code",
      "source": [
        "train_10_percent_data=train_df_shuffled[['text','target']].sample(frac=0.1,random_state=42)\n",
        "train_10_percent_sentences=train_10_percent_data['text'].to_list()\n",
        "train_10_percent_labels=train_10_percent_data['target'].to_list()\n"
      ],
      "metadata": {
        "id": "iIRhjYGeNgIp"
      },
      "execution_count": null,
      "outputs": []
    },
    {
      "cell_type": "markdown",
      "source": [
        "Rather than typing whole model we can use tf.keras.models.clone_model() method to use any model that we have create earlier"
      ],
      "metadata": {
        "id": "ncPNV-h3Uc--"
      }
    },
    {
      "cell_type": "code",
      "source": [
        "hub_model_clone=tf.keras.models.clone_model(model_hub)\n",
        "hub_model_clone.compile(loss=\"binary_crossentropy\",\n",
        "                optimizer=tf.keras.optimizers.Adam(),\n",
        "                metrics=[\"accuracy\"])\n",
        "hub_model_clone.fit(train_10_percent_sentences,\n",
        "                    train_10_percent_labels,\n",
        "                    epochs=5,\n",
        "                    validation_data=(val_sentences,val_labels))"
      ],
      "metadata": {
        "colab": {
          "base_uri": "https://localhost:8080/"
        },
        "id": "5YyNlnO8QNVN",
        "outputId": "957b4f44-1435-403a-f6db-ab7507cf0176"
      },
      "execution_count": null,
      "outputs": [
        {
          "output_type": "stream",
          "name": "stdout",
          "text": [
            "Epoch 1/5\n",
            "24/24 [==============================] - 4s 41ms/step - loss: 0.6611 - accuracy: 0.7070 - val_loss: 0.5838 - val_accuracy: 0.8281\n",
            "Epoch 2/5\n",
            "24/24 [==============================] - 1s 22ms/step - loss: 0.5053 - accuracy: 0.8055 - val_loss: 0.4071 - val_accuracy: 0.8228\n",
            "Epoch 3/5\n",
            "24/24 [==============================] - 0s 21ms/step - loss: 0.3918 - accuracy: 0.8318 - val_loss: 0.3320 - val_accuracy: 0.8622\n",
            "Epoch 4/5\n",
            "24/24 [==============================] - 1s 40ms/step - loss: 0.3235 - accuracy: 0.8620 - val_loss: 0.2754 - val_accuracy: 0.8976\n",
            "Epoch 5/5\n",
            "24/24 [==============================] - 1s 48ms/step - loss: 0.2680 - accuracy: 0.8922 - val_loss: 0.2115 - val_accuracy: 0.9304\n"
          ]
        },
        {
          "output_type": "execute_result",
          "data": {
            "text/plain": [
              "<keras.callbacks.History at 0x7e585813d480>"
            ]
          },
          "metadata": {},
          "execution_count": 39
        }
      ]
    },
    {
      "cell_type": "code",
      "source": [
        "hub_model_clone_pred=hub_model_clone.predict(val_sentences)\n",
        "hub_model_clone_pred=tf.squeeze(tf.round(hub_model_clone_pred))\n",
        "hub_model_clone_pred_results = calculate_results(y_true=val_labels,\n",
        "                                    y_pred=hub_model_clone_pred)\n",
        "hub_model_clone_pred_results\n"
      ],
      "metadata": {
        "colab": {
          "base_uri": "https://localhost:8080/"
        },
        "id": "FplmMnlCSTgi",
        "outputId": "42d14842-7574-4bcb-d9d3-a93fe5b93d05"
      },
      "execution_count": null,
      "outputs": [
        {
          "output_type": "stream",
          "name": "stdout",
          "text": [
            "24/24 [==============================] - 1s 9ms/step\n"
          ]
        },
        {
          "output_type": "execute_result",
          "data": {
            "text/plain": [
              "{'accuracy': 93.04461942257218,\n",
              " 'precision': 0.9319387997225046,\n",
              " 'recall': 0.9304461942257218,\n",
              " 'f1': 0.9301697352160784}"
            ]
          },
          "metadata": {},
          "execution_count": 40
        }
      ]
    },
    {
      "cell_type": "markdown",
      "source": [
        "# Comparision:-\n",
        "\n",
        "model_hub is train on complete data its results are:-\n",
        "\n",
        " {'accuracy': 81.49606299212599,\n",
        "\n",
        " 'precision': 0.8213263064063367,\n",
        "\n",
        " 'recall': 0.8149606299212598,\n",
        "\n",
        " 'f1': 0.8122943055211593}\n",
        "\n",
        "\n",
        " hub_model is a clone model of the model_hub but train on 10% of data its results are:-\n",
        "\n",
        "24/24 [==============================] - 0s 16ms/step\n",
        "{'accuracy': 92.51968503937007,\n",
        "\n",
        " 'precision': 0.9263808218304695,\n",
        "\n",
        " 'recall': 0.9251968503937008,\n",
        "\n",
        " 'f1': 0.9249294924436201}\n",
        "\n"
      ],
      "metadata": {
        "id": "FldLj6yiU6z0"
      }
    },
    {
      "cell_type": "markdown",
      "source": [
        "# saving model & loading it.\n",
        "\n",
        "Saving your models also enables you to export them for use elsewhere\n",
        "\n",
        "outside of your notebooks, such as in a web application.\n",
        "\n",
        "There are two main ways of saving a model in TensorFlow:\n",
        "\n",
        "The HDF5 format.\n",
        "\n",
        "The SavedModel format (default)."
      ],
      "metadata": {
        "id": "M_NBbJplTILo"
      }
    },
    {
      "cell_type": "code",
      "source": [],
      "metadata": {
        "id": "G-kTas9PVShV"
      },
      "execution_count": null,
      "outputs": []
    },
    {
      "cell_type": "code",
      "source": [
        "hub_model_clone.save('hub_model_clone.h5')"
      ],
      "metadata": {
        "id": "FJadmj8wVTnE"
      },
      "execution_count": null,
      "outputs": []
    },
    {
      "cell_type": "code",
      "source": [
        "from tensorflow_hub.keras_layer import KerasLayer\n",
        "final_model=tf.keras.models.load_model('hub_model_clone.h5',\n",
        "                                       custom_objects={\"KerasLayer\": hub.KerasLayer})"
      ],
      "metadata": {
        "id": "TUxsP9YWV_bT"
      },
      "execution_count": null,
      "outputs": []
    },
    {
      "cell_type": "code",
      "source": [
        "final_model_pred=final_model.predict(val_sentences)\n",
        "final_model_pred=tf.squeeze(tf.round(final_model_pred))\n",
        "final_model_results=calculate_results(y_true=val_labels,\n",
        "                                    y_pred=final_model_pred)\n",
        "final_model_results\n",
        "final_model_pred[:10]\n"
      ],
      "metadata": {
        "colab": {
          "base_uri": "https://localhost:8080/"
        },
        "id": "9zp8bfABVw61",
        "outputId": "d431ccc0-2bd4-41cf-c5d2-8aabb7b8d5c1"
      },
      "execution_count": null,
      "outputs": [
        {
          "output_type": "stream",
          "name": "stdout",
          "text": [
            "24/24 [==============================] - 1s 9ms/step\n"
          ]
        },
        {
          "output_type": "execute_result",
          "data": {
            "text/plain": [
              "<tf.Tensor: shape=(10,), dtype=float32, numpy=array([0., 1., 1., 0., 1., 1., 1., 1., 1., 0.], dtype=float32)>"
            ]
          },
          "metadata": {},
          "execution_count": 43
        }
      ]
    },
    {
      "cell_type": "code",
      "source": [
        "final_model.evaluate(val_sentences,val_labels)"
      ],
      "metadata": {
        "colab": {
          "base_uri": "https://localhost:8080/"
        },
        "id": "Wgu1uVFSXnli",
        "outputId": "1b3b928e-9694-46f8-e405-45b0ccbba4e9"
      },
      "execution_count": null,
      "outputs": [
        {
          "output_type": "stream",
          "name": "stdout",
          "text": [
            "24/24 [==============================] - 1s 10ms/step - loss: 0.2115 - accuracy: 0.9304\n"
          ]
        },
        {
          "output_type": "execute_result",
          "data": {
            "text/plain": [
              "[0.21151559054851532, 0.930446207523346]"
            ]
          },
          "metadata": {},
          "execution_count": 44
        }
      ]
    },
    {
      "cell_type": "markdown",
      "source": [
        "##Making predictions on the test dataset\n",
        "We don't have labels for the test dataset so we're going to have to make some predictions and inspect them"
      ],
      "metadata": {
        "id": "_g9MOSFKZcBx"
      }
    },
    {
      "cell_type": "code",
      "source": [
        "test_sentences=test_df['text'].to_list()\n",
        "random_sentence=random.sample(test_sentences,10) # we will consider any random 10 sentences from the test_sentences.\n",
        "for random_sentence in random_sentence:\n",
        "  probability=tf.squeeze((final_model.predict([random_sentence])))# has to be list\n",
        "  prediction=tf.round(probability)\n",
        "  print('text:{}'.format(random_sentence))\n",
        "  print('pred_prob:{}'.format(probability))\n",
        "  print(\"prediction:{}\".format(prediction))\n",
        "  print(\"----\\n\")\n",
        "\n"
      ],
      "metadata": {
        "colab": {
          "base_uri": "https://localhost:8080/"
        },
        "id": "BCH57LKLb9p-",
        "outputId": "4db23e57-b67a-4392-db82-09afdfe9397b"
      },
      "execution_count": null,
      "outputs": [
        {
          "output_type": "stream",
          "name": "stdout",
          "text": [
            "1/1 [==============================] - 0s 38ms/step\n",
            "text:3 out of the 4 people I'm camping with I would happily see fall of a cliff.\n",
            "pred_prob:0.15596580505371094\n",
            "prediction:0.0\n",
            "----\n",
            "\n",
            "1/1 [==============================] - 0s 38ms/step\n",
            "text:#CTA GREEN LINE: All passengers have been evacuated due to a derailment however no service Garfield-Cottage Grove. http://t.co/qePJ0Hwpay\n",
            "pred_prob:0.9793047308921814\n",
            "prediction:1.0\n",
            "----\n",
            "\n",
            "1/1 [==============================] - 0s 42ms/step\n",
            "text:Hailstorm cleanup begins in Calgary http://t.co/DhH5jz2w49\n",
            "pred_prob:0.9171122908592224\n",
            "prediction:1.0\n",
            "----\n",
            "\n",
            "1/1 [==============================] - 0s 39ms/step\n",
            "text:'I must not fear. Fear is the mind-killer. Fear is the little-death that brings total obliteration... http://t.co/oERI3uWnRY\n",
            "pred_prob:0.10670613497495651\n",
            "prediction:0.0\n",
            "----\n",
            "\n",
            "1/1 [==============================] - 0s 40ms/step\n",
            "text:U.S National Park Services Tonto National Forest: Stop the Annihilation of the Salt River Wild Horse... https://t.co/FLcQQeZnVW via @Change\n",
            "pred_prob:0.5694236159324646\n",
            "prediction:1.0\n",
            "----\n",
            "\n",
            "1/1 [==============================] - 0s 41ms/step\n",
            "text:@freeagent1717 @ChaseIngram @amandagiroux28 lol I saw something like that last cops was quarantined taking him out the house etc\n",
            "pred_prob:0.47894397377967834\n",
            "prediction:0.0\n",
            "----\n",
            "\n",
            "1/1 [==============================] - 0s 40ms/step\n",
            "text:@ReasonVsFear 'One?'  Oh nonononono.  This hijacking's been going on forever but I've seen it about a dozen diff places today alone.\n",
            "pred_prob:0.4895727038383484\n",
            "prediction:0.0\n",
            "----\n",
            "\n",
            "1/1 [==============================] - 0s 41ms/step\n",
            "text:Photo: mothernaturenetwork: SeattleÛªs demolition-dodging Û÷UpÛª house to live on as affordable housing But... http://t.co/szG0HsNJEw\n",
            "pred_prob:0.18788740038871765\n",
            "prediction:0.0\n",
            "----\n",
            "\n",
            "1/1 [==============================] - 0s 39ms/step\n",
            "text:We're #hiring! Click to apply: Registered Nurse - Emergency Department PEDS Fellowship (FTE .9 Night) - http://t.co/AmCMCltkKC #Nursing\n",
            "pred_prob:0.09419550001621246\n",
            "prediction:0.0\n",
            "----\n",
            "\n",
            "1/1 [==============================] - 0s 38ms/step\n",
            "text:Don't blame the messenger. Food panic in Venezuela. 1 minute video.Thanks SHTFPlan!\n",
            "https://t.co/QBSTQXA6QX\n",
            "pred_prob:0.8171091079711914\n",
            "prediction:1.0\n",
            "----\n",
            "\n"
          ]
        }
      ]
    },
    {
      "cell_type": "markdown",
      "source": [
        "#Create a Function which will load the model and random tweets and will comment whether the tweets is resembling a disaster or not"
      ],
      "metadata": {
        "id": "H2v9v2BpfOgb"
      }
    },
    {
      "cell_type": "code",
      "source": [
        "def disaster_predictor(model,tweet):\n",
        "  pred_prob=model.predict([tweet])\n",
        "  result=tf.squeeze(tf.round(pred_prob)).numpy()\n",
        "  print(\"Tweet: {}\".format(tweet))\n",
        "  if result>0:\n",
        "    print('real disaster')\n",
        "  elif result<=0:\n",
        "    print('Not disaster')"
      ],
      "metadata": {
        "id": "V5TZpIuQfwPj"
      },
      "execution_count": null,
      "outputs": []
    },
    {
      "cell_type": "code",
      "source": [
        "tweet=' Over 110 killed in earthquake: Nepal Home Ministry (PTI)'"
      ],
      "metadata": {
        "id": "HMDbGLEWhRji"
      },
      "execution_count": null,
      "outputs": []
    },
    {
      "cell_type": "code",
      "source": [
        "disaster_predictor(final_model,tweet)"
      ],
      "metadata": {
        "colab": {
          "base_uri": "https://localhost:8080/"
        },
        "id": "5otEF5k7hdpa",
        "outputId": "c17d5298-75ea-490b-8472-43ab381b4f57"
      },
      "execution_count": null,
      "outputs": [
        {
          "output_type": "stream",
          "name": "stdout",
          "text": [
            "1/1 [==============================] - 0s 41ms/step\n",
            "Tweet:  Over 110 killed in earthquake: Nepal Home Ministry (PTI)\n",
            "real disaster\n"
          ]
        }
      ]
    },
    {
      "cell_type": "code",
      "source": [],
      "metadata": {
        "id": "vQMQ_8H4hl3_"
      },
      "execution_count": null,
      "outputs": []
    }
  ]
}